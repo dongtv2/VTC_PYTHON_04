{
 "cells": [
  {
   "cell_type": "code",
   "execution_count": 30,
   "source": [
    "import numpy as np"
   ],
   "outputs": [],
   "metadata": {}
  },
  {
   "cell_type": "code",
   "execution_count": 90,
   "source": [
    "# np.random.seed(0)\r\n",
    "# Create array N > 50, positive integer , between difference not more than 2\r\n",
    "N = 51\r\n",
    "NumList = [i for i in range(N,80)]\r\n",
    "NumArray = np.array(NumList)\r\n",
    "# Calculate average, range, mean, max, sum of list\r\n",
    "Max = np.max(NumArray)\r\n",
    "Min = np.min(NumArray)\r\n",
    "Mean = np.mean(NumArray)\r\n",
    "Sum = sum(NumArray)\r\n",
    "Var = np.poly1d(NumArray)\r\n",
    "Derivative = [NumList[i - 1] -x for i, x in enumerate(NumList)][1:]\r\n",
    "print(Max,Min, Mean,Sum)\r\n",
    "print(Derivative)\r\n",
    "print((NumList)[1:])"
   ],
   "outputs": [
    {
     "output_type": "stream",
     "name": "stdout",
     "text": [
      "79 51 65.0 1885\n",
      "[-1, -1, -1, -1, -1, -1, -1, -1, -1, -1, -1, -1, -1, -1, -1, -1, -1, -1, -1, -1, -1, -1, -1, -1, -1, -1, -1, -1]\n",
      "[52, 53, 54, 55, 56, 57, 58, 59, 60, 61, 62, 63, 64, 65, 66, 67, 68, 69, 70, 71, 72, 73, 74, 75, 76, 77, 78, 79]\n"
     ]
    }
   ],
   "metadata": {}
  },
  {
   "cell_type": "code",
   "execution_count": 87,
   "source": [
    "def inputN(N):\r\n",
    "    NumList = [i for i in range(N,80,3)]\r\n",
    "    NumArray = np.array(NumList)\r\n",
    "    Max = np.max(NumArray)\r\n",
    "    Min = np.min(NumArray)\r\n",
    "    Mean = np.mean(NumArray)\r\n",
    "    Sum = sum(NumArray)\r\n",
    "    Derivative = [NumList[i - 1] -x for i, x in enumerate(NumList)][1:]\r\n",
    "    return NumArray, Max,Min,Mean,Sum,Derivative"
   ],
   "outputs": [],
   "metadata": {}
  },
  {
   "cell_type": "code",
   "execution_count": 82,
   "source": [
    "def inputN1(N):\r\n",
    "    NumList = [i for i in range(N,80,3)]\r\n",
    "    NumArray = np.array(NumList)\r\n",
    "    Max = np.max(NumArray)\r\n",
    "    Min = np.min(NumArray)\r\n",
    "    Mean = np.mean(NumArray)\r\n",
    "    Sum = sum(NumArray)\r\n",
    "    for i in range(len(NumList)-1):\r\n",
    "        Subtract = NumList[i] - NumList[i+1]\r\n",
    "        print(Subtract, end=\"\")\r\n",
    "    return NumArray, Max,Min,Mean,Sum"
   ],
   "outputs": [],
   "metadata": {}
  },
  {
   "cell_type": "code",
   "execution_count": 83,
   "source": [
    "inputN1(60)"
   ],
   "outputs": [
    {
     "output_type": "stream",
     "name": "stdout",
     "text": [
      "-3-3-3-3-3-3"
     ]
    },
    {
     "output_type": "execute_result",
     "data": {
      "text/plain": [
       "(array([60, 63, 66, 69, 72, 75, 78]), 78, 60, 69.0, 483)"
      ]
     },
     "metadata": {},
     "execution_count": 83
    }
   ],
   "metadata": {}
  },
  {
   "cell_type": "code",
   "execution_count": 88,
   "source": [
    "inputN(60)"
   ],
   "outputs": [
    {
     "output_type": "execute_result",
     "data": {
      "text/plain": [
       "(array([60, 63, 66, 69, 72, 75, 78]),\n",
       " 78,\n",
       " 60,\n",
       " 69.0,\n",
       " 483,\n",
       " [-3, -3, -3, -3, -3, -3])"
      ]
     },
     "metadata": {},
     "execution_count": 88
    }
   ],
   "metadata": {}
  },
  {
   "cell_type": "code",
   "execution_count": 94,
   "source": [
    "NumList[i-3]"
   ],
   "outputs": [
    {
     "output_type": "execute_result",
     "data": {
      "text/plain": [
       "51"
      ]
     },
     "metadata": {},
     "execution_count": 94
    }
   ],
   "metadata": {}
  },
  {
   "cell_type": "code",
   "execution_count": 1,
   "source": [
    "import re\r\n",
    "\r\n",
    "while(True):\r\n",
    "    ask = f\"Input username - product - comment\"\r\n",
    "    answer = input(ask).title()\r\n",
    "    data = re.findall(r\"[\\w\\s.]+\", answer)\r\n",
    "    if data[0] == \"\":\r\n",
    "        break\r\n",
    "\r\n"
   ],
   "outputs": [
    {
     "output_type": "stream",
     "name": "stdout",
     "text": [
      "You complete selection product\n"
     ]
    }
   ],
   "metadata": {}
  },
  {
   "cell_type": "code",
   "execution_count": 5,
   "source": [
    "nProduct"
   ],
   "outputs": [
    {
     "output_type": "execute_result",
     "data": {
      "text/plain": [
       "'Thuoc'"
      ]
     },
     "metadata": {},
     "execution_count": 5
    }
   ],
   "metadata": {}
  },
  {
   "cell_type": "code",
   "execution_count": 1,
   "source": [
    "import pandas as pd\r\n",
    "username = [\"Dong\",\"Tuan\",\"Chi\"]\r\n",
    "product = [\"Banh\",\"Keo\",\"Bia\"]\r\n",
    "comment = [\"Ngon\", \"Khong Ngon\", \"Tam duoc\"]\r\n",
    "df = pd.DataFrame(username,product,comment)"
   ],
   "outputs": [
    {
     "output_type": "error",
     "ename": "ImportError",
     "evalue": "Unable to import required dependencies:\nnumpy: \n\nIMPORTANT: PLEASE READ THIS FOR ADVICE ON HOW TO SOLVE THIS ISSUE!\n\nImporting the numpy C-extensions failed. This error can happen for\nmany reasons, often due to issues with your setup or how NumPy was\ninstalled.\n\nWe have compiled some common reasons and troubleshooting tips at:\n\n    https://numpy.org/devdocs/user/troubleshooting-importerror.html\n\nPlease note and check the following:\n\n  * The Python version is: Python3.9 from \"c:\\vsCode\\git\\VTC_PYTHON_04\\.venv\\Scripts\\python.exe\"\n  * The NumPy version is: \"1.21.2\"\n\nand make sure that they are the versions you expect.\nPlease carefully study the documentation linked above for further help.\n\nOriginal error was: No module named 'numpy.core._multiarray_umath'\n",
     "traceback": [
      "\u001b[1;31m---------------------------------------------------------------------------\u001b[0m",
      "\u001b[1;31mImportError\u001b[0m                               Traceback (most recent call last)",
      "\u001b[1;32m~\\AppData\\Local\\Temp/ipykernel_22096/528091886.py\u001b[0m in \u001b[0;36m<module>\u001b[1;34m\u001b[0m\n\u001b[1;32m----> 1\u001b[1;33m \u001b[1;32mimport\u001b[0m \u001b[0mpandas\u001b[0m \u001b[1;32mas\u001b[0m \u001b[0mpd\u001b[0m\u001b[1;33m\u001b[0m\u001b[1;33m\u001b[0m\u001b[0m\n\u001b[0m\u001b[0;32m      2\u001b[0m \u001b[0musername\u001b[0m \u001b[1;33m=\u001b[0m \u001b[1;33m[\u001b[0m\u001b[1;34m\"Dong\"\u001b[0m\u001b[1;33m,\u001b[0m\u001b[1;34m\"Tuan\"\u001b[0m\u001b[1;33m,\u001b[0m\u001b[1;34m\"Chi\"\u001b[0m\u001b[1;33m]\u001b[0m\u001b[1;33m\u001b[0m\u001b[1;33m\u001b[0m\u001b[0m\n\u001b[0;32m      3\u001b[0m \u001b[0mproduct\u001b[0m \u001b[1;33m=\u001b[0m \u001b[1;33m[\u001b[0m\u001b[1;34m\"Banh\"\u001b[0m\u001b[1;33m,\u001b[0m\u001b[1;34m\"Keo\"\u001b[0m\u001b[1;33m,\u001b[0m\u001b[1;34m\"Bia\"\u001b[0m\u001b[1;33m]\u001b[0m\u001b[1;33m\u001b[0m\u001b[1;33m\u001b[0m\u001b[0m\n\u001b[0;32m      4\u001b[0m \u001b[0mcomment\u001b[0m \u001b[1;33m=\u001b[0m \u001b[1;33m[\u001b[0m\u001b[1;34m\"Ngon\"\u001b[0m\u001b[1;33m,\u001b[0m \u001b[1;34m\"Khong Ngon\"\u001b[0m\u001b[1;33m,\u001b[0m \u001b[1;34m\"Tam duoc\"\u001b[0m\u001b[1;33m]\u001b[0m\u001b[1;33m\u001b[0m\u001b[1;33m\u001b[0m\u001b[0m\n\u001b[0;32m      5\u001b[0m \u001b[0mdf\u001b[0m \u001b[1;33m=\u001b[0m \u001b[0mpd\u001b[0m\u001b[1;33m.\u001b[0m\u001b[0mDataFrame\u001b[0m\u001b[1;33m(\u001b[0m\u001b[0musername\u001b[0m\u001b[1;33m,\u001b[0m\u001b[0mproduct\u001b[0m\u001b[1;33m,\u001b[0m\u001b[0mcomment\u001b[0m\u001b[1;33m)\u001b[0m\u001b[1;33m\u001b[0m\u001b[1;33m\u001b[0m\u001b[0m\n",
      "\u001b[1;32mc:\\vsCode\\git\\VTC_PYTHON_04\\.venv\\lib\\site-packages\\pandas\\__init__.py\u001b[0m in \u001b[0;36m<module>\u001b[1;34m\u001b[0m\n\u001b[0;32m     14\u001b[0m \u001b[1;33m\u001b[0m\u001b[0m\n\u001b[0;32m     15\u001b[0m \u001b[1;32mif\u001b[0m \u001b[0mmissing_dependencies\u001b[0m\u001b[1;33m:\u001b[0m\u001b[1;33m\u001b[0m\u001b[1;33m\u001b[0m\u001b[0m\n\u001b[1;32m---> 16\u001b[1;33m     raise ImportError(\n\u001b[0m\u001b[0;32m     17\u001b[0m         \u001b[1;34m\"Unable to import required dependencies:\\n\"\u001b[0m \u001b[1;33m+\u001b[0m \u001b[1;34m\"\\n\"\u001b[0m\u001b[1;33m.\u001b[0m\u001b[0mjoin\u001b[0m\u001b[1;33m(\u001b[0m\u001b[0mmissing_dependencies\u001b[0m\u001b[1;33m)\u001b[0m\u001b[1;33m\u001b[0m\u001b[1;33m\u001b[0m\u001b[0m\n\u001b[0;32m     18\u001b[0m     )\n",
      "\u001b[1;31mImportError\u001b[0m: Unable to import required dependencies:\nnumpy: \n\nIMPORTANT: PLEASE READ THIS FOR ADVICE ON HOW TO SOLVE THIS ISSUE!\n\nImporting the numpy C-extensions failed. This error can happen for\nmany reasons, often due to issues with your setup or how NumPy was\ninstalled.\n\nWe have compiled some common reasons and troubleshooting tips at:\n\n    https://numpy.org/devdocs/user/troubleshooting-importerror.html\n\nPlease note and check the following:\n\n  * The Python version is: Python3.9 from \"c:\\vsCode\\git\\VTC_PYTHON_04\\.venv\\Scripts\\python.exe\"\n  * The NumPy version is: \"1.21.2\"\n\nand make sure that they are the versions you expect.\nPlease carefully study the documentation linked above for further help.\n\nOriginal error was: No module named 'numpy.core._multiarray_umath'\n"
     ]
    }
   ],
   "metadata": {}
  }
 ],
 "metadata": {
  "orig_nbformat": 4,
  "language_info": {
   "name": "python",
   "version": "3.9.7",
   "mimetype": "text/x-python",
   "codemirror_mode": {
    "name": "ipython",
    "version": 3
   },
   "pygments_lexer": "ipython3",
   "nbconvert_exporter": "python",
   "file_extension": ".py"
  },
  "kernelspec": {
   "name": "python3",
   "display_name": "Python 3.9.7 64-bit ('.venv': venv)"
  },
  "interpreter": {
   "hash": "990db74c68a4ad8840817df42270103b57a024fca530d8647263614be491db87"
  }
 },
 "nbformat": 4,
 "nbformat_minor": 2
}