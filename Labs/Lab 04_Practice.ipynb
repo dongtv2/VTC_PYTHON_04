{
 "cells": [
  {
   "cell_type": "code",
   "execution_count": 30,
   "source": [
    "import numpy as np"
   ],
   "outputs": [],
   "metadata": {}
  },
  {
   "cell_type": "code",
   "execution_count": 90,
   "source": [
    "# np.random.seed(0)\n",
    "# Create array N > 50, positive integer , between difference not more than 2\n",
    "N = 51\n",
    "NumList = [i for i in range(N,80)]\n",
    "NumArray = np.array(NumList)\n",
    "# Calculate average, range, mean, max, sum of list\n",
    "Max = np.max(NumArray)\n",
    "Min = np.min(NumArray)\n",
    "Mean = np.mean(NumArray)\n",
    "Sum = sum(NumArray)\n",
    "Var = np.poly1d(NumArray)\n",
    "Derivative = [NumList[i - 1] -x for i, x in enumerate(NumList)][1:]\n",
    "print(Max,Min, Mean,Sum)\n",
    "print(Derivative)\n",
    "print((NumList)[1:])"
   ],
   "outputs": [
    {
     "output_type": "stream",
     "name": "stdout",
     "text": [
      "79 51 65.0 1885\n",
      "[-1, -1, -1, -1, -1, -1, -1, -1, -1, -1, -1, -1, -1, -1, -1, -1, -1, -1, -1, -1, -1, -1, -1, -1, -1, -1, -1, -1]\n",
      "[52, 53, 54, 55, 56, 57, 58, 59, 60, 61, 62, 63, 64, 65, 66, 67, 68, 69, 70, 71, 72, 73, 74, 75, 76, 77, 78, 79]\n"
     ]
    }
   ],
   "metadata": {}
  },
  {
   "cell_type": "code",
   "execution_count": 87,
   "source": [
    "def inputN(N):\n",
    "    NumList = [i for i in range(N,80,3)]\n",
    "    NumArray = np.array(NumList)\n",
    "    Max = np.max(NumArray)\n",
    "    Min = np.min(NumArray)\n",
    "    Mean = np.mean(NumArray)\n",
    "    Sum = sum(NumArray)\n",
    "    Derivative = [NumList[i - 1] -x for i, x in enumerate(NumList)][1:]\n",
    "    return NumArray, Max,Min,Mean,Sum,Derivative"
   ],
   "outputs": [],
   "metadata": {}
  },
  {
   "cell_type": "code",
   "execution_count": 82,
   "source": [
    "def inputN1(N):\n",
    "    NumList = [i for i in range(N,80,3)]\n",
    "    NumArray = np.array(NumList)\n",
    "    Max = np.max(NumArray)\n",
    "    Min = np.min(NumArray)\n",
    "    Mean = np.mean(NumArray)\n",
    "    Sum = sum(NumArray)\n",
    "    for i in range(len(NumList)-1):\n",
    "        Subtract = NumList[i] - NumList[i+1]\n",
    "        print(Subtract, end=\"\")\n",
    "    return NumArray, Max,Min,Mean,Sum"
   ],
   "outputs": [],
   "metadata": {}
  },
  {
   "cell_type": "code",
   "execution_count": 83,
   "source": [
    "inputN1(60)"
   ],
   "outputs": [
    {
     "output_type": "stream",
     "name": "stdout",
     "text": [
      "-3-3-3-3-3-3"
     ]
    },
    {
     "output_type": "execute_result",
     "data": {
      "text/plain": [
       "(array([60, 63, 66, 69, 72, 75, 78]), 78, 60, 69.0, 483)"
      ]
     },
     "metadata": {},
     "execution_count": 83
    }
   ],
   "metadata": {}
  },
  {
   "cell_type": "code",
   "execution_count": 88,
   "source": [
    "inputN(60)"
   ],
   "outputs": [
    {
     "output_type": "execute_result",
     "data": {
      "text/plain": [
       "(array([60, 63, 66, 69, 72, 75, 78]),\n",
       " 78,\n",
       " 60,\n",
       " 69.0,\n",
       " 483,\n",
       " [-3, -3, -3, -3, -3, -3])"
      ]
     },
     "metadata": {},
     "execution_count": 88
    }
   ],
   "metadata": {}
  },
  {
   "cell_type": "code",
   "execution_count": 94,
   "source": [
    "NumList[i-3]"
   ],
   "outputs": [
    {
     "output_type": "execute_result",
     "data": {
      "text/plain": [
       "51"
      ]
     },
     "metadata": {},
     "execution_count": 94
    }
   ],
   "metadata": {}
  },
  {
   "cell_type": "code",
   "execution_count": 120,
   "source": [
    "import re\n",
    "while(True):\n",
    "\n",
    "    nUserName = []\n",
    "    nProduct = []\n",
    "    nComment = []\n",
    "\n",
    "    ask = f\"Input username , product, comment\"\n",
    "    answer = input(ask).title()\n",
    "    data = re.findall(r\"[\\w\\s.]+\", answer)\n",
    "    nUserName = data[0]\n",
    "    if nUserName == \"\":\n",
    "        break\n",
    "    nProduct = data[1]\n",
    "    nComment = data[2]\n",
    "\n",
    "    if (data[0] == \" \"):\n",
    "        print('You complete selection product')\n",
    "        break\n"
   ],
   "outputs": [
    {
     "output_type": "stream",
     "name": "stdout",
     "text": [
      "You complete selection product\n"
     ]
    }
   ],
   "metadata": {}
  },
  {
   "cell_type": "code",
   "execution_count": 116,
   "source": [
    "import re\n",
    "nUserName = []\n",
    "nProduct = []\n",
    "nComment = []\n",
    "\n",
    "ask = f\"Input username , product, comment\"\n",
    "answer = input(ask).title()\n",
    "data = re.findall(r\"[\\w\\s.]+\", answer)\n",
    "nUserName = data[0]\n",
    "nProduct = data[1]\n",
    "nComment = data[2]\n",
    "print(data)\n",
    "print(nUserName,nProduct,nComment)\n"
   ],
   "outputs": [
    {
     "output_type": "stream",
     "name": "stdout",
     "text": [
      "['Dong', ' Druopnd ', ' Ngon Ghe']\n",
      "Dong  Druopnd   Ngon Ghe\n"
     ]
    }
   ],
   "metadata": {}
  },
  {
   "cell_type": "code",
   "execution_count": 119,
   "source": [
    "print(nUserName)\n",
    "print(nProduct)\n",
    "print(nComment)"
   ],
   "outputs": [
    {
     "output_type": "stream",
     "name": "stdout",
     "text": [
      "Dong\n",
      " Druopnd \n",
      " Ngon Ghe\n"
     ]
    }
   ],
   "metadata": {}
  }
 ],
 "metadata": {
  "orig_nbformat": 4,
  "language_info": {
   "name": "python",
   "version": "3.9.5",
   "mimetype": "text/x-python",
   "codemirror_mode": {
    "name": "ipython",
    "version": 3
   },
   "pygments_lexer": "ipython3",
   "nbconvert_exporter": "python",
   "file_extension": ".py"
  },
  "kernelspec": {
   "name": "python3",
   "display_name": "Python 3.9.5 64-bit"
  },
  "interpreter": {
   "hash": "916dbcbb3f70747c44a77c7bcd40155683ae19c65e1c03b4aa3499c5328201f1"
  }
 },
 "nbformat": 4,
 "nbformat_minor": 2
}