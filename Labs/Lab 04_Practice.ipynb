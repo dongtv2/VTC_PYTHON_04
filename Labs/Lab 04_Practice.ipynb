{
 "cells": [
  {
   "cell_type": "code",
   "execution_count": 1,
   "source": [
    "import numpy as np"
   ],
   "outputs": [],
   "metadata": {}
  },
  {
   "cell_type": "code",
   "execution_count": 76,
   "source": [
    "# np.random.seed(0)\n",
    "# Create array N > 50, positive integer , between difference not more than 2\n",
    "N = 51\n",
    "NumList = [i for i in range(N,80) if i%2 > 0]\n",
    "NumArray = np.array(NumList)\n",
    "# Calculate average, range, mean, max, sum of list\n",
    "Max = np.max(NumArray)\n",
    "Min = np.min(NumArray)\n",
    "Mean = np.mean(NumArray)\n",
    "Sum = sum(NumArray)\n",
    "Var = np.poly1d(NumArray)\n",
    "Derivative = [x - NumList[i - 1] for i, x in enumerate(NumList)][1:]\n",
    "print(Max,Min, Mean,Sum)\n",
    "print(Derivative)\n",
    "print((NumList)[1:])"
   ],
   "outputs": [
    {
     "output_type": "stream",
     "name": "stdout",
     "text": [
      "79 51 65.0 975\n",
      "[2, 2, 2, 2, 2, 2, 2, 2, 2, 2, 2, 2, 2, 2]\n",
      "[53, 55, 57, 59, 61, 63, 65, 67, 69, 71, 73, 75, 77, 79]\n"
     ]
    }
   ],
   "metadata": {}
  },
  {
   "cell_type": "code",
   "execution_count": null,
   "source": [],
   "outputs": [],
   "metadata": {}
  },
  {
   "cell_type": "code",
   "execution_count": null,
   "source": [],
   "outputs": [],
   "metadata": {}
  },
  {
   "cell_type": "code",
   "execution_count": null,
   "source": [],
   "outputs": [],
   "metadata": {}
  }
 ],
 "metadata": {
  "orig_nbformat": 4,
  "language_info": {
   "name": "python",
   "version": "3.9.6",
   "mimetype": "text/x-python",
   "codemirror_mode": {
    "name": "ipython",
    "version": 3
   },
   "pygments_lexer": "ipython3",
   "nbconvert_exporter": "python",
   "file_extension": ".py"
  },
  "kernelspec": {
   "name": "python3",
   "display_name": "Python 3.9.6 64-bit"
  },
  "interpreter": {
   "hash": "b0fa6594d8f4cbf19f97940f81e996739fb7646882a419484c72d19e05852a7e"
  }
 },
 "nbformat": 4,
 "nbformat_minor": 2
}