{
  "nbformat": 4,
  "nbformat_minor": 2,
  "metadata": {
    "orig_nbformat": 4,
    "language_info": {
      "name": "python",
      "version": "3.9.7",
      "mimetype": "text/x-python",
      "codemirror_mode": {
        "name": "ipython",
        "version": 3
      },
      "pygments_lexer": "ipython3",
      "nbconvert_exporter": "python",
      "file_extension": ".py"
    },
    "kernelspec": {
      "name": "python3",
      "display_name": "Python 3.9.7 64-bit ('.venv': venv)"
    },
    "interpreter": {
      "hash": "990db74c68a4ad8840817df42270103b57a024fca530d8647263614be491db87"
    },
    "colab": {
      "name": "Lesson 03.ipynb",
      "provenance": []
    }
  },
  "cells": [
    {
      "cell_type": "code",
      "execution_count": 1,
      "source": [
        "import numpy as np\r\n",
        "import pandas as pd \r\n",
        "import json\r\n",
        "import re"
      ],
      "outputs": [],
      "metadata": {
        "id": "sjTfA6GcD08_"
      }
    },
    {
      "cell_type": "code",
      "execution_count": 3,
      "source": [
        "# Question 1 : Write a program to allow user to input a transaction with product name and quatity\r\n",
        "# and then print order\r\n",
        "# Data\r\n",
        "productData = \"\"\"\r\n",
        "{\r\n",
        "    \"Product A\" : 1000,\r\n",
        "    \"Product B\" : 1500,\r\n",
        "    \"Product C\" : 2200,\r\n",
        "    \"Product D\" : 3500,\r\n",
        "    \"Product E\" : 1700\r\n",
        "}\r\n",
        "\"\"\"\r\n",
        "\r\n",
        "productDict = json.loads(productData)\r\n",
        "display(productDict)"
      ],
      "outputs": [
        {
          "output_type": "display_data",
          "data": {
            "text/plain": [
              "{'Product A': 1000,\n",
              " 'Product B': 1500,\n",
              " 'Product C': 2200,\n",
              " 'Product D': 3500,\n",
              " 'Product E': 1700}"
            ]
          },
          "metadata": {}
        }
      ],
      "metadata": {
        "colab": {
          "base_uri": "https://localhost:8080/",
          "height": 102
        },
        "id": "jvbZ_DdND09C",
        "outputId": "0f10fac5-be56-4115-f45d-7abd3ab72568"
      }
    },
    {
      "cell_type": "code",
      "execution_count": 4,
      "source": [
        "nBuy = int(input('How many item do you want to buy'))"
      ],
      "outputs": [
        {
          "output_type": "stream",
          "name": "stdout",
          "text": [
            "How many item do you want to buy3\n"
          ]
        }
      ],
      "metadata": {
        "colab": {
          "base_uri": "https://localhost:8080/"
        },
        "id": "YCf1NLMZD09D",
        "outputId": "fd306c69-8f30-42ac-aa9e-0a4a9ccd47b3"
      }
    },
    {
      "cell_type": "code",
      "execution_count": 5,
      "source": [
        "countBuy = {} # countBuy = dict() empty\r\n",
        "print(f\"Which the product do you want to buy ? {productDict}\")\r\n",
        "\r\n",
        "while(True):\r\n",
        "    count = len(countBuy) # len = 0\r\n",
        "\r\n",
        "    ask = f\"Pls input trans : {count + 1}\" #\r\n",
        "    answer = input(ask).title()\r\n",
        "\r\n",
        "    dataInput = re.findall(r\"[\\w\\s\\. ]+\", answer)\r\n",
        "\r\n",
        "    Condition1 = len(dataInput) != 2\r\n",
        "\r\n",
        "    if Condition1:\r\n",
        "        print('Input format wrong, kindly check again !')\r\n",
        "        continue\r\n",
        "\r\n",
        "    dataInput[0] = ' '.join(dataInput[0].split())\r\n",
        "    dataInput[1] = dataInput[1].replace(' ','')\r\n",
        "\r\n",
        "    Condition2 = not dataInput[1].replace('.','',1).isdigit()\r\n",
        "    Condition3 = dataInput[0] not in productDict.keys()\r\n",
        "\r\n",
        "    if ( Condition2 | Condition3):\r\n",
        "        continue\r\n",
        "    else:\r\n",
        "        countBuy[dataInput[0]] = float(dataInput[1])    \r\n",
        "    if(count +1 == nBuy): # count + 1\r\n",
        "        print(f\" You already finish input {nBuy} products\")\r\n",
        "        break\r\n"
      ],
      "outputs": [
        {
          "output_type": "stream",
          "name": "stdout",
          "text": [
            "Which the product do you want to buy ? {'Product A': 1000, 'Product B': 1500, 'Product C': 2200, 'Product D': 3500, 'Product E': 1700}\n",
            "Pls input trans : 1product a - 100\n",
            "Pls input trans : 2product b - 200\n",
            "Pls input trans : 3product c - 300\n",
            "Pls input trans : 4product d - 400\n",
            " You already finish input 3 products\n"
          ]
        }
      ],
      "metadata": {
        "colab": {
          "base_uri": "https://localhost:8080/"
        },
        "id": "RuqR7eDRD09D",
        "outputId": "f48e900d-9fbe-405c-f11f-d099389cf6c6"
      }
    },
    {
      "cell_type": "code",
      "execution_count": 6,
      "source": [
        "str1 = \"Product A - 18\"\r\n",
        "data = re.findall(r\"[\\w\\s\\. ]+\", str1)\r\n",
        "data[0] = ' '.join(data[0].split())\r\n",
        "print(data[0])\r\n",
        "type(data[0])"
      ],
      "outputs": [
        {
          "output_type": "stream",
          "name": "stdout",
          "text": [
            "Product A\n"
          ]
        },
        {
          "output_type": "execute_result",
          "data": {
            "text/plain": [
              "str"
            ]
          },
          "metadata": {},
          "execution_count": 6
        }
      ],
      "metadata": {
        "colab": {
          "base_uri": "https://localhost:8080/"
        },
        "id": "d9nyANPPD09E",
        "outputId": "7ef30f48-7848-4ae8-9d93-b6d1cc5eb264"
      }
    }
  ]
}