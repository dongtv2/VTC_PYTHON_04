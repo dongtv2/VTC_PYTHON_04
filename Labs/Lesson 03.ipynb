{
 "nbformat": 4,
 "nbformat_minor": 2,
 "metadata": {
  "orig_nbformat": 4,
  "language_info": {
   "name": "python",
   "version": "3.9.7",
   "mimetype": "text/x-python",
   "codemirror_mode": {
    "name": "ipython",
    "version": 3
   },
   "pygments_lexer": "ipython3",
   "nbconvert_exporter": "python",
   "file_extension": ".py"
  },
  "kernelspec": {
   "name": "python396jvsc74a57bd0b0fa6594d8f4cbf19f97940f81e996739fb7646882a419484c72d19e05852a7e",
   "language": "python",
   "display_name": "Python 3.9.6 64-bit"
  },
  "interpreter": {
   "hash": "990db74c68a4ad8840817df42270103b57a024fca530d8647263614be491db87"
  },
  "colab": {
   "name": "Lesson 03.ipynb",
   "provenance": []
  }
 },
 "cells": [
  {
   "cell_type": "code",
   "execution_count": 3,
   "source": [
    "import display as display\n",
    "import numpy as np\n",
    "import pandas as pd \n",
    "import json\n",
    "import re"
   ],
   "outputs": [],
   "metadata": {
    "id": "sjTfA6GcD08_"
   }
  },
  {
   "cell_type": "code",
   "execution_count": 5,
   "source": [
    "# Question 1 : Write a program to allow user to input a transaction with product name and quatity\n",
    "# and then print order\n",
    "# Data\n",
    "productData = \"\"\"\n",
    "{\n",
    "    \"Product A\" : 1000,\n",
    "    \"Product B\" : 1500,\n",
    "    \"Product C\" : 2200,\n",
    "    \"Product D\" : 3500,\n",
    "    \"Product E\" : 1700\n",
    "}\n",
    "\"\"\"\n",
    "\n",
    "productDict = json.loads(productData)\n",
    "display(productDict)"
   ],
   "outputs": [
    {
     "data": {
      "text/plain": "{'Product A': 1000,\n 'Product B': 1500,\n 'Product C': 2200,\n 'Product D': 3500,\n 'Product E': 1700}"
     },
     "metadata": {},
     "output_type": "display_data"
    }
   ],
   "metadata": {
    "colab": {
     "base_uri": "https://localhost:8080/",
     "height": 102
    },
    "id": "jvbZ_DdND09C",
    "outputId": "0f10fac5-be56-4115-f45d-7abd3ab72568"
   }
  },
  {
   "cell_type": "code",
   "execution_count": 6,
   "source": [
    "nBuy = int(input('How many item do you want to buy'))\n",
    "print(nBuy)\n",
    "agree = ['yes','no']"
   ],
   "outputs": [
    {
     "name": "stdout",
     "output_type": "stream",
     "text": [
      "2\n"
     ]
    }
   ],
   "metadata": {
    "colab": {
     "base_uri": "https://localhost:8080/"
    },
    "id": "YCf1NLMZD09D",
    "outputId": "fd306c69-8f30-42ac-aa9e-0a4a9ccd47b3"
   }
  },
  {
   "cell_type": "code",
   "execution_count": 7,
   "source": [
    "countBuy = {} # countBuy = dict() empty\n",
    "\n",
    "print(f\"Which the product do you want to buy ? {productDict}\")\n",
    "\n",
    "while True:\n",
    "    count = len(countBuy) # len = 0\n",
    "\n",
    "    ask = f\"Pls input trans : {count + 1}\" #\n",
    "    ask_yn = f\"Do you want to buy more ?\"\n",
    "    answer = input(ask).title()\n",
    "    answer_yn = input(ask_yn).lower()\n",
    "\n",
    "    dataInput = re.findall(r\"[\\w\\s\\. ]+\", answer)\n",
    "\n",
    "    Condition1 = len(dataInput) != 2 # If not enough key and value\n",
    "    \n",
    "    Condition4 = ask_yn == agree[1] # Customer choose =  No\n",
    "\n",
    "    if Condition1 | Condition4:\n",
    "        print('Input format wrong, kindly check again !')\n",
    "        continue\n",
    "\n",
    "    dataInput[0] = ' '.join(dataInput[0].split())\n",
    "    dataInput[1] = dataInput[1].replace(' ','')\n",
    "\n",
    "    Condition2 = not dataInput[1].replace('.','',1).isdigit()\n",
    "    Condition3 = dataInput[0] not in productDict.keys()\n",
    "\n",
    "\n",
    "    if Condition2 | Condition3 | Condition4:\n",
    "        continue\n",
    "    else:\n",
    "        countBuy[dataInput[0]] = float(dataInput[1])    # Save value to countBuy dict()\n",
    "    if (count + 1 == nBuy) | (answer_yn == agree[1]): # count + 1\n",
    "        print(f\" You already finish input {nBuy} products\")\n",
    "        break\n"
   ],
   "outputs": [
    {
     "name": "stdout",
     "output_type": "stream",
     "text": [
      "Which the product do you want to buy ? {'Product A': 1000, 'Product B': 1500, 'Product C': 2200, 'Product D': 3500, 'Product E': 1700}\n",
      " You already finish input 2 products\n"
     ]
    }
   ],
   "metadata": {
    "colab": {
     "base_uri": "https://localhost:8080/"
    },
    "id": "RuqR7eDRD09D",
    "outputId": "f48e900d-9fbe-405c-f11f-d099389cf6c6"
   }
  },
  {
   "cell_type": "code",
   "execution_count": 8,
   "source": [
    "# Print the order\n",
    "print(f\"The list of your buying product is \\n {countBuy}\")\n",
    "\n",
    "print(\"==\"*35)\n",
    "total = 0\n",
    "for product, quantity in countBuy.items():\n",
    "      total += quantity\n",
    "      print(f\"\\t Item {product} : {quantity}\")\n",
    "print(f\" Total Quantity : {total}\")\n",
    "print(\"==\"*35)\n",
    "productNameList = '\\t'.join([\"Item \"  + str(idx) + \":\" + product for idx,(product,quantity) in zip(range(len(countBuy)), countBuy.items())])\n",
    "productQtyList = '\\t\\t\\t'.join([str(quantity) for idx, (product,quantity) in zip(range(len(countBuy)),countBuy.items())])\n",
    "print(productNameList)\n",
    "print(productQtyList)"
   ],
   "outputs": [
    {
     "name": "stdout",
     "output_type": "stream",
     "text": [
      "The list of your buying product is \n",
      " {'Product A': 100.0, 'Product B': 200.0}\n",
      "======================================================================\n",
      "\t Item Product A : 100.0\n",
      "\t Item Product B : 200.0\n",
      " Total Quantity : 300.0\n",
      "======================================================================\n",
      "Item 0:Product A\tItem 1:Product B\n",
      "100.0\t\t\t200.0\n"
     ]
    }
   ],
   "metadata": {}
  },
  {
   "cell_type": "code",
   "execution_count": 9,
   "source": [
    "# More Question : Modify the code to allow user input transaction. Each time, ask the question\n",
    "# \"Do you want to continue (Yes/No)\". If user input No we stop the transactions"
   ],
   "outputs": [],
   "metadata": {}
  },
  {
   "cell_type": "code",
   "execution_count": 17,
   "source": [
    "from googletrans import Translator\n",
    "\n",
    "translator = Translator()  # Tạo thực thể translator\n",
    "\n",
    "trans = translator.translate # translate là hành động (action)\n",
    "\n",
    "sentence = \"I am learning online\"\n",
    "\n",
    "trans = translator.translate(sentence, scr = 'en', dest='vi')\n",
    "\n",
    "print(trans.text)"
   ],
   "outputs": [
    {
     "ename": "ModuleNotFoundError",
     "evalue": "No module named 'googletrans'",
     "output_type": "error",
     "traceback": [
      "\u001B[0;31m---------------------------------------------------------------------------\u001B[0m",
      "\u001B[0;31mModuleNotFoundError\u001B[0m                       Traceback (most recent call last)",
      "\u001B[0;32m/var/folders/n1/xlgk_vr17g3ds00rwzr2cp2m0000gn/T/ipykernel_16968/1185811653.py\u001B[0m in \u001B[0;36m<module>\u001B[0;34m\u001B[0m\n\u001B[0;32m----> 1\u001B[0;31m \u001B[0;32mfrom\u001B[0m \u001B[0mgoogletrans\u001B[0m \u001B[0;32mimport\u001B[0m \u001B[0mTranslator\u001B[0m\u001B[0;34m\u001B[0m\u001B[0;34m\u001B[0m\u001B[0m\n\u001B[0m\u001B[1;32m      2\u001B[0m \u001B[0;34m\u001B[0m\u001B[0m\n\u001B[1;32m      3\u001B[0m \u001B[0mtranslator\u001B[0m \u001B[0;34m=\u001B[0m \u001B[0mTranslator\u001B[0m\u001B[0;34m(\u001B[0m\u001B[0;34m)\u001B[0m  \u001B[0;31m# Tạo thực thể translator\u001B[0m\u001B[0;34m\u001B[0m\u001B[0;34m\u001B[0m\u001B[0m\n\u001B[1;32m      4\u001B[0m \u001B[0;34m\u001B[0m\u001B[0m\n\u001B[1;32m      5\u001B[0m \u001B[0mtrans\u001B[0m \u001B[0;34m=\u001B[0m \u001B[0mtranslator\u001B[0m\u001B[0;34m.\u001B[0m\u001B[0mtranslate\u001B[0m \u001B[0;31m# translate là hành động (action)\u001B[0m\u001B[0;34m\u001B[0m\u001B[0;34m\u001B[0m\u001B[0m\n",
      "\u001B[0;31mModuleNotFoundError\u001B[0m: No module named 'googletrans'"
     ]
    }
   ],
   "metadata": {}
  },
  {
   "cell_type": "code",
   "execution_count": null,
   "source": [
    "# Question: Write a Chatting between two users and save the chat as well as translation \n",
    "# from/to vietnamese <--> english in the chat history\n",
    "\n",
    "histChat = {}\n",
    "\n",
    "question = input(\"Please input your name and your country separated by blank :\")\n",
    "\n",
    "info1 = [val.strip().title() for val in question.split()]\n",
    "question = input(\"Please input your name and your country separated by blank :\")\n",
    "info2 = [val.strip().title() for val in question.split()]\n",
    "\n",
    "print(info1)\n",
    "print(info2)"
   ],
   "outputs": [],
   "metadata": {}
  },
  {
   "cell_type": "code",
   "execution_count": 6,
   "source": [
    "histChat[info1[0]] = {} # Key\n",
    "\n",
    "histChat[info2[0]] = {} # Key\n",
    "\n",
    "lang1 = 'vi' if info1[1] == \"Vietnam\" else 'en' # short statement\n",
    "lang2 = 'en' if info2[1] == \"English\" else 'en' # short statement\n",
    "\n",
    "histChat[info1[0]][lang1] = []\n",
    "histChat[info1[0]]['Translate'] = []\n",
    "\n",
    "histChat[info2[0]][lang2] = []\n",
    "histChat[info2[0]]['Translate'] = []\n",
    "\n",
    "display(histChat)"
   ],
   "outputs": [
    {
     "ename": "NameError",
     "evalue": "name 'histChat' is not defined",
     "output_type": "error",
     "traceback": [
      "\u001B[0;31m---------------------------------------------------------------------------\u001B[0m",
      "\u001B[0;31mNameError\u001B[0m                                 Traceback (most recent call last)",
      "\u001B[0;32m/var/folders/n1/xlgk_vr17g3ds00rwzr2cp2m0000gn/T/ipykernel_16968/648132008.py\u001B[0m in \u001B[0;36m<module>\u001B[0;34m\u001B[0m\n\u001B[0;32m----> 1\u001B[0;31m \u001B[0mhistChat\u001B[0m\u001B[0;34m[\u001B[0m\u001B[0minfo1\u001B[0m\u001B[0;34m[\u001B[0m\u001B[0;36m0\u001B[0m\u001B[0;34m]\u001B[0m\u001B[0;34m]\u001B[0m \u001B[0;34m=\u001B[0m \u001B[0;34m{\u001B[0m\u001B[0;34m}\u001B[0m \u001B[0;31m# Key\u001B[0m\u001B[0;34m\u001B[0m\u001B[0;34m\u001B[0m\u001B[0m\n\u001B[0m\u001B[1;32m      2\u001B[0m \u001B[0;34m\u001B[0m\u001B[0m\n\u001B[1;32m      3\u001B[0m \u001B[0mhistChat\u001B[0m\u001B[0;34m[\u001B[0m\u001B[0minfo2\u001B[0m\u001B[0;34m[\u001B[0m\u001B[0;36m0\u001B[0m\u001B[0;34m]\u001B[0m\u001B[0;34m]\u001B[0m \u001B[0;34m=\u001B[0m \u001B[0;34m{\u001B[0m\u001B[0;34m}\u001B[0m \u001B[0;31m# Key\u001B[0m\u001B[0;34m\u001B[0m\u001B[0;34m\u001B[0m\u001B[0m\n\u001B[1;32m      4\u001B[0m \u001B[0;34m\u001B[0m\u001B[0m\n\u001B[1;32m      5\u001B[0m \u001B[0mlang1\u001B[0m \u001B[0;34m=\u001B[0m \u001B[0;34m'vi'\u001B[0m \u001B[0;32mif\u001B[0m \u001B[0minfo1\u001B[0m\u001B[0;34m[\u001B[0m\u001B[0;36m1\u001B[0m\u001B[0;34m]\u001B[0m \u001B[0;34m==\u001B[0m \u001B[0;34m\"Vietnam\"\u001B[0m \u001B[0;32melse\u001B[0m \u001B[0;34m'en'\u001B[0m \u001B[0;31m# short statement\u001B[0m\u001B[0;34m\u001B[0m\u001B[0;34m\u001B[0m\u001B[0m\n",
      "\u001B[0;31mNameError\u001B[0m: name 'histChat' is not defined"
     ]
    }
   ],
   "metadata": {}
  },
  {
   "cell_type": "code",
   "execution_count": null,
   "source": [
    "print(f'Start chatting :')\n",
    "\n",
    "while True:\n",
    "\n",
    "      chat1 = input(f\"{info1[0]} :\")\n",
    "      trans1 = translator.translate(chat1, src = lang1, dest = lang2)\n",
    "      print(f\"({trans1.text})\")\n",
    "\n",
    "      chat2 = input(f\"{info2[0]} :\")\n",
    "      trans2 = translator.translate(chat2, src = lang2, dest = lang1)\n",
    "      print(f\"({trans2.text})\")\n",
    "  \n",
    "      histChat[info1[0]][lang1].append(chat1)\n",
    "      histChat[info1[0]]['Translate'].append(trans1.text)     \n",
    "\n",
    "      histChat[info2[0]][lang2].append(chat2)\n",
    "      histChat[info2[0]]['Translate'].append(trans2.text)   \n",
    "      \n",
    "\n",
    "      if (\"Bye\" in chat1.title()) & (\"Bye\" in chat2.title()):\n",
    "            print(\"End Chatting\")\n",
    "            break"
   ],
   "outputs": [],
   "metadata": {}
  }
 ]
}