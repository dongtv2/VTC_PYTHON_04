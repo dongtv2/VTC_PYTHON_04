{
 "nbformat": 4,
 "nbformat_minor": 2,
 "metadata": {
  "orig_nbformat": 4,
  "language_info": {
   "name": "python",
   "version": "3.9.7",
   "mimetype": "text/x-python",
   "codemirror_mode": {
    "name": "ipython",
    "version": 3
   },
   "pygments_lexer": "ipython3",
   "nbconvert_exporter": "python",
   "file_extension": ".py"
  },
<<<<<<< HEAD
  "cells": [
    {
      "cell_type": "markdown",
      "source": [
        "# LESSON 03 : CONDITION AND LOOP"
      ],
      "metadata": {}
    },
    {
      "cell_type": "code",
      "execution_count": 1,
      "source": [
        "# Import library\r\n",
        "\r\n",
        "import numpy as np\r\n",
        "import pandas as pd \r\n",
        "import json\r\n",
        "import re"
      ],
      "outputs": [],
      "metadata": {
        "id": "sjTfA6GcD08_"
      }
    },
    {
      "cell_type": "code",
      "execution_count": 4,
      "source": [
        "# Question 1 : Write a program to allow user to input a transaction with product name and quatity\r\n",
        "# and then print order\r\n",
        "# Data\r\n",
        "productData = \"\"\"\r\n",
        "{\r\n",
        "    \"Product A\" : 1000,\r\n",
        "    \"Product B\" : 1500,\r\n",
        "    \"Product C\" : 2200,\r\n",
        "    \"Product D\" : 3500,\r\n",
        "    \"Product E\" : 1700\r\n",
        "}\r\n",
        "\"\"\"\r\n",
        "\r\n",
        "productDict = json.loads(productData)\r\n",
        "display(productDict)"
      ],
      "outputs": [
        {
          "output_type": "display_data",
          "data": {
            "text/plain": [
              "{'Product A': 1000,\n",
              " 'Product B': 1500,\n",
              " 'Product C': 2200,\n",
              " 'Product D': 3500,\n",
              " 'Product E': 1700}"
            ]
          },
          "metadata": {}
        }
      ],
      "metadata": {
        "colab": {
          "base_uri": "https://localhost:8080/",
          "height": 102
        },
        "id": "jvbZ_DdND09C",
        "outputId": "0f10fac5-be56-4115-f45d-7abd3ab72568"
      }
    },
    {
      "cell_type": "code",
      "execution_count": 17,
      "source": [
        "nBuy = int(input('How many item do you want to buy'))\r\n",
        "print(nBuy)\r\n",
        "agree = ['yes','no']"
      ],
      "outputs": [
        {
          "output_type": "stream",
          "name": "stdout",
          "text": [
            "3\n"
          ]
        }
      ],
      "metadata": {
        "colab": {
          "base_uri": "https://localhost:8080/"
        },
        "id": "YCf1NLMZD09D",
        "outputId": "fd306c69-8f30-42ac-aa9e-0a4a9ccd47b3"
      }
    },
    {
      "cell_type": "code",
      "execution_count": null,
      "source": [
        "countBuy = {} # countBuy = dict() empty\r\n",
        "\r\n",
        "print(f\"Which the product do you want to buy ? {productDict}\")\r\n",
        "\r\n",
        "while(True):\r\n",
        "    count = len(countBuy) # len = 0\r\n",
        "\r\n",
        "    ask = f\"Pls input trans : {count + 1}\" #\r\n",
        "    ask_yn = f\"Do you want to buy more ?\"\r\n",
        "    answer = input(ask).title()\r\n",
        "    answer_yn = input(ask_yn).lower()\r\n",
        "\r\n",
        "    dataInput = re.findall(r\"[\\w\\s\\. ]+\", answer)\r\n",
        "\r\n",
        "    Condition1 = len(dataInput) != 2 # If not enough key and value\r\n",
        "    \r\n",
        "    Condition4 = ask_yn == agree[1] # Customer choose =  No\r\n",
        "\r\n",
        "    if (Condition1 | Condition4) :\r\n",
        "        print('Input format wrong, kindly check again !')\r\n",
        "        continue\r\n",
        "\r\n",
        "    dataInput[0] = ' '.join(dataInput[0].split())\r\n",
        "    dataInput[1] = dataInput[1].replace(' ','')\r\n",
        "\r\n",
        "    Condition2 = not dataInput[1].replace('.','',1).isdigit()\r\n",
        "    Condition3 = dataInput[0] not in productDict.keys()\r\n",
        "\r\n",
        "\r\n",
        "    if ( Condition2 | Condition3 | Condition4):\r\n",
        "        continue\r\n",
        "    else:\r\n",
        "        countBuy[dataInput[0]] = float(dataInput[1])    # Save value to countBuy dict()\r\n",
        "    if((count +1 == nBuy) | (answer_yn == agree[1])): # count + 1\r\n",
        "        print(f\" You already finish input {nBuy} products\")\r\n",
        "        break\r\n"
      ],
      "outputs": [],
      "metadata": {
        "colab": {
          "base_uri": "https://localhost:8080/"
        },
        "id": "RuqR7eDRD09D",
        "outputId": "f48e900d-9fbe-405c-f11f-d099389cf6c6"
      }
    },
=======
  "kernelspec": {
   "name": "python396jvsc74a57bd0b0fa6594d8f4cbf19f97940f81e996739fb7646882a419484c72d19e05852a7e",
   "language": "python",
   "display_name": "Python 3.9.6 64-bit"
  },
  "interpreter": {
   "hash": "990db74c68a4ad8840817df42270103b57a024fca530d8647263614be491db87"
  },
  "colab": {
   "name": "Lesson 03.ipynb",
   "provenance": []
  }
 },
 "cells": [
  {
   "cell_type": "code",
   "execution_count": 3,
   "source": [
    "import display as display\n",
    "import numpy as np\n",
    "import pandas as pd \n",
    "import json\n",
    "import re"
   ],
   "outputs": [],
   "metadata": {
    "id": "sjTfA6GcD08_"
   }
  },
  {
   "cell_type": "code",
   "execution_count": 5,
   "source": [
    "# Question 1 : Write a program to allow user to input a transaction with product name and quatity\n",
    "# and then print order\n",
    "# Data\n",
    "productData = \"\"\"\n",
    "{\n",
    "    \"Product A\" : 1000,\n",
    "    \"Product B\" : 1500,\n",
    "    \"Product C\" : 2200,\n",
    "    \"Product D\" : 3500,\n",
    "    \"Product E\" : 1700\n",
    "}\n",
    "\"\"\"\n",
    "\n",
    "productDict = json.loads(productData)\n",
    "display(productDict)"
   ],
   "outputs": [
>>>>>>> cee59efccbfff087a3fa84f04f1faad1add5f22c
    {
     "data": {
      "text/plain": "{'Product A': 1000,\n 'Product B': 1500,\n 'Product C': 2200,\n 'Product D': 3500,\n 'Product E': 1700}"
     },
     "metadata": {},
     "output_type": "display_data"
    }
   ],
   "metadata": {
    "colab": {
     "base_uri": "https://localhost:8080/",
     "height": 102
    },
    "id": "jvbZ_DdND09C",
    "outputId": "0f10fac5-be56-4115-f45d-7abd3ab72568"
   }
  },
  {
   "cell_type": "code",
   "execution_count": 6,
   "source": [
    "nBuy = int(input('How many item do you want to buy'))\n",
    "print(nBuy)\n",
    "agree = ['yes','no']"
   ],
   "outputs": [
    {
<<<<<<< HEAD
      "cell_type": "code",
      "execution_count": 1,
      "source": [
        "# More Question : Modify the code to allow user input transaction. Each time, ask the question\r\n",
        "# \"Do you want to continue (Yes/No)\". If user input No we stop the transactions //TODO\r\n"
      ],
      "outputs": [],
      "metadata": {}
=======
     "name": "stdout",
     "output_type": "stream",
     "text": [
      "2\n"
     ]
    }
   ],
   "metadata": {
    "colab": {
     "base_uri": "https://localhost:8080/"
>>>>>>> cee59efccbfff087a3fa84f04f1faad1add5f22c
    },
    "id": "YCf1NLMZD09D",
    "outputId": "fd306c69-8f30-42ac-aa9e-0a4a9ccd47b3"
   }
  },
  {
   "cell_type": "code",
   "execution_count": 7,
   "source": [
    "countBuy = {} # countBuy = dict() empty\n",
    "\n",
    "print(f\"Which the product do you want to buy ? {productDict}\")\n",
    "\n",
    "while True:\n",
    "    count = len(countBuy) # len = 0\n",
    "\n",
    "    ask = f\"Pls input trans : {count + 1}\" #\n",
    "    ask_yn = f\"Do you want to buy more ?\"\n",
    "    answer = input(ask).title()\n",
    "    answer_yn = input(ask_yn).lower()\n",
    "\n",
    "    dataInput = re.findall(r\"[\\w\\s\\. ]+\", answer)\n",
    "\n",
    "    Condition1 = len(dataInput) != 2 # If not enough key and value\n",
    "    \n",
    "    Condition4 = ask_yn == agree[1] # Customer choose =  No\n",
    "\n",
    "    if Condition1 | Condition4:\n",
    "        print('Input format wrong, kindly check again !')\n",
    "        continue\n",
    "\n",
    "    dataInput[0] = ' '.join(dataInput[0].split())\n",
    "    dataInput[1] = dataInput[1].replace(' ','')\n",
    "\n",
    "    Condition2 = not dataInput[1].replace('.','',1).isdigit()\n",
    "    Condition3 = dataInput[0] not in productDict.keys()\n",
    "\n",
    "\n",
    "    if Condition2 | Condition3 | Condition4:\n",
    "        continue\n",
    "    else:\n",
    "        countBuy[dataInput[0]] = float(dataInput[1])    # Save value to countBuy dict()\n",
    "    if (count + 1 == nBuy) | (answer_yn == agree[1]): # count + 1\n",
    "        print(f\" You already finish input {nBuy} products\")\n",
    "        break\n"
   ],
   "outputs": [
    {
     "name": "stdout",
     "output_type": "stream",
     "text": [
      "Which the product do you want to buy ? {'Product A': 1000, 'Product B': 1500, 'Product C': 2200, 'Product D': 3500, 'Product E': 1700}\n",
      " You already finish input 2 products\n"
     ]
    }
   ],
   "metadata": {
    "colab": {
     "base_uri": "https://localhost:8080/"
    },
    "id": "RuqR7eDRD09D",
    "outputId": "f48e900d-9fbe-405c-f11f-d099389cf6c6"
   }
  },
  {
   "cell_type": "code",
   "execution_count": 8,
   "source": [
    "# Print the order\n",
    "print(f\"The list of your buying product is \\n {countBuy}\")\n",
    "\n",
    "print(\"==\"*35)\n",
    "total = 0\n",
    "for product, quantity in countBuy.items():\n",
    "      total += quantity\n",
    "      print(f\"\\t Item {product} : {quantity}\")\n",
    "print(f\" Total Quantity : {total}\")\n",
    "print(\"==\"*35)\n",
    "productNameList = '\\t'.join([\"Item \"  + str(idx) + \":\" + product for idx,(product,quantity) in zip(range(len(countBuy)), countBuy.items())])\n",
    "productQtyList = '\\t\\t\\t'.join([str(quantity) for idx, (product,quantity) in zip(range(len(countBuy)),countBuy.items())])\n",
    "print(productNameList)\n",
    "print(productQtyList)"
   ],
   "outputs": [
    {
     "name": "stdout",
     "output_type": "stream",
     "text": [
      "The list of your buying product is \n",
      " {'Product A': 100.0, 'Product B': 200.0}\n",
      "======================================================================\n",
      "\t Item Product A : 100.0\n",
      "\t Item Product B : 200.0\n",
      " Total Quantity : 300.0\n",
      "======================================================================\n",
      "Item 0:Product A\tItem 1:Product B\n",
      "100.0\t\t\t200.0\n"
     ]
    }
   ],
   "metadata": {}
  },
  {
   "cell_type": "code",
   "execution_count": 9,
   "source": [
    "# More Question : Modify the code to allow user input transaction. Each time, ask the question\n",
    "# \"Do you want to continue (Yes/No)\". If user input No we stop the transactions"
   ],
   "outputs": [],
   "metadata": {}
  },
  {
   "cell_type": "code",
   "execution_count": 17,
   "source": [
    "from googletrans import Translator\n",
    "\n",
    "translator = Translator()  # Tạo thực thể translator\n",
    "\n",
    "trans = translator.translate # translate là hành động (action)\n",
    "\n",
    "sentence = \"I am learning online\"\n",
    "\n",
    "trans = translator.translate(sentence, scr = 'en', dest='vi')\n",
    "\n",
    "print(trans.text)"
   ],
   "outputs": [
    {
     "ename": "ModuleNotFoundError",
     "evalue": "No module named 'googletrans'",
     "output_type": "error",
     "traceback": [
      "\u001B[0;31m---------------------------------------------------------------------------\u001B[0m",
      "\u001B[0;31mModuleNotFoundError\u001B[0m                       Traceback (most recent call last)",
      "\u001B[0;32m/var/folders/n1/xlgk_vr17g3ds00rwzr2cp2m0000gn/T/ipykernel_16968/1185811653.py\u001B[0m in \u001B[0;36m<module>\u001B[0;34m\u001B[0m\n\u001B[0;32m----> 1\u001B[0;31m \u001B[0;32mfrom\u001B[0m \u001B[0mgoogletrans\u001B[0m \u001B[0;32mimport\u001B[0m \u001B[0mTranslator\u001B[0m\u001B[0;34m\u001B[0m\u001B[0;34m\u001B[0m\u001B[0m\n\u001B[0m\u001B[1;32m      2\u001B[0m \u001B[0;34m\u001B[0m\u001B[0m\n\u001B[1;32m      3\u001B[0m \u001B[0mtranslator\u001B[0m \u001B[0;34m=\u001B[0m \u001B[0mTranslator\u001B[0m\u001B[0;34m(\u001B[0m\u001B[0;34m)\u001B[0m  \u001B[0;31m# Tạo thực thể translator\u001B[0m\u001B[0;34m\u001B[0m\u001B[0;34m\u001B[0m\u001B[0m\n\u001B[1;32m      4\u001B[0m \u001B[0;34m\u001B[0m\u001B[0m\n\u001B[1;32m      5\u001B[0m \u001B[0mtrans\u001B[0m \u001B[0;34m=\u001B[0m \u001B[0mtranslator\u001B[0m\u001B[0;34m.\u001B[0m\u001B[0mtranslate\u001B[0m \u001B[0;31m# translate là hành động (action)\u001B[0m\u001B[0;34m\u001B[0m\u001B[0;34m\u001B[0m\u001B[0m\n",
      "\u001B[0;31mModuleNotFoundError\u001B[0m: No module named 'googletrans'"
     ]
    }
   ],
   "metadata": {}
  },
  {
   "cell_type": "code",
   "execution_count": null,
   "source": [
    "# Question: Write a Chatting between two users and save the chat as well as translation \n",
    "# from/to vietnamese <--> english in the chat history\n",
    "\n",
    "histChat = {}\n",
    "\n",
    "question = input(\"Please input your name and your country separated by blank :\")\n",
    "\n",
    "info1 = [val.strip().title() for val in question.split()]\n",
    "question = input(\"Please input your name and your country separated by blank :\")\n",
    "info2 = [val.strip().title() for val in question.split()]\n",
    "\n",
    "print(info1)\n",
    "print(info2)"
   ],
   "outputs": [],
   "metadata": {}
  },
  {
   "cell_type": "code",
   "execution_count": 6,
   "source": [
    "histChat[info1[0]] = {} # Key\n",
    "\n",
    "histChat[info2[0]] = {} # Key\n",
    "\n",
    "lang1 = 'vi' if info1[1] == \"Vietnam\" else 'en' # short statement\n",
    "lang2 = 'en' if info2[1] == \"English\" else 'en' # short statement\n",
    "\n",
    "histChat[info1[0]][lang1] = []\n",
    "histChat[info1[0]]['Translate'] = []\n",
    "\n",
    "histChat[info2[0]][lang2] = []\n",
    "histChat[info2[0]]['Translate'] = []\n",
    "\n",
    "display(histChat)"
   ],
   "outputs": [
    {
<<<<<<< HEAD
      "cell_type": "code",
      "execution_count": 33,
      "source": [
        "print(f'Start chatting :')\r\n",
        "\r\n",
        "while(True):\r\n",
        "\r\n",
        "      chat1 = input(f\"{info1[0]} :\")\r\n",
        "      trans1 = translator.translate(chat1, src = lang1, dest = lang2)\r\n",
        "      print(f\"({trans1.text})\")\r\n",
        "\r\n",
        "      chat2 = input(f\"{info2[0]} :\")\r\n",
        "      trans2 = translator.translate(chat2, src = lang2, dest = lang1)\r\n",
        "      print(f\"({trans2.text})\")\r\n",
        "  \r\n",
        "      histChat[info1[0]][lang1].append(chat1)\r\n",
        "      histChat[info1[0]]['Translate'].append(trans1.text)     \r\n",
        "\r\n",
        "      histChat[info2[0]][lang2].append(chat2)\r\n",
        "      histChat[info2[0]]['Translate'].append(trans2.text)   \r\n",
        "      \r\n",
        "\r\n",
        "      if((\"Bye\" in chat1.title()) & (\"Bye\" in chat2.title())):\r\n",
        "            print(\"End Chatting\")\r\n",
        "            break"
      ],
      "outputs": [
        {
          "output_type": "stream",
          "name": "stdout",
          "text": [
            "Start chatting :\n",
            "(Hello)\n",
            "(xin chào)\n",
            "(how's it goin)\n",
            "(Tôi ổn)\n",
            "(Bye)\n",
            "(Từ biệt)\n",
            "End Chatting\n"
          ]
        }
      ],
      "metadata": {}
    },
    {
      "cell_type": "code",
      "execution_count": 2,
      "source": [
        "import datetime as dt\r\n",
        "from datetime import date\r\n",
        "from datetime import timedelta\r\n",
        "from calendar import monthrange\r\n",
        "import random\r\n",
        "\r\n",
        "numList = []\r\n",
        "for i in range(0,12):\r\n",
        "      i += 1\r\n",
        "      numList.append(i)\r\n",
        "print(numList)\r\n",
        "now_day = dt.datetime.now()\r\n",
        "\r\n",
        "for i in numList:\r\n",
        "      num_days = monthrange(now_day.year,i)[1]\r\n",
        "      print(f\"Month {i} - {now_day.year} has :{num_days} days\")"
      ],
      "outputs": [
        {
          "output_type": "stream",
          "name": "stdout",
          "text": [
            "[1, 2, 3, 4, 5, 6, 7, 8, 9, 10, 11, 12]\n",
            "Month 1 - 2021 has :31 days\n",
            "Month 2 - 2021 has :28 days\n",
            "Month 3 - 2021 has :31 days\n",
            "Month 4 - 2021 has :30 days\n",
            "Month 5 - 2021 has :31 days\n",
            "Month 6 - 2021 has :30 days\n",
            "Month 7 - 2021 has :31 days\n",
            "Month 8 - 2021 has :31 days\n",
            "Month 9 - 2021 has :30 days\n",
            "Month 10 - 2021 has :31 days\n",
            "Month 11 - 2021 has :30 days\n",
            "Month 12 - 2021 has :31 days\n"
          ]
        }
      ],
      "metadata": {}
    },
    {
      "cell_type": "markdown",
      "source": [
        "# SELF PRACTICE"
      ],
      "metadata": {}
    },
    {
      "cell_type": "code",
      "execution_count": 3,
      "source": [
        "import numpy as np\r\n",
        "import pandas as pd \r\n",
        "import json\r\n",
        "import re"
      ],
      "outputs": [],
      "metadata": {}
    },
    {
      "cell_type": "code",
      "execution_count": 20,
      "source": [
        "# Question 1 : Write a program to allow user to input a transaction with product name and quantity and then print order \r\n",
        "# DATA JSON\r\n",
        "ProductData = \"\"\"\r\n",
        "{\r\n",
        "      \"Product A\" : 1000,\r\n",
        "      \"Product B\" : 1500,\r\n",
        "      \"Product C\" : 2200,\r\n",
        "      \"Product D\" : 3500,\r\n",
        "      \"Product E\" : 1700\r\n",
        "}\"\"\"\r\n",
        "\r\n",
        "productDict = json.loads(ProductData)\r\n",
        "\r\n",
        "print(productDict)"
      ],
      "outputs": [
        {
          "output_type": "stream",
          "name": "stdout",
          "text": [
            "{'Product A': 1000, 'Product B': 1500, 'Product C': 2200, 'Product D': 3500, 'Product E': 1700}\n"
          ]
        }
      ],
      "metadata": {}
    },
    {
      "cell_type": "code",
      "execution_count": 21,
      "source": [
        "nBuy = int(input(\"How many item product do you want to buy\"))\r\n",
        "print(nBuy)"
      ],
      "outputs": [
        {
          "output_type": "stream",
          "name": "stdout",
          "text": [
            "3\n"
          ]
        }
      ],
      "metadata": {}
    },
    {
      "cell_type": "code",
      "execution_count": null,
      "source": [
        "nShopCart = {}\r\n",
        "\r\n",
        "while(True):\r\n",
        "      ask = f\"Input name product and quantity {len(nShopCart) + 1} / {nBuy}\"\r\n",
        "      answer = input(ask).title()\r\n",
        "\r\n",
        "      pattern = \"[\\w\\s .]+\" # regex regulation\r\n",
        "\r\n",
        "      data = re.findall(pattern, answer)\r\n",
        "\r\n",
        "      Condition1 = len(data) != 2\r\n",
        "      \r\n",
        "      if Condition1:\r\n",
        "            print(\"You input wong format, Please input again\")\r\n",
        "            continue\r\n",
        "      data[0] = \" \".join(data[0].split()) # Remove white space and join again with white space\r\n",
        "      data[1] = data[1].strip() # Remove white space\r\n",
        "\r\n",
        "      Condtion2 = data[0] not in productDict.keys() # Check if input the name product not in list product Dictionary\r\n",
        "\r\n",
        "      Condition3 = not data[1].replace('.', '', 1).isdigit() # Check if input is not Integers number.\r\n",
        "      \r\n",
        "      if (Condition2 | Condition3):\r\n",
        "            print(\"You input wong format, Please input again\")\r\n",
        "            continue\r\n",
        "\r\n",
        "      nShopCart[data[0]] = float(data[1])\r\n",
        "\r\n",
        "\r\n",
        "      if (nShopCart == nBuy):\r\n",
        "            print('You complete selection product')\r\n",
        "            break"
      ],
      "outputs": [],
      "metadata": {}
=======
     "ename": "NameError",
     "evalue": "name 'histChat' is not defined",
     "output_type": "error",
     "traceback": [
      "\u001B[0;31m---------------------------------------------------------------------------\u001B[0m",
      "\u001B[0;31mNameError\u001B[0m                                 Traceback (most recent call last)",
      "\u001B[0;32m/var/folders/n1/xlgk_vr17g3ds00rwzr2cp2m0000gn/T/ipykernel_16968/648132008.py\u001B[0m in \u001B[0;36m<module>\u001B[0;34m\u001B[0m\n\u001B[0;32m----> 1\u001B[0;31m \u001B[0mhistChat\u001B[0m\u001B[0;34m[\u001B[0m\u001B[0minfo1\u001B[0m\u001B[0;34m[\u001B[0m\u001B[0;36m0\u001B[0m\u001B[0;34m]\u001B[0m\u001B[0;34m]\u001B[0m \u001B[0;34m=\u001B[0m \u001B[0;34m{\u001B[0m\u001B[0;34m}\u001B[0m \u001B[0;31m# Key\u001B[0m\u001B[0;34m\u001B[0m\u001B[0;34m\u001B[0m\u001B[0m\n\u001B[0m\u001B[1;32m      2\u001B[0m \u001B[0;34m\u001B[0m\u001B[0m\n\u001B[1;32m      3\u001B[0m \u001B[0mhistChat\u001B[0m\u001B[0;34m[\u001B[0m\u001B[0minfo2\u001B[0m\u001B[0;34m[\u001B[0m\u001B[0;36m0\u001B[0m\u001B[0;34m]\u001B[0m\u001B[0;34m]\u001B[0m \u001B[0;34m=\u001B[0m \u001B[0;34m{\u001B[0m\u001B[0;34m}\u001B[0m \u001B[0;31m# Key\u001B[0m\u001B[0;34m\u001B[0m\u001B[0;34m\u001B[0m\u001B[0m\n\u001B[1;32m      4\u001B[0m \u001B[0;34m\u001B[0m\u001B[0m\n\u001B[1;32m      5\u001B[0m \u001B[0mlang1\u001B[0m \u001B[0;34m=\u001B[0m \u001B[0;34m'vi'\u001B[0m \u001B[0;32mif\u001B[0m \u001B[0minfo1\u001B[0m\u001B[0;34m[\u001B[0m\u001B[0;36m1\u001B[0m\u001B[0;34m]\u001B[0m \u001B[0;34m==\u001B[0m \u001B[0;34m\"Vietnam\"\u001B[0m \u001B[0;32melse\u001B[0m \u001B[0;34m'en'\u001B[0m \u001B[0;31m# short statement\u001B[0m\u001B[0;34m\u001B[0m\u001B[0;34m\u001B[0m\u001B[0m\n",
      "\u001B[0;31mNameError\u001B[0m: name 'histChat' is not defined"
     ]
>>>>>>> cee59efccbfff087a3fa84f04f1faad1add5f22c
    }
   ],
   "metadata": {}
  },
  {
   "cell_type": "code",
   "execution_count": null,
   "source": [
    "print(f'Start chatting :')\n",
    "\n",
    "while True:\n",
    "\n",
    "      chat1 = input(f\"{info1[0]} :\")\n",
    "      trans1 = translator.translate(chat1, src = lang1, dest = lang2)\n",
    "      print(f\"({trans1.text})\")\n",
    "\n",
    "      chat2 = input(f\"{info2[0]} :\")\n",
    "      trans2 = translator.translate(chat2, src = lang2, dest = lang1)\n",
    "      print(f\"({trans2.text})\")\n",
    "  \n",
    "      histChat[info1[0]][lang1].append(chat1)\n",
    "      histChat[info1[0]]['Translate'].append(trans1.text)     \n",
    "\n",
    "      histChat[info2[0]][lang2].append(chat2)\n",
    "      histChat[info2[0]]['Translate'].append(trans2.text)   \n",
    "      \n",
    "\n",
    "      if (\"Bye\" in chat1.title()) & (\"Bye\" in chat2.title()):\n",
    "            print(\"End Chatting\")\n",
    "            break"
   ],
   "outputs": [],
   "metadata": {}
  }
 ]
}