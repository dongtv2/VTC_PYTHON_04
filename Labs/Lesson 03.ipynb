{
    "cells": [
        {
            "cell_type": "code",
            "execution_count": 10,
            "source": [
                "import numpy as np\n",
                "import pandas as pd \n",
                "import json\n",
                "import re"
            ],
            "outputs": [],
            "metadata": {}
        },
        {
            "cell_type": "code",
            "execution_count": 11,
            "source": [
                "# Question 1 : Write a program to allow user to input a transaction with product name and quatity\n",
                "# and then print order\n",
                "# Data\n",
                "productData = \"\"\"\n",
                "{\n",
                "    \"Product A\" : 1000,\n",
                "    \"Product B\" : 1500,\n",
                "    \"Product C\" : 2200,\n",
                "    \"Product D\" : 3500,\n",
                "    \"Product E\" : 1700\n",
                "}\n",
                "\"\"\"\n",
                "\n",
                "productDict = json.loads(productData)\n",
                "display(productDict)"
            ],
            "outputs": [
                {
                    "output_type": "display_data",
                    "data": {
                        "text/plain": [
                            "{'Product A': 1000,\n",
                            " 'Product B': 1500,\n",
                            " 'Product C': 2200,\n",
                            " 'Product D': 3500,\n",
                            " 'Product E': 1700}"
                        ]
                    },
                    "metadata": {}
                }
            ],
            "metadata": {}
        },
        {
            "cell_type": "code",
            "execution_count": 12,
            "source": [
                "nBuy = int(input('How many item do you want to buy'))"
            ],
            "outputs": [],
            "metadata": {}
        },
        {
            "cell_type": "code",
            "execution_count": 32,
            "source": [
                "countBuy = {} # countBuy = dict() empty\n",
                "print(f\"Which the product do you want to buy ? {productDict}\")\n",
                "\n",
                "while(True):\n",
                "    count = len(countBuy) # len = 0\n",
                "\n",
                "    ask = f\"Pls input trans : {count + 1}\" #\n",
                "    answer = input(ask).title()\n",
                "\n",
                "    dataInput = re.findall(r\"[\\w\\s\\. ]+\", answer)\n",
                "\n",
                "    Condition1 = len(dataInput) != 2\n",
                "\n",
                "    if Condition1:\n",
                "        print('Input format wrong, kindly check again !')\n",
                "        continue\n",
                "\n",
                "    dataInput[0] = ' '.join(dataInput[0].split())\n",
                "    dataInput[1] = dataInput[1].replace(' ','')\n",
                "\n",
                "    Condition2 = not dataInput[1].replace('.','',1).isdigit()\n",
                "    Condition3 = dataInput[0] not in productDict.keys()\n",
                "    if ( Condition2 | Condition3):\n",
                "        continue\n",
                "    else:\n",
                "        countBuy[dataInput[0]] = float(dataInput[1])    \n",
                "    if(count == nBuy):\n",
                "        print(f\" You already finish input {nBuy} products\")\n",
                "        break\n"
            ],
            "outputs": [
                {
                    "output_type": "stream",
                    "name": "stdout",
                    "text": [
                        "Which the product do you want to buy ? {'Product A': 1000, 'Product B': 1500, 'Product C': 2200, 'Product D': 3500, 'Product E': 1700}\n",
                        " You already finish input 3 products\n"
                    ]
                }
            ],
            "metadata": {}
        },
        {
            "cell_type": "code",
            "execution_count": 30,
            "source": [
                "str1 = \"Product A - 18\"\n",
                "data = re.findall(r\"[\\w\\s\\. ]+\", str1)\n",
                "data[0] = ' '.join(data[0].split())\n",
                "print(data[0])\n",
                "type(data[0])"
            ],
            "outputs": [
                {
                    "output_type": "stream",
                    "name": "stdout",
                    "text": [
                        "Product A\n"
                    ]
                },
                {
                    "output_type": "execute_result",
                    "data": {
                        "text/plain": [
                            "str"
                        ]
                    },
                    "metadata": {},
                    "execution_count": 30
                }
            ],
            "metadata": {}
        },
        {
            "cell_type": "code",
            "execution_count": null,
            "source": [],
            "outputs": [],
            "metadata": {}
        }
    ],
    "metadata": {
        "orig_nbformat": 4,
        "language_info": {
            "name": "python",
            "version": "3.9.6",
            "mimetype": "text/x-python",
            "codemirror_mode": {
                "name": "ipython",
                "version": 3
            },
            "pygments_lexer": "ipython3",
            "nbconvert_exporter": "python",
            "file_extension": ".py"
        },
        "kernelspec": {
            "name": "python3",
            "display_name": "Python 3.8.2 64-bit ('.venv': venv)"
        },
        "interpreter": {
            "hash": "6dbcd731cc7104f98d8615035ef737ba672f907ec98a8faa0190fc05f6f52032"
        }
    },
    "nbformat": 4,
    "nbformat_minor": 2
}