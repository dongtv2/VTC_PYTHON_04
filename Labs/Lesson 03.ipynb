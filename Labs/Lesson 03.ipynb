{
    "cells": [
        {
            "cell_type": "code",
            "execution_count": 1,
            "source": [
                "import numpy as np\n",
                "import pandas as pd \n",
                "import json\n",
                "import re"
            ],
            "outputs": [],
            "metadata": {}
        },
        {
            "cell_type": "code",
            "execution_count": 6,
            "source": [
                "# Question 1 : Write a program to allow user to input a transaction with product name and quatity\n",
                "# and then print order\n",
                "# Data\n",
                "productData = \"\"\"\n",
                "{\n",
                "    \"Product A\" : 1000,\n",
                "    \"Product B\" : 1500,\n",
                "    \"Product C\" : 2200,\n",
                "    \"Product D\" : 3500,\n",
                "    \"Product E\" : 1700\n",
                "}\n",
                "\"\"\"\n",
                "print(type(productData))\n",
                "ProductDict[= json.loads(productData)\n",
                "print(ProductDict[\"Product A\"])\n",
                "print(type(ProductDict))\n",
                "display(ProductDict)"
            ],
            "outputs": [
                {
                    "output_type": "stream",
                    "name": "stdout",
                    "text": [
                        "<class 'str'>\n",
                        "1000\n",
                        "<class 'dict'>\n"
                    ]
                },
                {
                    "output_type": "display_data",
                    "data": {
                        "text/plain": [
                            "{'Product A': 1000,\n",
                            " 'Product B': 1500,\n",
                            " 'Product C': 2200,\n",
                            " 'Product D': 3500,\n",
                            " 'Product E': 1700}"
                        ]
                    },
                    "metadata": {}
                }
            ],
            "metadata": {}
        },
        {
            "cell_type": "code",
            "execution_count": null,
            "source": [],
            "outputs": [],
            "metadata": {}
        },
        {
            "cell_type": "code",
            "execution_count": null,
            "source": [],
            "outputs": [],
            "metadata": {}
        }
    ],
    "metadata": {
        "orig_nbformat": 4,
        "language_info": {
            "name": "python",
            "version": "3.9.6",
            "mimetype": "text/x-python",
            "codemirror_mode": {
                "name": "ipython",
                "version": 3
            },
            "pygments_lexer": "ipython3",
            "nbconvert_exporter": "python",
            "file_extension": ".py"
        },
        "kernelspec": {
            "name": "python3",
            "display_name": "Python 3.9.6 64-bit"
        },
        "interpreter": {
            "hash": "b0fa6594d8f4cbf19f97940f81e996739fb7646882a419484c72d19e05852a7e"
        }
    },
    "nbformat": 4,
    "nbformat_minor": 2
}