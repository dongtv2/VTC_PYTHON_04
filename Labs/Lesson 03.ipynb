{
  "nbformat": 4,
  "nbformat_minor": 2,
  "metadata": {
    "orig_nbformat": 4,
    "language_info": {
      "name": "python",
      "version": "3.9.7",
      "mimetype": "text/x-python",
      "codemirror_mode": {
        "name": "ipython",
        "version": 3
      },
      "pygments_lexer": "ipython3",
      "nbconvert_exporter": "python",
      "file_extension": ".py"
    },
    "kernelspec": {
      "name": "python3",
      "display_name": "Python 3.9.7 64-bit ('.venv': venv)"
    },
    "interpreter": {
      "hash": "990db74c68a4ad8840817df42270103b57a024fca530d8647263614be491db87"
    },
    "colab": {
      "name": "Lesson 03.ipynb",
      "provenance": []
    }
  },
  "cells": [
    {
      "cell_type": "markdown",
      "source": [
        "# LESSON 03 : CONDITION AND LOOP"
      ],
      "metadata": {}
    },
    {
      "cell_type": "code",
      "execution_count": 1,
      "source": [
        "# Import library\r\n",
        "\r\n",
        "import numpy as np\r\n",
        "import pandas as pd \r\n",
        "import json\r\n",
        "import re"
      ],
      "outputs": [],
      "metadata": {
        "id": "sjTfA6GcD08_"
      }
    },
    {
      "cell_type": "code",
      "execution_count": 4,
      "source": [
        "# Question 1 : Write a program to allow user to input a transaction with product name and quatity\r\n",
        "# and then print order\r\n",
        "# Data\r\n",
        "productData = \"\"\"\r\n",
        "{\r\n",
        "    \"Product A\" : 1000,\r\n",
        "    \"Product B\" : 1500,\r\n",
        "    \"Product C\" : 2200,\r\n",
        "    \"Product D\" : 3500,\r\n",
        "    \"Product E\" : 1700\r\n",
        "}\r\n",
        "\"\"\"\r\n",
        "\r\n",
        "productDict = json.loads(productData)\r\n",
        "display(productDict)"
      ],
      "outputs": [
        {
          "output_type": "display_data",
          "data": {
            "text/plain": [
              "{'Product A': 1000,\n",
              " 'Product B': 1500,\n",
              " 'Product C': 2200,\n",
              " 'Product D': 3500,\n",
              " 'Product E': 1700}"
            ]
          },
          "metadata": {}
        }
      ],
      "metadata": {
        "colab": {
          "base_uri": "https://localhost:8080/",
          "height": 102
        },
        "id": "jvbZ_DdND09C",
        "outputId": "0f10fac5-be56-4115-f45d-7abd3ab72568"
      }
    },
    {
      "cell_type": "code",
      "execution_count": 17,
      "source": [
        "nBuy = int(input('How many item do you want to buy'))\r\n",
        "print(nBuy)\r\n",
        "agree = ['yes','no']"
      ],
      "outputs": [
        {
          "output_type": "stream",
          "name": "stdout",
          "text": [
            "3\n"
          ]
        }
      ],
      "metadata": {
        "colab": {
          "base_uri": "https://localhost:8080/"
        },
        "id": "YCf1NLMZD09D",
        "outputId": "fd306c69-8f30-42ac-aa9e-0a4a9ccd47b3"
      }
    },
    {
      "cell_type": "code",
      "execution_count": null,
      "source": [
        "countBuy = {} # countBuy = dict() empty\r\n",
        "\r\n",
        "print(f\"Which the product do you want to buy ? {productDict}\")\r\n",
        "\r\n",
        "while(True):\r\n",
        "    count = len(countBuy) # len = 0\r\n",
        "\r\n",
        "    ask = f\"Pls input trans : {count + 1}\" #\r\n",
        "    ask_yn = f\"Do you want to buy more ?\"\r\n",
        "    answer = input(ask).title()\r\n",
        "    answer_yn = input(ask_yn).lower()\r\n",
        "\r\n",
        "    dataInput = re.findall(r\"[\\w\\s\\. ]+\", answer)\r\n",
        "\r\n",
        "    Condition1 = len(dataInput) != 2 # If not enough key and value\r\n",
        "    \r\n",
        "    Condition4 = ask_yn == agree[1] # Customer choose =  No\r\n",
        "\r\n",
        "    if (Condition1 | Condition4) :\r\n",
        "        print('Input format wrong, kindly check again !')\r\n",
        "        continue\r\n",
        "\r\n",
        "    dataInput[0] = ' '.join(dataInput[0].split())\r\n",
        "    dataInput[1] = dataInput[1].replace(' ','')\r\n",
        "\r\n",
        "    Condition2 = not dataInput[1].replace('.','',1).isdigit()\r\n",
        "    Condition3 = dataInput[0] not in productDict.keys()\r\n",
        "\r\n",
        "\r\n",
        "    if ( Condition2 | Condition3 | Condition4):\r\n",
        "        continue\r\n",
        "    else:\r\n",
        "        countBuy[dataInput[0]] = float(dataInput[1])    # Save value to countBuy dict()\r\n",
        "    if((count +1 == nBuy) | (answer_yn == agree[1])): # count + 1\r\n",
        "        print(f\" You already finish input {nBuy} products\")\r\n",
        "        break\r\n"
      ],
      "outputs": [],
      "metadata": {
        "colab": {
          "base_uri": "https://localhost:8080/"
        },
        "id": "RuqR7eDRD09D",
        "outputId": "f48e900d-9fbe-405c-f11f-d099389cf6c6"
      }
    },
    {
      "cell_type": "code",
      "execution_count": 13,
      "source": [
        "# Print the order\r\n",
        "print(f\"The list of your buying product is \\n {countBuy}\")\r\n",
        "\r\n",
        "print(\"==\"*35)\r\n",
        "total = 0\r\n",
        "for product, quantity in countBuy.items():\r\n",
        "      total += quantity\r\n",
        "      print(f\"\\t Item {product} : {quantity}\")\r\n",
        "print(f\" Total Quantity : {total}\")\r\n",
        "print(\"==\"*35)\r\n",
        "productNameList = '\\t'.join([\"Item \"  + str(idx) + \":\" + product for idx,(product,quantity) in zip(range(len(countBuy)), countBuy.items())])\r\n",
        "productQtyList = '\\t\\t\\t'.join([str(quantity) for idx, (product,quantity) in zip(range(len(countBuy)),countBuy.items())])\r\n",
        "print(productNameList)\r\n",
        "print(productQtyList)"
      ],
      "outputs": [
        {
          "output_type": "stream",
          "name": "stdout",
          "text": [
            "The list of your buying product is \n",
            " {'Product A': 100.0, 'Product B': 200.0, 'Product C': 200.0}\n",
            "======================================================================\n",
            "\t Item Product A : 100.0\n",
            "\t Item Product B : 200.0\n",
            "\t Item Product C : 200.0\n",
            " Total Quantity : 500.0\n",
            "======================================================================\n",
            "Item 0:Product A\tItem 1:Product B\tItem 2:Product C\n",
            "100.0\t\t\t200.0\t\t\t200.0\n"
          ]
        }
      ],
      "metadata": {}
    },
    {
      "cell_type": "code",
      "execution_count": 1,
      "source": [
        "# More Question : Modify the code to allow user input transaction. Each time, ask the question\r\n",
        "# \"Do you want to continue (Yes/No)\". If user input No we stop the transactions //TODO\r\n"
      ],
      "outputs": [],
      "metadata": {}
    },
    {
      "cell_type": "code",
      "execution_count": 29,
      "source": [
        "from googletrans import Translator\r\n",
        "\r\n",
        "translator = Translator()  # Tạo thực thể translator\r\n",
        "\r\n",
        "trans = translator.translate # translate là hành động (action)\r\n",
        "\r\n",
        "sentence = \"I am learning online\"\r\n",
        "\r\n",
        "trans = translator.translate(sentence, scr = 'en', dest='vi')\r\n",
        "\r\n",
        "print(trans.text)"
      ],
      "outputs": [
        {
          "output_type": "stream",
          "name": "stdout",
          "text": [
            "Tôi đang học trực tuyến\n"
          ]
        }
      ],
      "metadata": {}
    },
    {
      "cell_type": "code",
      "execution_count": 27,
      "source": [
        "# Question: Write a Chatting between two users and save the chat as well as translation \r\n",
        "# from/to vietnamese <--> english in the chat history\r\n",
        "\r\n",
        "histChat = {}\r\n",
        "\r\n",
        "question = input(\"Please input your name and your country separated by blank :\")\r\n",
        "\r\n",
        "info1 = [val.strip().title() for val in question.split()]\r\n",
        "question = input(\"Please input your name and your country separated by blank :\")\r\n",
        "info2 = [val.strip().title() for val in question.split()]\r\n",
        "\r\n",
        "print(info1)\r\n",
        "print(info2)"
      ],
      "outputs": [
        {
          "output_type": "stream",
          "name": "stdout",
          "text": [
            "['Dong', 'Vietnam']\n"
          ]
        }
      ],
      "metadata": {}
    },
    {
      "cell_type": "code",
      "execution_count": 30,
      "source": [
        "histChat[info1[0]] = {} # Key\r\n",
        "\r\n",
        "histChat[info2[0]] = {} # Key\r\n",
        "\r\n",
        "lang1 = 'vi' if info1[1] == \"Vietnam\" else 'en' # short statement\r\n",
        "lang2 = 'en' if info2[1] == \"English\" else 'en' # short statement\r\n",
        "\r\n",
        "histChat[info1[0]][lang1] = []\r\n",
        "histChat[info1[0]]['Translate'] = []\r\n",
        "\r\n",
        "histChat[info2[0]][lang2] = []\r\n",
        "histChat[info2[0]]['Translate'] = []\r\n",
        "\r\n",
        "display(histChat)"
      ],
      "outputs": [
        {
          "output_type": "display_data",
          "data": {
            "text/plain": [
              "{'Dong': {'vi': [], 'Translate': []}, 'Jane': {'en': [], 'Translate': []}}"
            ]
          },
          "metadata": {}
        }
      ],
      "metadata": {}
    },
    {
      "cell_type": "code",
      "execution_count": 33,
      "source": [
        "print(f'Start chatting :')\r\n",
        "\r\n",
        "while(True):\r\n",
        "\r\n",
        "      chat1 = input(f\"{info1[0]} :\")\r\n",
        "      trans1 = translator.translate(chat1, src = lang1, dest = lang2)\r\n",
        "      print(f\"({trans1.text})\")\r\n",
        "\r\n",
        "      chat2 = input(f\"{info2[0]} :\")\r\n",
        "      trans2 = translator.translate(chat2, src = lang2, dest = lang1)\r\n",
        "      print(f\"({trans2.text})\")\r\n",
        "  \r\n",
        "      histChat[info1[0]][lang1].append(chat1)\r\n",
        "      histChat[info1[0]]['Translate'].append(trans1.text)     \r\n",
        "\r\n",
        "      histChat[info2[0]][lang2].append(chat2)\r\n",
        "      histChat[info2[0]]['Translate'].append(trans2.text)   \r\n",
        "      \r\n",
        "\r\n",
        "      if((\"Bye\" in chat1.title()) & (\"Bye\" in chat2.title())):\r\n",
        "            print(\"End Chatting\")\r\n",
        "            break"
      ],
      "outputs": [
        {
          "output_type": "stream",
          "name": "stdout",
          "text": [
            "Start chatting :\n",
            "(Hello)\n",
            "(xin chào)\n",
            "(how's it goin)\n",
            "(Tôi ổn)\n",
            "(Bye)\n",
            "(Từ biệt)\n",
            "End Chatting\n"
          ]
        }
      ],
      "metadata": {}
    },
    {
      "cell_type": "code",
      "execution_count": 2,
      "source": [
        "import datetime as dt\r\n",
        "from datetime import date\r\n",
        "from datetime import timedelta\r\n",
        "from calendar import monthrange\r\n",
        "import random\r\n",
        "\r\n",
        "numList = []\r\n",
        "for i in range(0,12):\r\n",
        "      i += 1\r\n",
        "      numList.append(i)\r\n",
        "print(numList)\r\n",
        "now_day = dt.datetime.now()\r\n",
        "\r\n",
        "for i in numList:\r\n",
        "      num_days = monthrange(now_day.year,i)[1]\r\n",
        "      print(f\"Month {i} - {now_day.year} has :{num_days} days\")"
      ],
      "outputs": [
        {
          "output_type": "stream",
          "name": "stdout",
          "text": [
            "[1, 2, 3, 4, 5, 6, 7, 8, 9, 10, 11, 12]\n",
            "Month 1 - 2021 has :31 days\n",
            "Month 2 - 2021 has :28 days\n",
            "Month 3 - 2021 has :31 days\n",
            "Month 4 - 2021 has :30 days\n",
            "Month 5 - 2021 has :31 days\n",
            "Month 6 - 2021 has :30 days\n",
            "Month 7 - 2021 has :31 days\n",
            "Month 8 - 2021 has :31 days\n",
            "Month 9 - 2021 has :30 days\n",
            "Month 10 - 2021 has :31 days\n",
            "Month 11 - 2021 has :30 days\n",
            "Month 12 - 2021 has :31 days\n"
          ]
        }
      ],
      "metadata": {}
    },
    {
      "cell_type": "markdown",
      "source": [
        "# SELF PRACTICE"
      ],
      "metadata": {}
    },
    {
      "cell_type": "code",
      "execution_count": 3,
      "source": [
        "import numpy as np\r\n",
        "import pandas as pd \r\n",
        "import json\r\n",
        "import re"
      ],
      "outputs": [],
      "metadata": {}
    },
    {
      "cell_type": "code",
      "execution_count": 20,
      "source": [
        "# Question 1 : Write a program to allow user to input a transaction with product name and quantity and then print order \r\n",
        "# DATA JSON\r\n",
        "ProductData = \"\"\"\r\n",
        "{\r\n",
        "      \"Product A\" : 1000,\r\n",
        "      \"Product B\" : 1500,\r\n",
        "      \"Product C\" : 2200,\r\n",
        "      \"Product D\" : 3500,\r\n",
        "      \"Product E\" : 1700\r\n",
        "}\"\"\"\r\n",
        "\r\n",
        "productDict = json.loads(ProductData)\r\n",
        "\r\n",
        "print(productDict)"
      ],
      "outputs": [
        {
          "output_type": "stream",
          "name": "stdout",
          "text": [
            "{'Product A': 1000, 'Product B': 1500, 'Product C': 2200, 'Product D': 3500, 'Product E': 1700}\n"
          ]
        }
      ],
      "metadata": {}
    },
    {
      "cell_type": "code",
      "execution_count": 21,
      "source": [
        "nBuy = int(input(\"How many item product do you want to buy\"))\r\n",
        "print(nBuy)"
      ],
      "outputs": [
        {
          "output_type": "stream",
          "name": "stdout",
          "text": [
            "3\n"
          ]
        }
      ],
      "metadata": {}
    },
    {
      "cell_type": "code",
      "execution_count": null,
      "source": [
        "nShopCart = {}\r\n",
        "\r\n",
        "while(True):\r\n",
        "      ask = f\"Input name product and quantity {len(nShopCart) + 1} / {nBuy}\"\r\n",
        "      answer = input(ask).title()\r\n",
        "\r\n",
        "      pattern = \"[\\w\\s .]+\" # regex regulation\r\n",
        "\r\n",
        "      data = re.findall(pattern, answer)\r\n",
        "\r\n",
        "      Condition1 = len(data) != 2\r\n",
        "      \r\n",
        "      if Condition1:\r\n",
        "            print(\"You input wong format, Please input again\")\r\n",
        "            continue\r\n",
        "      data[0] = \" \".join(data[0].split()) # Remove white space and join again with white space\r\n",
        "      data[1] = data[1].strip() # Remove white space\r\n",
        "\r\n",
        "      Condtion2 = data[0] not in productDict.keys() # Check if input the name product not in list product Dictionary\r\n",
        "\r\n",
        "      Condition3 = not data[1].replace('.', '', 1).isdigit() # Check if input is not Integers number.\r\n",
        "      \r\n",
        "      if (Condition2 | Condition3):\r\n",
        "            print(\"You input wong format, Please input again\")\r\n",
        "            continue\r\n",
        "\r\n",
        "      nShopCart[data[0]] = float(data[1])\r\n",
        "\r\n",
        "\r\n",
        "      if (nShopCart == nBuy):\r\n",
        "            print('You complete selection product')\r\n",
        "            break"
      ],
      "outputs": [],
      "metadata": {}
    }
  ]
}