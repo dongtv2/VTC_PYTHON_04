{
  "nbformat": 4,
  "nbformat_minor": 2,
  "metadata": {
    "orig_nbformat": 4,
    "language_info": {
      "name": "python",
      "version": "3.9.7",
      "mimetype": "text/x-python",
      "codemirror_mode": {
        "name": "ipython",
        "version": 3
      },
      "pygments_lexer": "ipython3",
      "nbconvert_exporter": "python",
      "file_extension": ".py"
    },
    "kernelspec": {
      "name": "python3",
      "display_name": "Python 3.9.7 64-bit ('.venv': venv)"
    },
    "interpreter": {
      "hash": "990db74c68a4ad8840817df42270103b57a024fca530d8647263614be491db87"
    },
    "colab": {
      "name": "Lesson 03.ipynb",
      "provenance": []
    }
  },
  "cells": [
    {
      "cell_type": "code",
      "execution_count": 2,
      "source": [
        "import numpy as np\r\n",
        "import pandas as pd \r\n",
        "import json\r\n",
        "import re"
      ],
      "outputs": [],
      "metadata": {
        "id": "sjTfA6GcD08_"
      }
    },
    {
      "cell_type": "code",
      "execution_count": 4,
      "source": [
        "# Question 1 : Write a program to allow user to input a transaction with product name and quatity\r\n",
        "# and then print order\r\n",
        "# Data\r\n",
        "productData = \"\"\"\r\n",
        "{\r\n",
        "    \"Product A\" : 1000,\r\n",
        "    \"Product B\" : 1500,\r\n",
        "    \"Product C\" : 2200,\r\n",
        "    \"Product D\" : 3500,\r\n",
        "    \"Product E\" : 1700\r\n",
        "}\r\n",
        "\"\"\"\r\n",
        "\r\n",
        "productDict = json.loads(productData)\r\n",
        "display(productDict)"
      ],
      "outputs": [
        {
          "output_type": "display_data",
          "data": {
            "text/plain": [
              "{'Product A': 1000,\n",
              " 'Product B': 1500,\n",
              " 'Product C': 2200,\n",
              " 'Product D': 3500,\n",
              " 'Product E': 1700}"
            ]
          },
          "metadata": {}
        }
      ],
      "metadata": {
        "colab": {
          "base_uri": "https://localhost:8080/",
          "height": 102
        },
        "id": "jvbZ_DdND09C",
        "outputId": "0f10fac5-be56-4115-f45d-7abd3ab72568"
      }
    },
    {
      "cell_type": "code",
      "execution_count": 17,
      "source": [
        "nBuy = int(input('How many item do you want to buy'))\r\n",
        "print(nBuy)\r\n",
        "agree = ['yes','no']"
      ],
      "outputs": [
        {
          "output_type": "stream",
          "name": "stdout",
          "text": [
            "3\n"
          ]
        }
      ],
      "metadata": {
        "colab": {
          "base_uri": "https://localhost:8080/"
        },
        "id": "YCf1NLMZD09D",
        "outputId": "fd306c69-8f30-42ac-aa9e-0a4a9ccd47b3"
      }
    },
    {
      "cell_type": "code",
      "execution_count": 19,
      "source": [
        "countBuy = {} # countBuy = dict() empty\r\n",
        "\r\n",
        "print(f\"Which the product do you want to buy ? {productDict}\")\r\n",
        "\r\n",
        "while(True):\r\n",
        "    count = len(countBuy) # len = 0\r\n",
        "\r\n",
        "    ask = f\"Pls input trans : {count + 1}\" #\r\n",
        "    ask_yn = f\"Do you want to buy more ?\"\r\n",
        "    answer = input(ask).title()\r\n",
        "    answer_yn = input(ask_yn).lower()\r\n",
        "\r\n",
        "    dataInput = re.findall(r\"[\\w\\s\\. ]+\", answer)\r\n",
        "\r\n",
        "    Condition1 = len(dataInput) != 2\r\n",
        "    Condition4 = ask_yn == agree[1]\r\n",
        "    if (Condition1 | Condition4) :\r\n",
        "        print('Input format wrong, kindly check again !')\r\n",
        "        continue\r\n",
        "\r\n",
        "    dataInput[0] = ' '.join(dataInput[0].split())\r\n",
        "    dataInput[1] = dataInput[1].replace(' ','')\r\n",
        "\r\n",
        "    Condition2 = not dataInput[1].replace('.','',1).isdigit()\r\n",
        "    Condition3 = dataInput[0] not in productDict.keys()\r\n",
        "\r\n",
        "\r\n",
        "    if ( Condition2 | Condition3 | Condition4):\r\n",
        "        continue\r\n",
        "    else:\r\n",
        "        countBuy[dataInput[0]] = float(dataInput[1])    # Save vaule to countBuy dict()\r\n",
        "    if((count +1 == nBuy) | (answer_yn == agree[1])): # count + 1\r\n",
        "        print(f\" You already finish input {nBuy} products\")\r\n",
        "        break\r\n"
      ],
      "outputs": [
        {
          "output_type": "stream",
          "name": "stdout",
          "text": [
            "Which the product do you want to buy ? {'Product A': 1000, 'Product B': 1500, 'Product C': 2200, 'Product D': 3500, 'Product E': 1700}\n"
          ]
        },
        {
          "output_type": "error",
          "ename": "NameError",
          "evalue": "name 'Condition4' is not defined",
          "traceback": [
            "\u001b[1;31m---------------------------------------------------------------------------\u001b[0m",
            "\u001b[1;31mNameError\u001b[0m                                 Traceback (most recent call last)",
            "\u001b[1;32m~\\AppData\\Local\\Temp/ipykernel_604/782142725.py\u001b[0m in \u001b[0;36m<module>\u001b[1;34m\u001b[0m\n\u001b[0;32m     15\u001b[0m     \u001b[0mCondition1\u001b[0m \u001b[1;33m=\u001b[0m \u001b[0mlen\u001b[0m\u001b[1;33m(\u001b[0m\u001b[0mdataInput\u001b[0m\u001b[1;33m)\u001b[0m \u001b[1;33m!=\u001b[0m \u001b[1;36m2\u001b[0m\u001b[1;33m\u001b[0m\u001b[1;33m\u001b[0m\u001b[0m\n\u001b[0;32m     16\u001b[0m \u001b[1;33m\u001b[0m\u001b[0m\n\u001b[1;32m---> 17\u001b[1;33m     \u001b[1;32mif\u001b[0m \u001b[1;33m(\u001b[0m\u001b[0mCondition1\u001b[0m \u001b[1;33m|\u001b[0m \u001b[0mCondition4\u001b[0m\u001b[1;33m)\u001b[0m \u001b[1;33m:\u001b[0m\u001b[1;33m\u001b[0m\u001b[1;33m\u001b[0m\u001b[0m\n\u001b[0m\u001b[0;32m     18\u001b[0m         \u001b[0mprint\u001b[0m\u001b[1;33m(\u001b[0m\u001b[1;34m'Input format wrong, kindly check again !'\u001b[0m\u001b[1;33m)\u001b[0m\u001b[1;33m\u001b[0m\u001b[1;33m\u001b[0m\u001b[0m\n\u001b[0;32m     19\u001b[0m         \u001b[1;32mcontinue\u001b[0m\u001b[1;33m\u001b[0m\u001b[1;33m\u001b[0m\u001b[0m\n",
            "\u001b[1;31mNameError\u001b[0m: name 'Condition4' is not defined"
          ]
        }
      ],
      "metadata": {
        "colab": {
          "base_uri": "https://localhost:8080/"
        },
        "id": "RuqR7eDRD09D",
        "outputId": "f48e900d-9fbe-405c-f11f-d099389cf6c6"
      }
    },
    {
      "cell_type": "code",
      "execution_count": 18,
      "source": [
        "agree[0]"
      ],
      "outputs": [
        {
          "output_type": "execute_result",
          "data": {
            "text/plain": [
              "'yes'"
            ]
          },
          "metadata": {},
          "execution_count": 18
        }
      ],
      "metadata": {}
    },
    {
      "cell_type": "code",
      "execution_count": 13,
      "source": [
        "# Print the order\r\n",
        "print(f\"The list of your buying product is \\n {countBuy}\")\r\n",
        "\r\n",
        "print(\"==\"*35)\r\n",
        "total = 0\r\n",
        "for product, quantity in countBuy.items():\r\n",
        "      total += quantity\r\n",
        "      print(f\"\\t Item {product} : {quantity}\")\r\n",
        "print(f\" Total Quantity : {total}\")\r\n",
        "print(\"==\"*35)\r\n",
        "productNameList = '\\t'.join([\"Item \"  + str(idx) + \":\" + product for idx,(product,quantity) in zip(range(len(countBuy)), countBuy.items())])\r\n",
        "productQtyList = '\\t\\t\\t'.join([str(quantity) for idx, (product,quantity) in zip(range(len(countBuy)),countBuy.items())])\r\n",
        "print(productNameList)\r\n",
        "print(productQtyList)"
      ],
      "outputs": [
        {
          "output_type": "stream",
          "name": "stdout",
          "text": [
            "The list of your buying product is \n",
            " {'Product A': 100.0, 'Product B': 200.0, 'Product C': 200.0}\n",
            "======================================================================\n",
            "\t Item Product A : 100.0\n",
            "\t Item Product B : 200.0\n",
            "\t Item Product C : 200.0\n",
            " Total Quantity : 500.0\n",
            "======================================================================\n",
            "Item 0:Product A\tItem 1:Product B\tItem 2:Product C\n",
            "100.0\t\t\t200.0\t\t\t200.0\n"
          ]
        }
      ],
      "metadata": {}
    },
    {
      "cell_type": "code",
      "execution_count": null,
      "source": [
        "# More Question : Modify the code to allow user input transaction. Each time, ask the question\r\n",
        "# \"Do you want to continue (Yes/No)\". If user input No we stop the transactions"
      ],
      "outputs": [],
      "metadata": {}
    }
  ]
}