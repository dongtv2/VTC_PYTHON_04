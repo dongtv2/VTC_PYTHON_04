{
  "nbformat": 4,
  "nbformat_minor": 0,
  "metadata": {
    "orig_nbformat": 4,
    "language_info": {
      "name": "python",
      "version": "3.9.6",
      "mimetype": "text/x-python",
      "codemirror_mode": {
        "name": "ipython",
        "version": 3
      },
      "pygments_lexer": "ipython3",
      "nbconvert_exporter": "python",
      "file_extension": ".py"
    },
    "kernelspec": {
      "name": "python3",
      "display_name": "Python 3.8.2 64-bit ('.venv': venv)"
    },
    "interpreter": {
      "hash": "6dbcd731cc7104f98d8615035ef737ba672f907ec98a8faa0190fc05f6f52032"
    },
    "colab": {
      "name": "Lesson 03.ipynb",
      "provenance": []
    }
  },
  "cells": [
    {
      "cell_type": "code",
      "metadata": {
        "id": "sjTfA6GcD08_"
      },
      "source": [
        "import numpy as np\n",
        "import pandas as pd \n",
        "import json\n",
        "import re"
      ],
      "execution_count": 2,
      "outputs": []
    },
    {
      "cell_type": "code",
      "metadata": {
        "colab": {
          "base_uri": "https://localhost:8080/",
          "height": 102
        },
        "id": "jvbZ_DdND09C",
        "outputId": "0f10fac5-be56-4115-f45d-7abd3ab72568"
      },
      "source": [
        "# Question 1 : Write a program to allow user to input a transaction with product name and quatity\n",
        "# and then print order\n",
        "# Data\n",
        "productData = \"\"\"\n",
        "{\n",
        "    \"Product A\" : 1000,\n",
        "    \"Product B\" : 1500,\n",
        "    \"Product C\" : 2200,\n",
        "    \"Product D\" : 3500,\n",
        "    \"Product E\" : 1700\n",
        "}\n",
        "\"\"\"\n",
        "\n",
        "productDict = json.loads(productData)\n",
        "display(productDict)"
      ],
      "execution_count": 3,
      "outputs": [
        {
          "output_type": "display_data",
          "data": {
            "text/plain": [
              "{'Product A': 1000,\n",
              " 'Product B': 1500,\n",
              " 'Product C': 2200,\n",
              " 'Product D': 3500,\n",
              " 'Product E': 1700}"
            ]
          },
          "metadata": {}
        }
      ]
    },
    {
      "cell_type": "code",
      "metadata": {
        "colab": {
          "base_uri": "https://localhost:8080/"
        },
        "id": "YCf1NLMZD09D",
        "outputId": "fd306c69-8f30-42ac-aa9e-0a4a9ccd47b3"
      },
      "source": [
        "nBuy = int(input('How many item do you want to buy'))"
      ],
      "execution_count": 4,
      "outputs": [
        {
          "name": "stdout",
          "output_type": "stream",
          "text": [
            "How many item do you want to buy3\n"
          ]
        }
      ]
    },
    {
      "cell_type": "code",
      "metadata": {
        "colab": {
          "base_uri": "https://localhost:8080/"
        },
        "id": "RuqR7eDRD09D",
        "outputId": "f48e900d-9fbe-405c-f11f-d099389cf6c6"
      },
      "source": [
        "countBuy = {} # countBuy = dict() empty\n",
        "print(f\"Which the product do you want to buy ? {productDict}\")\n",
        "\n",
        "while(True):\n",
        "    count = len(countBuy) # len = 0\n",
        "\n",
        "    ask = f\"Pls input trans : {count + 1}\" #\n",
        "    answer = input(ask).title()\n",
        "\n",
        "    dataInput = re.findall(r\"[\\w\\s\\. ]+\", answer)\n",
        "\n",
        "    Condition1 = len(dataInput) != 2\n",
        "\n",
        "    if Condition1:\n",
        "        print('Input format wrong, kindly check again !')\n",
        "        continue\n",
        "\n",
        "    dataInput[0] = ' '.join(dataInput[0].split())\n",
        "    dataInput[1] = dataInput[1].replace(' ','')\n",
        "\n",
        "    Condition2 = not dataInput[1].replace('.','',1).isdigit()\n",
        "    Condition3 = dataInput[0] not in productDict.keys()\n",
        "\n",
        "    if ( Condition2 | Condition3):\n",
        "        continue\n",
        "    else:\n",
        "        countBuy[dataInput[0]] = float(dataInput[1])    \n",
        "    if(count +1 == nBuy): # count + 1\n",
        "        print(f\" You already finish input {nBuy} products\")\n",
        "        break\n"
      ],
      "execution_count": 5,
      "outputs": [
        {
          "output_type": "stream",
          "name": "stdout",
          "text": [
            "Which the product do you want to buy ? {'Product A': 1000, 'Product B': 1500, 'Product C': 2200, 'Product D': 3500, 'Product E': 1700}\n",
            "Pls input trans : 1product a - 100\n",
            "Pls input trans : 2product b - 200\n",
            "Pls input trans : 3product c - 300\n",
            "Pls input trans : 4product d - 400\n",
            " You already finish input 3 products\n"
          ]
        }
      ]
    },
    {
      "cell_type": "code",
      "metadata": {
        "colab": {
          "base_uri": "https://localhost:8080/"
        },
        "id": "d9nyANPPD09E",
        "outputId": "7ef30f48-7848-4ae8-9d93-b6d1cc5eb264"
      },
      "source": [
        "str1 = \"Product A - 18\"\n",
        "data = re.findall(r\"[\\w\\s\\. ]+\", str1)\n",
        "data[0] = ' '.join(data[0].split())\n",
        "print(data[0])\n",
        "type(data[0])"
      ],
      "execution_count": 6,
      "outputs": [
        {
          "output_type": "stream",
          "name": "stdout",
          "text": [
            "Product A\n"
          ]
        },
        {
          "output_type": "execute_result",
          "data": {
            "text/plain": [
              "str"
            ]
          },
          "metadata": {},
          "execution_count": 6
        }
      ]
    },
    {
      "cell_type": "code",
      "metadata": {
        "id": "gisbKprBD09E"
      },
      "source": [
        ""
      ],
      "execution_count": 6,
      "outputs": []
    }
  ]
}