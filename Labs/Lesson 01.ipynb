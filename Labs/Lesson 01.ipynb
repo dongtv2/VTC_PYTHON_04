{
<<<<<<< HEAD
    "cells": [
        {
            "cell_type": "markdown",
            "source": [
                "# LESSON 01 : VARIABLE AND OPERARTION"
            ],
            "metadata": {}
        },
        {
            "cell_type": "code",
            "execution_count": 3,
            "source": [
                "import datetime as dt\r\n",
                "from datetime import date\r\n",
                "from datetime import timedelta\r\n",
                "from calendar import monthrange\r\n",
                "import random\r\n",
                "\r\n",
                "numList = []\r\n",
                "for i in range(0,12):\r\n",
                "      i += 1\r\n",
                "      numList.append(i)\r\n",
                "print(numList)\r\n",
                "now_day = dt.datetime.now()\r\n",
                "\r\n",
                "for i in numList:\r\n",
                "      num_days = monthrange(now_day.year,i)[1]\r\n",
                "      print(f\"Month {i} - {now_day.year} has :{num_days} days\")"
            ],
            "outputs": [
                {
                    "output_type": "stream",
                    "name": "stdout",
                    "text": [
                        "Month 1 - 2021 has :31 days\n",
                        "Month 2 - 2021 has :28 days\n",
                        "Month 3 - 2021 has :31 days\n",
                        "Month 4 - 2021 has :30 days\n",
                        "Month 5 - 2021 has :31 days\n",
                        "Month 6 - 2021 has :30 days\n",
                        "Month 7 - 2021 has :31 days\n",
                        "Month 8 - 2021 has :31 days\n",
                        "Month 9 - 2021 has :30 days\n",
                        "Month 10 - 2021 has :31 days\n",
                        "Month 11 - 2021 has :30 days\n",
                        "Month 12 - 2021 has :31 days\n"
                    ]
                }
            ],
            "metadata": {}
        },
        {
            "cell_type": "code",
            "execution_count": 13,
            "source": [
                "numList = []\r\n",
                "for i in range(0,12):\r\n",
                "      i += 1\r\n",
                "      numList.append(i)\r\n",
                "print(numList)"
            ],
            "outputs": [
                {
                    "output_type": "stream",
                    "name": "stdout",
                    "text": [
                        "[1, 2, 3, 4, 5, 6, 7, 8, 9, 10, 11, 12]\n"
                    ]
                }
            ],
            "metadata": {}
        },
        {
            "cell_type": "code",
            "execution_count": 1,
            "source": [
                "# NUMBER : INT, COMPLEX, FLOAT\r\n",
                "import numpy as np\r\n",
                "import pandas as pd\r\n",
                "\r\n",
                "u = np.array(['Cam', 'Quyt', 'Mit', 'Dua']) # Array\r\n",
                "v = {'USA':'New York','VietNam' : 'Ho Chi Minh','Korea' :'Seoul'} # Dictionary\r\n",
                "\r\n",
                "s1 = pd.Series(u)\r\n",
                "s2 = pd.Series(v)\r\n",
                "\r\n",
                "print(u,type(u))\r\n",
                "print(v,type(v))\r\n",
                "print(s1,type(s1),s1[0], len(s1))"
            ],
            "outputs": [
                {
                    "output_type": "stream",
                    "name": "stdout",
                    "text": [
                        "['Cam' 'Quyt' 'Mit' 'Dua'] <class 'numpy.ndarray'>\n",
                        "{'USA': 'New York', 'VietNam': 'Ho Chi Minh', 'Korea': 'Seoul'} <class 'dict'>\n",
                        "0     Cam\n",
                        "1    Quyt\n",
                        "2     Mit\n",
                        "3     Dua\n",
                        "dtype: object <class 'pandas.core.series.Series'> Cam 4\n"
                    ]
                }
            ],
            "metadata": {}
        },
        {
            "cell_type": "markdown",
            "source": [],
            "metadata": {}
        }
    ],
    "metadata": {
        "orig_nbformat": 4,
        "language_info": {
            "name": "python",
            "version": "3.9.7",
            "mimetype": "text/x-python",
            "codemirror_mode": {
                "name": "ipython",
                "version": 3
            },
            "pygments_lexer": "ipython3",
            "nbconvert_exporter": "python",
            "file_extension": ".py"
        },
        "kernelspec": {
            "name": "python3",
            "display_name": "Python 3.9.7 64-bit ('.venv': venv)"
        },
        "interpreter": {
            "hash": "990db74c68a4ad8840817df42270103b57a024fca530d8647263614be491db87"
        }
    },
    "nbformat": 4,
    "nbformat_minor": 2
=======
 "cells": [
  {
   "cell_type": "markdown",
   "source": [
    "# LESSON 01 VARIABLE AND OPERATION"
   ],
   "metadata": {
    "collapsed": false
   }
  },
  {
   "cell_type": "code",
   "execution_count": 2,
   "outputs": [
    {
     "name": "stdout",
     "output_type": "stream",
     "text": [
      "['Cam' 'Quyt' 'Mit' 'Dua'] <class 'numpy.ndarray'>\n",
      "{'USA': 'New York', 'VietNam': 'Ho Chi Minh', 'Korea': 'Seoul'} <class 'dict'>\n",
      "0     Cam\n",
      "1    Quyt\n",
      "2     Mit\n",
      "3     Dua\n",
      "dtype: object <class 'pandas.core.series.Series'> Cam 4\n"
     ]
    }
   ],
   "source": [
    "# NUMBER : INT, COMPLEX, FLOAT\n",
    "import numpy as np\n",
    "import pandas as pd\n",
    "\n",
    "u = np.array(['Cam', 'Quyt', 'Mit', 'Dua']) # Array\n",
    "v = {'USA':'New York','VietNam' : 'Ho Chi Minh','Korea' :'Seoul'} # Dictionary\n",
    "\n",
    "s1 = pd.Series(u)\n",
    "s2 = pd.Series(v)\n",
    "\n",
    "print(u,type(u))\n",
    "print(v,type(v))\n",
    "print(s1,type(s1),s1[0], len(s1))"
   ],
   "metadata": {
    "collapsed": false,
    "pycharm": {
     "name": "#%%\n"
    }
   }
  },
  {
   "cell_type": "markdown",
   "source": [
    "# Date and time\n",
    "- Acknowledge the function of date & time"
   ],
   "metadata": {
    "collapsed": false,
    "pycharm": {
     "name": "#%% md\n"
    }
   }
  },
  {
   "cell_type": "code",
   "source": [
    "import datetime as dt\n",
    "\n",
    "now_day = dt.datetime.now()\n",
    "birthday = input('Input your birthday dd-mm-yyyy')\n",
    "birthday_date = dt.datetime.strptime(birthday,'dd-mm-yyyy')\n",
    "print(birthday)"
   ],
   "metadata": {
    "collapsed": false,
    "pycharm": {
     "name": "#%%\n"
    }
   },
   "execution_count": 3,
   "outputs": [
    {
     "ename": "ValueError",
     "evalue": "time data '12-10-1984' does not match format 'dd-mm-yyyy'",
     "output_type": "error",
     "traceback": [
      "\u001B[0;31m---------------------------------------------------------------------------\u001B[0m",
      "\u001B[0;31mValueError\u001B[0m                                Traceback (most recent call last)",
      "\u001B[0;32m/var/folders/n1/xlgk_vr17g3ds00rwzr2cp2m0000gn/T/ipykernel_18901/1147500674.py\u001B[0m in \u001B[0;36m<module>\u001B[0;34m\u001B[0m\n\u001B[1;32m      3\u001B[0m \u001B[0mnow_day\u001B[0m \u001B[0;34m=\u001B[0m \u001B[0mdt\u001B[0m\u001B[0;34m.\u001B[0m\u001B[0mdatetime\u001B[0m\u001B[0;34m.\u001B[0m\u001B[0mnow\u001B[0m\u001B[0;34m(\u001B[0m\u001B[0;34m)\u001B[0m\u001B[0;34m\u001B[0m\u001B[0;34m\u001B[0m\u001B[0m\n\u001B[1;32m      4\u001B[0m \u001B[0mbirthday\u001B[0m \u001B[0;34m=\u001B[0m \u001B[0minput\u001B[0m\u001B[0;34m(\u001B[0m\u001B[0;34m'Input your birthday dd-mm-yyyy'\u001B[0m\u001B[0;34m)\u001B[0m\u001B[0;34m\u001B[0m\u001B[0;34m\u001B[0m\u001B[0m\n\u001B[0;32m----> 5\u001B[0;31m \u001B[0mbirthday_date\u001B[0m \u001B[0;34m=\u001B[0m \u001B[0mdt\u001B[0m\u001B[0;34m.\u001B[0m\u001B[0mdatetime\u001B[0m\u001B[0;34m.\u001B[0m\u001B[0mstrptime\u001B[0m\u001B[0;34m(\u001B[0m\u001B[0mbirthday\u001B[0m\u001B[0;34m,\u001B[0m\u001B[0;34m'dd-mm-yyyy'\u001B[0m\u001B[0;34m)\u001B[0m\u001B[0;34m\u001B[0m\u001B[0;34m\u001B[0m\u001B[0m\n\u001B[0m\u001B[1;32m      6\u001B[0m \u001B[0mprint\u001B[0m\u001B[0;34m(\u001B[0m\u001B[0mbirthday\u001B[0m\u001B[0;34m)\u001B[0m\u001B[0;34m\u001B[0m\u001B[0;34m\u001B[0m\u001B[0m\n",
      "\u001B[0;32m/Library/Developer/CommandLineTools/Library/Frameworks/Python3.framework/Versions/3.8/lib/python3.8/_strptime.py\u001B[0m in \u001B[0;36m_strptime_datetime\u001B[0;34m(cls, data_string, format)\u001B[0m\n\u001B[1;32m    566\u001B[0m     \"\"\"Return a class cls instance based on the input string and the\n\u001B[1;32m    567\u001B[0m     format string.\"\"\"\n\u001B[0;32m--> 568\u001B[0;31m     \u001B[0mtt\u001B[0m\u001B[0;34m,\u001B[0m \u001B[0mfraction\u001B[0m\u001B[0;34m,\u001B[0m \u001B[0mgmtoff_fraction\u001B[0m \u001B[0;34m=\u001B[0m \u001B[0m_strptime\u001B[0m\u001B[0;34m(\u001B[0m\u001B[0mdata_string\u001B[0m\u001B[0;34m,\u001B[0m \u001B[0mformat\u001B[0m\u001B[0;34m)\u001B[0m\u001B[0;34m\u001B[0m\u001B[0;34m\u001B[0m\u001B[0m\n\u001B[0m\u001B[1;32m    569\u001B[0m     \u001B[0mtzname\u001B[0m\u001B[0;34m,\u001B[0m \u001B[0mgmtoff\u001B[0m \u001B[0;34m=\u001B[0m \u001B[0mtt\u001B[0m\u001B[0;34m[\u001B[0m\u001B[0;34m-\u001B[0m\u001B[0;36m2\u001B[0m\u001B[0;34m:\u001B[0m\u001B[0;34m]\u001B[0m\u001B[0;34m\u001B[0m\u001B[0;34m\u001B[0m\u001B[0m\n\u001B[1;32m    570\u001B[0m     \u001B[0margs\u001B[0m \u001B[0;34m=\u001B[0m \u001B[0mtt\u001B[0m\u001B[0;34m[\u001B[0m\u001B[0;34m:\u001B[0m\u001B[0;36m6\u001B[0m\u001B[0;34m]\u001B[0m \u001B[0;34m+\u001B[0m \u001B[0;34m(\u001B[0m\u001B[0mfraction\u001B[0m\u001B[0;34m,\u001B[0m\u001B[0;34m)\u001B[0m\u001B[0;34m\u001B[0m\u001B[0;34m\u001B[0m\u001B[0m\n",
      "\u001B[0;32m/Library/Developer/CommandLineTools/Library/Frameworks/Python3.framework/Versions/3.8/lib/python3.8/_strptime.py\u001B[0m in \u001B[0;36m_strptime\u001B[0;34m(data_string, format)\u001B[0m\n\u001B[1;32m    347\u001B[0m     \u001B[0mfound\u001B[0m \u001B[0;34m=\u001B[0m \u001B[0mformat_regex\u001B[0m\u001B[0;34m.\u001B[0m\u001B[0mmatch\u001B[0m\u001B[0;34m(\u001B[0m\u001B[0mdata_string\u001B[0m\u001B[0;34m)\u001B[0m\u001B[0;34m\u001B[0m\u001B[0;34m\u001B[0m\u001B[0m\n\u001B[1;32m    348\u001B[0m     \u001B[0;32mif\u001B[0m \u001B[0;32mnot\u001B[0m \u001B[0mfound\u001B[0m\u001B[0;34m:\u001B[0m\u001B[0;34m\u001B[0m\u001B[0;34m\u001B[0m\u001B[0m\n\u001B[0;32m--> 349\u001B[0;31m         raise ValueError(\"time data %r does not match format %r\" %\n\u001B[0m\u001B[1;32m    350\u001B[0m                          (data_string, format))\n\u001B[1;32m    351\u001B[0m     \u001B[0;32mif\u001B[0m \u001B[0mlen\u001B[0m\u001B[0;34m(\u001B[0m\u001B[0mdata_string\u001B[0m\u001B[0;34m)\u001B[0m \u001B[0;34m!=\u001B[0m \u001B[0mfound\u001B[0m\u001B[0;34m.\u001B[0m\u001B[0mend\u001B[0m\u001B[0;34m(\u001B[0m\u001B[0;34m)\u001B[0m\u001B[0;34m:\u001B[0m\u001B[0;34m\u001B[0m\u001B[0;34m\u001B[0m\u001B[0m\n",
      "\u001B[0;31mValueError\u001B[0m: time data '12-10-1984' does not match format 'dd-mm-yyyy'"
     ]
    }
   ]
  }
 ],
 "metadata": {
  "orig_nbformat": 4,
  "language_info": {
   "name": "python",
   "version": "3.9.7",
   "mimetype": "text/x-python",
   "codemirror_mode": {
    "name": "ipython",
    "version": 3
   },
   "pygments_lexer": "ipython3",
   "nbconvert_exporter": "python",
   "file_extension": ".py"
  },
  "kernelspec": {
   "name": "python3",
   "display_name": "Python 3.9.7 64-bit ('.venv': venv)"
  },
  "interpreter": {
   "hash": "990db74c68a4ad8840817df42270103b57a024fca530d8647263614be491db87"
  }
 },
 "nbformat": 4,
 "nbformat_minor": 2
>>>>>>> cee59efccbfff087a3fa84f04f1faad1add5f22c
}