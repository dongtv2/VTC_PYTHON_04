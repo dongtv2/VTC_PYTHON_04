{
    "cells": [
        {
            "cell_type": "markdown",
            "source": [
                "# LESSON 01 : VARIABLE AND OPERARTION"
            ],
            "metadata": {}
        },
        {
            "cell_type": "code",
            "execution_count": 3,
            "source": [
                "import datetime as dt\r\n",
                "from datetime import date\r\n",
                "from datetime import timedelta\r\n",
                "from calendar import monthrange\r\n",
                "import random\r\n",
                "\r\n",
                "numList = []\r\n",
                "for i in range(0,12):\r\n",
                "      i += 1\r\n",
                "      numList.append(i)\r\n",
                "print(numList)\r\n",
                "now_day = dt.datetime.now()\r\n",
                "\r\n",
                "for i in numList:\r\n",
                "      num_days = monthrange(now_day.year,i)[1]\r\n",
                "      print(f\"Month {i} - {now_day.year} has :{num_days} days\")"
            ],
            "outputs": [
                {
                    "output_type": "stream",
                    "name": "stdout",
                    "text": [
                        "Month 1 - 2021 has :31 days\n",
                        "Month 2 - 2021 has :28 days\n",
                        "Month 3 - 2021 has :31 days\n",
                        "Month 4 - 2021 has :30 days\n",
                        "Month 5 - 2021 has :31 days\n",
                        "Month 6 - 2021 has :30 days\n",
                        "Month 7 - 2021 has :31 days\n",
                        "Month 8 - 2021 has :31 days\n",
                        "Month 9 - 2021 has :30 days\n",
                        "Month 10 - 2021 has :31 days\n",
                        "Month 11 - 2021 has :30 days\n",
                        "Month 12 - 2021 has :31 days\n"
                    ]
                }
            ],
            "metadata": {}
        },
        {
            "cell_type": "code",
            "execution_count": 13,
            "source": [
                "numList = []\r\n",
                "for i in range(0,12):\r\n",
                "      i += 1\r\n",
                "      numList.append(i)\r\n",
                "print(numList)"
            ],
            "outputs": [
                {
                    "output_type": "stream",
                    "name": "stdout",
                    "text": [
                        "[1, 2, 3, 4, 5, 6, 7, 8, 9, 10, 11, 12]\n"
                    ]
                }
            ],
            "metadata": {}
        },
        {
            "cell_type": "code",
            "execution_count": 1,
            "source": [
                "# NUMBER : INT, COMPLEX, FLOAT\r\n",
                "import numpy as np\r\n",
                "import pandas as pd\r\n",
                "\r\n",
                "u = np.array(['Cam', 'Quyt', 'Mit', 'Dua']) # Array\r\n",
                "v = {'USA':'New York','VietNam' : 'Ho Chi Minh','Korea' :'Seoul'} # Dictionary\r\n",
                "\r\n",
                "s1 = pd.Series(u)\r\n",
                "s2 = pd.Series(v)\r\n",
                "\r\n",
                "print(u,type(u))\r\n",
                "print(v,type(v))\r\n",
                "print(s1,type(s1),s1[0], len(s1))"
            ],
            "outputs": [
                {
                    "output_type": "stream",
                    "name": "stdout",
                    "text": [
                        "['Cam' 'Quyt' 'Mit' 'Dua'] <class 'numpy.ndarray'>\n",
                        "{'USA': 'New York', 'VietNam': 'Ho Chi Minh', 'Korea': 'Seoul'} <class 'dict'>\n",
                        "0     Cam\n",
                        "1    Quyt\n",
                        "2     Mit\n",
                        "3     Dua\n",
                        "dtype: object <class 'pandas.core.series.Series'> Cam 4\n"
                    ]
                }
            ],
            "metadata": {}
        },
        {
            "cell_type": "markdown",
            "source": [],
            "metadata": {}
        }
    ],
    "metadata": {
        "orig_nbformat": 4,
        "language_info": {
            "name": "python",
            "version": "3.9.7",
            "mimetype": "text/x-python",
            "codemirror_mode": {
                "name": "ipython",
                "version": 3
            },
            "pygments_lexer": "ipython3",
            "nbconvert_exporter": "python",
            "file_extension": ".py"
        },
        "kernelspec": {
            "name": "python3",
            "display_name": "Python 3.9.7 64-bit ('.venv': venv)"
        },
        "interpreter": {
            "hash": "990db74c68a4ad8840817df42270103b57a024fca530d8647263614be491db87"
        }
    },
    "nbformat": 4,
    "nbformat_minor": 2
}