{
 "cells": [
  {
   "cell_type": "markdown",
   "source": [
    "# LESSON 01 VARIABLE AND OPERATION"
   ],
   "metadata": {
    "collapsed": false
   }
  },
  {
   "cell_type": "code",
   "execution_count": 2,
   "outputs": [
    {
     "name": "stdout",
     "output_type": "stream",
     "text": [
      "['Cam' 'Quyt' 'Mit' 'Dua'] <class 'numpy.ndarray'>\n",
      "{'USA': 'New York', 'VietNam': 'Ho Chi Minh', 'Korea': 'Seoul'} <class 'dict'>\n",
      "0     Cam\n",
      "1    Quyt\n",
      "2     Mit\n",
      "3     Dua\n",
      "dtype: object <class 'pandas.core.series.Series'> Cam 4\n"
     ]
    }
   ],
   "source": [
    "# NUMBER : INT, COMPLEX, FLOAT\n",
    "import numpy as np\n",
    "import pandas as pd\n",
    "\n",
    "u = np.array(['Cam', 'Quyt', 'Mit', 'Dua']) # Array\n",
    "v = {'USA':'New York','VietNam' : 'Ho Chi Minh','Korea' :'Seoul'} # Dictionary\n",
    "\n",
    "s1 = pd.Series(u)\n",
    "s2 = pd.Series(v)\n",
    "\n",
    "print(u,type(u))\n",
    "print(v,type(v))\n",
    "print(s1,type(s1),s1[0], len(s1))"
   ],
   "metadata": {
    "collapsed": false,
    "pycharm": {
     "name": "#%%\n"
    }
   }
  },
  {
   "cell_type": "markdown",
   "source": [],
   "metadata": {
    "collapsed": false
   }
  }
 ],
 "metadata": {
  "orig_nbformat": 4,
  "language_info": {
   "name": "python",
   "version": "3.9.7",
   "mimetype": "text/x-python",
   "codemirror_mode": {
    "name": "ipython",
    "version": 3
   },
   "pygments_lexer": "ipython3",
   "nbconvert_exporter": "python",
   "file_extension": ".py"
  },
  "kernelspec": {
   "name": "python3",
   "display_name": "Python 3.9.7 64-bit ('.venv': venv)"
  },
  "interpreter": {
   "hash": "990db74c68a4ad8840817df42270103b57a024fca530d8647263614be491db87"
  }
 },
 "nbformat": 4,
 "nbformat_minor": 2
}