{
 "cells": [
  {
   "cell_type": "code",
   "execution_count": 8,
   "source": [
    "# SELF PRACTICE\r\n",
    "import numpy as np\r\n",
    "import pandas as pd \r\n",
    "import json\r\n",
    "import re\r\n",
    "# Question 1 : Write a program to allow user to input a transaction with product name and quantity and then print order \r\n",
    "# DATA JSON\r\n",
    "ProductData = \"\"\"\r\n",
    "{\r\n",
    "      \"Product A\" : 1000,\r\n",
    "      \"Product B\" : 1500,\r\n",
    "      \"Product C\" : 2200,\r\n",
    "      \"Product D\" : 3500,\r\n",
    "      \"Product E\" : 1700\r\n",
    "}\"\"\"\r\n",
    "\r\n",
    "productDict = json.loads(ProductData)\r\n",
    "\r\n",
    "print(productDict)\r\n",
    "nBuy = int(input(\"How many item product do you want to buy\"))\r\n",
    "print(nBuy)\r\n",
    "nShopCart = {}\r\n",
    "\r\n",
    "while(True):\r\n",
    "      ask = f\"Input name product and quantity {len(nShopCart) + 1} / {nBuy}\"\r\n",
    "      answer = input(ask).title()\r\n",
    "\r\n",
    "\r\n",
    "\r\n",
    "      data = re.findall(r\"[\\w\\s.]+\", answer)\r\n",
    "\r\n",
    "      Condition1 = len(data) != 2\r\n",
    "      \r\n",
    "      if Condition1:\r\n",
    "            print(\"You input wong format, Please input again\")\r\n",
    "            continue\r\n",
    "      data[0] = \" \".join(data[0].split()) # Remove white space and join again with white space\r\n",
    "      data[1] = data[1].strip() # Remove white space\r\n",
    "\r\n",
    "      Condition2 = data[0] not in productDict.keys() # Check if input the name product not in list product Dictionary\r\n",
    "\r\n",
    "      Condition3 = not data[1].replace('.', '', 1).isdigit() # Check if input is not Integer number.\r\n",
    "      \r\n",
    "      if (Condition2 | Condition3):\r\n",
    "            print(\"You input wong format, Please input again\")\r\n",
    "            continue\r\n",
    "\r\n",
    "      nShopCart[data[0]] = float(data[1])\r\n",
    "\r\n",
    "\r\n",
    "      if (len(nShopCart) >= nBuy):\r\n",
    "            print('You complete selection product')\r\n",
    "            break"
   ],
   "outputs": [
    {
     "output_type": "stream",
     "name": "stdout",
     "text": [
      "{'Product A': 1000, 'Product B': 1500, 'Product C': 2200, 'Product D': 3500, 'Product E': 1700}\n",
      "1\n",
      "You complete selection product\n"
     ]
    }
   ],
   "metadata": {}
  },
  {
   "cell_type": "code",
   "execution_count": 5,
   "source": [
    "s1 = \"Product A - 10000\"\r\n",
    "dt = re.findall(r\"[\\w\\s.]+\",s1)\r\n",
    "dt"
   ],
   "outputs": [
    {
     "output_type": "execute_result",
     "data": {
      "text/plain": [
       "['Product A ', ' 10000']"
      ]
     },
     "metadata": {},
     "execution_count": 5
    }
   ],
   "metadata": {}
  }
 ],
 "metadata": {
  "orig_nbformat": 4,
  "language_info": {
   "name": "python",
   "version": "3.9.7",
   "mimetype": "text/x-python",
   "codemirror_mode": {
    "name": "ipython",
    "version": 3
   },
   "pygments_lexer": "ipython3",
   "nbconvert_exporter": "python",
   "file_extension": ".py"
  },
  "kernelspec": {
   "name": "python3",
   "display_name": "Python 3.9.7 64-bit ('.venv': venv)"
  },
  "interpreter": {
   "hash": "990db74c68a4ad8840817df42270103b57a024fca530d8647263614be491db87"
  }
 },
 "nbformat": 4,
 "nbformat_minor": 2
}