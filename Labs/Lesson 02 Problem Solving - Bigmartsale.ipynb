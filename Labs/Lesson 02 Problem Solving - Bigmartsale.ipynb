{
    "cells": [
        {
            "cell_type": "code",
            "execution_count": 10,
            "source": [
                "import os\n",
                "path = 'C:\\\\vsCode\\\\git\\\\VTC_PYTHON_04\\\\Data\\\\BigMartSales Prediction\\\\'\n",
                "\n",
                "os.path.isdir(path)\n",
                "os.listdir(path)\n",
                "os.chdir(path) # Chuyên đuowngf dẫn"
            ],
            "outputs": [],
            "metadata": {}
        },
        {
            "cell_type": "code",
            "execution_count": 11,
            "source": [
                "# Dự đoán sức mua của siêu thị - Problem solving\n",
                "\n",
                "import pandas as pd\n",
                "train = pd.read_csv('Train.csv')\n",
                "test = pd.read_csv('Test.csv')\n",
                "\n",
                "print(train.shape, test.shape)\n",
                "print(train.index) # dánh sach chỉ số\n",
                "print(train.columns) # danh sách cột"
            ],
            "outputs": [
                {
                    "output_type": "stream",
                    "name": "stdout",
                    "text": [
                        "(8523, 12) (5681, 11)\n",
                        "RangeIndex(start=0, stop=8523, step=1)\n",
                        "Index(['Item_Identifier', 'Item_Weight', 'Item_Fat_Content', 'Item_Visibility',\n",
                        "       'Item_Type', 'Item_MRP', 'Outlet_Identifier',\n",
                        "       'Outlet_Establishment_Year', 'Outlet_Size', 'Outlet_Location_Type',\n",
                        "       'Outlet_Type', 'Item_Outlet_Sales'],\n",
                        "      dtype='object')\n"
                    ]
                }
            ],
            "metadata": {}
        },
        {
            "cell_type": "code",
            "execution_count": 12,
            "source": [
                "display(train.head(5))"
            ],
            "outputs": [
                {
                    "output_type": "display_data",
                    "data": {
                        "text/plain": [
                            "  Item_Identifier  Item_Weight Item_Fat_Content  Item_Visibility  \\\n",
                            "0           FDA15         9.30          Low Fat         0.016047   \n",
                            "1           DRC01         5.92          Regular         0.019278   \n",
                            "2           FDN15        17.50          Low Fat         0.016760   \n",
                            "3           FDX07        19.20          Regular         0.000000   \n",
                            "4           NCD19         8.93          Low Fat         0.000000   \n",
                            "\n",
                            "               Item_Type  Item_MRP Outlet_Identifier  \\\n",
                            "0                  Dairy  249.8092            OUT049   \n",
                            "1            Soft Drinks   48.2692            OUT018   \n",
                            "2                   Meat  141.6180            OUT049   \n",
                            "3  Fruits and Vegetables  182.0950            OUT010   \n",
                            "4              Household   53.8614            OUT013   \n",
                            "\n",
                            "   Outlet_Establishment_Year Outlet_Size Outlet_Location_Type  \\\n",
                            "0                       1999      Medium               Tier 1   \n",
                            "1                       2009      Medium               Tier 3   \n",
                            "2                       1999      Medium               Tier 1   \n",
                            "3                       1998         NaN               Tier 3   \n",
                            "4                       1987        High               Tier 3   \n",
                            "\n",
                            "         Outlet_Type  Item_Outlet_Sales  \n",
                            "0  Supermarket Type1          3735.1380  \n",
                            "1  Supermarket Type2           443.4228  \n",
                            "2  Supermarket Type1          2097.2700  \n",
                            "3      Grocery Store           732.3800  \n",
                            "4  Supermarket Type1           994.7052  "
                        ],
                        "text/html": [
                            "<div>\n",
                            "<style scoped>\n",
                            "    .dataframe tbody tr th:only-of-type {\n",
                            "        vertical-align: middle;\n",
                            "    }\n",
                            "\n",
                            "    .dataframe tbody tr th {\n",
                            "        vertical-align: top;\n",
                            "    }\n",
                            "\n",
                            "    .dataframe thead th {\n",
                            "        text-align: right;\n",
                            "    }\n",
                            "</style>\n",
                            "<table border=\"1\" class=\"dataframe\">\n",
                            "  <thead>\n",
                            "    <tr style=\"text-align: right;\">\n",
                            "      <th></th>\n",
                            "      <th>Item_Identifier</th>\n",
                            "      <th>Item_Weight</th>\n",
                            "      <th>Item_Fat_Content</th>\n",
                            "      <th>Item_Visibility</th>\n",
                            "      <th>Item_Type</th>\n",
                            "      <th>Item_MRP</th>\n",
                            "      <th>Outlet_Identifier</th>\n",
                            "      <th>Outlet_Establishment_Year</th>\n",
                            "      <th>Outlet_Size</th>\n",
                            "      <th>Outlet_Location_Type</th>\n",
                            "      <th>Outlet_Type</th>\n",
                            "      <th>Item_Outlet_Sales</th>\n",
                            "    </tr>\n",
                            "  </thead>\n",
                            "  <tbody>\n",
                            "    <tr>\n",
                            "      <th>0</th>\n",
                            "      <td>FDA15</td>\n",
                            "      <td>9.30</td>\n",
                            "      <td>Low Fat</td>\n",
                            "      <td>0.016047</td>\n",
                            "      <td>Dairy</td>\n",
                            "      <td>249.8092</td>\n",
                            "      <td>OUT049</td>\n",
                            "      <td>1999</td>\n",
                            "      <td>Medium</td>\n",
                            "      <td>Tier 1</td>\n",
                            "      <td>Supermarket Type1</td>\n",
                            "      <td>3735.1380</td>\n",
                            "    </tr>\n",
                            "    <tr>\n",
                            "      <th>1</th>\n",
                            "      <td>DRC01</td>\n",
                            "      <td>5.92</td>\n",
                            "      <td>Regular</td>\n",
                            "      <td>0.019278</td>\n",
                            "      <td>Soft Drinks</td>\n",
                            "      <td>48.2692</td>\n",
                            "      <td>OUT018</td>\n",
                            "      <td>2009</td>\n",
                            "      <td>Medium</td>\n",
                            "      <td>Tier 3</td>\n",
                            "      <td>Supermarket Type2</td>\n",
                            "      <td>443.4228</td>\n",
                            "    </tr>\n",
                            "    <tr>\n",
                            "      <th>2</th>\n",
                            "      <td>FDN15</td>\n",
                            "      <td>17.50</td>\n",
                            "      <td>Low Fat</td>\n",
                            "      <td>0.016760</td>\n",
                            "      <td>Meat</td>\n",
                            "      <td>141.6180</td>\n",
                            "      <td>OUT049</td>\n",
                            "      <td>1999</td>\n",
                            "      <td>Medium</td>\n",
                            "      <td>Tier 1</td>\n",
                            "      <td>Supermarket Type1</td>\n",
                            "      <td>2097.2700</td>\n",
                            "    </tr>\n",
                            "    <tr>\n",
                            "      <th>3</th>\n",
                            "      <td>FDX07</td>\n",
                            "      <td>19.20</td>\n",
                            "      <td>Regular</td>\n",
                            "      <td>0.000000</td>\n",
                            "      <td>Fruits and Vegetables</td>\n",
                            "      <td>182.0950</td>\n",
                            "      <td>OUT010</td>\n",
                            "      <td>1998</td>\n",
                            "      <td>NaN</td>\n",
                            "      <td>Tier 3</td>\n",
                            "      <td>Grocery Store</td>\n",
                            "      <td>732.3800</td>\n",
                            "    </tr>\n",
                            "    <tr>\n",
                            "      <th>4</th>\n",
                            "      <td>NCD19</td>\n",
                            "      <td>8.93</td>\n",
                            "      <td>Low Fat</td>\n",
                            "      <td>0.000000</td>\n",
                            "      <td>Household</td>\n",
                            "      <td>53.8614</td>\n",
                            "      <td>OUT013</td>\n",
                            "      <td>1987</td>\n",
                            "      <td>High</td>\n",
                            "      <td>Tier 3</td>\n",
                            "      <td>Supermarket Type1</td>\n",
                            "      <td>994.7052</td>\n",
                            "    </tr>\n",
                            "  </tbody>\n",
                            "</table>\n",
                            "</div>"
                        ]
                    },
                    "metadata": {}
                }
            ],
            "metadata": {}
        },
        {
            "cell_type": "code",
            "execution_count": null,
            "source": [
                "import numpy as np\n",
                "\n",
                "display(train.head(5))\n",
                "print(np.unique(train[\"Item_Fat_Content\"]))\n",
                "print(np.unique(train[\"Item_Type\"]))\n",
                "print(train[\"Outlet_Size\"].unique())\n",
                "print(np.unique(train[\"Outlet_Location_Type\"]))\n",
                "print(np.unique(train[\"Outlet_Type\"]))"
            ],
            "outputs": [],
            "metadata": {}
        },
        {
            "cell_type": "code",
            "execution_count": 13,
            "source": [
                "## Must be noted to basic view statictics\n",
                "from pandas.api.types import is_string_dtype\n",
                "from pandas.api.types import is_numeric_dtype\n",
                "\n",
                "df = train.copy()\n",
                "for column in df.columns:\n",
                "    if is_string_dtype(df[column]):\n",
                "        freqDF = df[column].value_counts()\n",
                "        display(freqDF.head(10))\n",
                "        print(\"**\" * 30)\n",
                "    else:\n",
                "        minV = df[column].min()\n",
                "        maxV = df[column].max()\n",
                "        print(f\"Column {column} has min : {minV} and max : {maxV}\")\n",
                "        print(\"**\" * 30)\n"
            ],
            "outputs": [
                {
                    "output_type": "display_data",
                    "data": {
                        "text/plain": [
                            "FDW13    10\n",
                            "FDG33    10\n",
                            "NCY18     9\n",
                            "FDD38     9\n",
                            "DRE49     9\n",
                            "FDV60     9\n",
                            "NCQ06     9\n",
                            "FDF52     9\n",
                            "FDX04     9\n",
                            "NCJ30     9\n",
                            "Name: Item_Identifier, dtype: int64"
                        ]
                    },
                    "metadata": {}
                },
                {
                    "output_type": "stream",
                    "name": "stdout",
                    "text": [
                        "************************************************************\n",
                        "Column Item_Weight has min : 4.555 and max : 21.35\n",
                        "************************************************************\n"
                    ]
                },
                {
                    "output_type": "display_data",
                    "data": {
                        "text/plain": [
                            "Low Fat    5089\n",
                            "Regular    2889\n",
                            "LF          316\n",
                            "reg         117\n",
                            "low fat     112\n",
                            "Name: Item_Fat_Content, dtype: int64"
                        ]
                    },
                    "metadata": {}
                },
                {
                    "output_type": "stream",
                    "name": "stdout",
                    "text": [
                        "************************************************************\n",
                        "Column Item_Visibility has min : 0.0 and max : 0.328390948\n",
                        "************************************************************\n"
                    ]
                },
                {
                    "output_type": "display_data",
                    "data": {
                        "text/plain": [
                            "Fruits and Vegetables    1232\n",
                            "Snack Foods              1200\n",
                            "Household                 910\n",
                            "Frozen Foods              856\n",
                            "Dairy                     682\n",
                            "Canned                    649\n",
                            "Baking Goods              648\n",
                            "Health and Hygiene        520\n",
                            "Soft Drinks               445\n",
                            "Meat                      425\n",
                            "Name: Item_Type, dtype: int64"
                        ]
                    },
                    "metadata": {}
                },
                {
                    "output_type": "stream",
                    "name": "stdout",
                    "text": [
                        "************************************************************\n",
                        "Column Item_MRP has min : 31.29 and max : 266.8884\n",
                        "************************************************************\n"
                    ]
                },
                {
                    "output_type": "display_data",
                    "data": {
                        "text/plain": [
                            "OUT027    935\n",
                            "OUT013    932\n",
                            "OUT049    930\n",
                            "OUT046    930\n",
                            "OUT035    930\n",
                            "OUT045    929\n",
                            "OUT018    928\n",
                            "OUT017    926\n",
                            "OUT010    555\n",
                            "OUT019    528\n",
                            "Name: Outlet_Identifier, dtype: int64"
                        ]
                    },
                    "metadata": {}
                },
                {
                    "output_type": "stream",
                    "name": "stdout",
                    "text": [
                        "************************************************************\n",
                        "Column Outlet_Establishment_Year has min : 1985 and max : 2009\n",
                        "************************************************************\n"
                    ]
                },
                {
                    "output_type": "display_data",
                    "data": {
                        "text/plain": [
                            "Medium    2793\n",
                            "Small     2388\n",
                            "High       932\n",
                            "Name: Outlet_Size, dtype: int64"
                        ]
                    },
                    "metadata": {}
                },
                {
                    "output_type": "stream",
                    "name": "stdout",
                    "text": [
                        "************************************************************\n"
                    ]
                },
                {
                    "output_type": "display_data",
                    "data": {
                        "text/plain": [
                            "Tier 3    3350\n",
                            "Tier 2    2785\n",
                            "Tier 1    2388\n",
                            "Name: Outlet_Location_Type, dtype: int64"
                        ]
                    },
                    "metadata": {}
                },
                {
                    "output_type": "stream",
                    "name": "stdout",
                    "text": [
                        "************************************************************\n"
                    ]
                },
                {
                    "output_type": "display_data",
                    "data": {
                        "text/plain": [
                            "Supermarket Type1    5577\n",
                            "Grocery Store        1083\n",
                            "Supermarket Type3     935\n",
                            "Supermarket Type2     928\n",
                            "Name: Outlet_Type, dtype: int64"
                        ]
                    },
                    "metadata": {}
                },
                {
                    "output_type": "stream",
                    "name": "stdout",
                    "text": [
                        "************************************************************\n",
                        "Column Item_Outlet_Sales has min : 33.29 and max : 13086.9648\n",
                        "************************************************************\n"
                    ]
                }
            ],
            "metadata": {}
        },
        {
            "cell_type": "code",
            "execution_count": 17,
            "source": [
                "statDf= train.describe(include=\"all\") \r\n",
                "display(statDf.T)"
            ],
            "outputs": [
                {
                    "output_type": "display_data",
                    "data": {
                        "text/plain": [
                            "                            count unique                    top  freq  \\\n",
                            "Item_Identifier              8523   1559                  FDW13    10   \n",
                            "Item_Weight                7060.0    NaN                    NaN   NaN   \n",
                            "Item_Fat_Content             8523      5                Low Fat  5089   \n",
                            "Item_Visibility            8523.0    NaN                    NaN   NaN   \n",
                            "Item_Type                    8523     16  Fruits and Vegetables  1232   \n",
                            "Item_MRP                   8523.0    NaN                    NaN   NaN   \n",
                            "Outlet_Identifier            8523     10                 OUT027   935   \n",
                            "Outlet_Establishment_Year  8523.0    NaN                    NaN   NaN   \n",
                            "Outlet_Size                  6113      3                 Medium  2793   \n",
                            "Outlet_Location_Type         8523      3                 Tier 3  3350   \n",
                            "Outlet_Type                  8523      4      Supermarket Type1  5577   \n",
                            "Item_Outlet_Sales          8523.0    NaN                    NaN   NaN   \n",
                            "\n",
                            "                                  mean          std     min       25%  \\\n",
                            "Item_Identifier                    NaN          NaN     NaN       NaN   \n",
                            "Item_Weight                  12.857645     4.643456   4.555   8.77375   \n",
                            "Item_Fat_Content                   NaN          NaN     NaN       NaN   \n",
                            "Item_Visibility               0.066132     0.051598     0.0  0.026989   \n",
                            "Item_Type                          NaN          NaN     NaN       NaN   \n",
                            "Item_MRP                    140.992782    62.275067   31.29   93.8265   \n",
                            "Outlet_Identifier                  NaN          NaN     NaN       NaN   \n",
                            "Outlet_Establishment_Year  1997.831867      8.37176  1985.0    1987.0   \n",
                            "Outlet_Size                        NaN          NaN     NaN       NaN   \n",
                            "Outlet_Location_Type               NaN          NaN     NaN       NaN   \n",
                            "Outlet_Type                        NaN          NaN     NaN       NaN   \n",
                            "Item_Outlet_Sales          2181.288914  1706.499616   33.29  834.2474   \n",
                            "\n",
                            "                                50%        75%         max  \n",
                            "Item_Identifier                 NaN        NaN         NaN  \n",
                            "Item_Weight                    12.6      16.85       21.35  \n",
                            "Item_Fat_Content                NaN        NaN         NaN  \n",
                            "Item_Visibility            0.053931   0.094585    0.328391  \n",
                            "Item_Type                       NaN        NaN         NaN  \n",
                            "Item_MRP                   143.0128   185.6437    266.8884  \n",
                            "Outlet_Identifier               NaN        NaN         NaN  \n",
                            "Outlet_Establishment_Year    1999.0     2004.0      2009.0  \n",
                            "Outlet_Size                     NaN        NaN         NaN  \n",
                            "Outlet_Location_Type            NaN        NaN         NaN  \n",
                            "Outlet_Type                     NaN        NaN         NaN  \n",
                            "Item_Outlet_Sales          1794.331  3101.2964  13086.9648  "
                        ],
                        "text/html": [
                            "<div>\n",
                            "<style scoped>\n",
                            "    .dataframe tbody tr th:only-of-type {\n",
                            "        vertical-align: middle;\n",
                            "    }\n",
                            "\n",
                            "    .dataframe tbody tr th {\n",
                            "        vertical-align: top;\n",
                            "    }\n",
                            "\n",
                            "    .dataframe thead th {\n",
                            "        text-align: right;\n",
                            "    }\n",
                            "</style>\n",
                            "<table border=\"1\" class=\"dataframe\">\n",
                            "  <thead>\n",
                            "    <tr style=\"text-align: right;\">\n",
                            "      <th></th>\n",
                            "      <th>count</th>\n",
                            "      <th>unique</th>\n",
                            "      <th>top</th>\n",
                            "      <th>freq</th>\n",
                            "      <th>mean</th>\n",
                            "      <th>std</th>\n",
                            "      <th>min</th>\n",
                            "      <th>25%</th>\n",
                            "      <th>50%</th>\n",
                            "      <th>75%</th>\n",
                            "      <th>max</th>\n",
                            "    </tr>\n",
                            "  </thead>\n",
                            "  <tbody>\n",
                            "    <tr>\n",
                            "      <th>Item_Identifier</th>\n",
                            "      <td>8523</td>\n",
                            "      <td>1559</td>\n",
                            "      <td>FDW13</td>\n",
                            "      <td>10</td>\n",
                            "      <td>NaN</td>\n",
                            "      <td>NaN</td>\n",
                            "      <td>NaN</td>\n",
                            "      <td>NaN</td>\n",
                            "      <td>NaN</td>\n",
                            "      <td>NaN</td>\n",
                            "      <td>NaN</td>\n",
                            "    </tr>\n",
                            "    <tr>\n",
                            "      <th>Item_Weight</th>\n",
                            "      <td>7060.0</td>\n",
                            "      <td>NaN</td>\n",
                            "      <td>NaN</td>\n",
                            "      <td>NaN</td>\n",
                            "      <td>12.857645</td>\n",
                            "      <td>4.643456</td>\n",
                            "      <td>4.555</td>\n",
                            "      <td>8.77375</td>\n",
                            "      <td>12.6</td>\n",
                            "      <td>16.85</td>\n",
                            "      <td>21.35</td>\n",
                            "    </tr>\n",
                            "    <tr>\n",
                            "      <th>Item_Fat_Content</th>\n",
                            "      <td>8523</td>\n",
                            "      <td>5</td>\n",
                            "      <td>Low Fat</td>\n",
                            "      <td>5089</td>\n",
                            "      <td>NaN</td>\n",
                            "      <td>NaN</td>\n",
                            "      <td>NaN</td>\n",
                            "      <td>NaN</td>\n",
                            "      <td>NaN</td>\n",
                            "      <td>NaN</td>\n",
                            "      <td>NaN</td>\n",
                            "    </tr>\n",
                            "    <tr>\n",
                            "      <th>Item_Visibility</th>\n",
                            "      <td>8523.0</td>\n",
                            "      <td>NaN</td>\n",
                            "      <td>NaN</td>\n",
                            "      <td>NaN</td>\n",
                            "      <td>0.066132</td>\n",
                            "      <td>0.051598</td>\n",
                            "      <td>0.0</td>\n",
                            "      <td>0.026989</td>\n",
                            "      <td>0.053931</td>\n",
                            "      <td>0.094585</td>\n",
                            "      <td>0.328391</td>\n",
                            "    </tr>\n",
                            "    <tr>\n",
                            "      <th>Item_Type</th>\n",
                            "      <td>8523</td>\n",
                            "      <td>16</td>\n",
                            "      <td>Fruits and Vegetables</td>\n",
                            "      <td>1232</td>\n",
                            "      <td>NaN</td>\n",
                            "      <td>NaN</td>\n",
                            "      <td>NaN</td>\n",
                            "      <td>NaN</td>\n",
                            "      <td>NaN</td>\n",
                            "      <td>NaN</td>\n",
                            "      <td>NaN</td>\n",
                            "    </tr>\n",
                            "    <tr>\n",
                            "      <th>Item_MRP</th>\n",
                            "      <td>8523.0</td>\n",
                            "      <td>NaN</td>\n",
                            "      <td>NaN</td>\n",
                            "      <td>NaN</td>\n",
                            "      <td>140.992782</td>\n",
                            "      <td>62.275067</td>\n",
                            "      <td>31.29</td>\n",
                            "      <td>93.8265</td>\n",
                            "      <td>143.0128</td>\n",
                            "      <td>185.6437</td>\n",
                            "      <td>266.8884</td>\n",
                            "    </tr>\n",
                            "    <tr>\n",
                            "      <th>Outlet_Identifier</th>\n",
                            "      <td>8523</td>\n",
                            "      <td>10</td>\n",
                            "      <td>OUT027</td>\n",
                            "      <td>935</td>\n",
                            "      <td>NaN</td>\n",
                            "      <td>NaN</td>\n",
                            "      <td>NaN</td>\n",
                            "      <td>NaN</td>\n",
                            "      <td>NaN</td>\n",
                            "      <td>NaN</td>\n",
                            "      <td>NaN</td>\n",
                            "    </tr>\n",
                            "    <tr>\n",
                            "      <th>Outlet_Establishment_Year</th>\n",
                            "      <td>8523.0</td>\n",
                            "      <td>NaN</td>\n",
                            "      <td>NaN</td>\n",
                            "      <td>NaN</td>\n",
                            "      <td>1997.831867</td>\n",
                            "      <td>8.37176</td>\n",
                            "      <td>1985.0</td>\n",
                            "      <td>1987.0</td>\n",
                            "      <td>1999.0</td>\n",
                            "      <td>2004.0</td>\n",
                            "      <td>2009.0</td>\n",
                            "    </tr>\n",
                            "    <tr>\n",
                            "      <th>Outlet_Size</th>\n",
                            "      <td>6113</td>\n",
                            "      <td>3</td>\n",
                            "      <td>Medium</td>\n",
                            "      <td>2793</td>\n",
                            "      <td>NaN</td>\n",
                            "      <td>NaN</td>\n",
                            "      <td>NaN</td>\n",
                            "      <td>NaN</td>\n",
                            "      <td>NaN</td>\n",
                            "      <td>NaN</td>\n",
                            "      <td>NaN</td>\n",
                            "    </tr>\n",
                            "    <tr>\n",
                            "      <th>Outlet_Location_Type</th>\n",
                            "      <td>8523</td>\n",
                            "      <td>3</td>\n",
                            "      <td>Tier 3</td>\n",
                            "      <td>3350</td>\n",
                            "      <td>NaN</td>\n",
                            "      <td>NaN</td>\n",
                            "      <td>NaN</td>\n",
                            "      <td>NaN</td>\n",
                            "      <td>NaN</td>\n",
                            "      <td>NaN</td>\n",
                            "      <td>NaN</td>\n",
                            "    </tr>\n",
                            "    <tr>\n",
                            "      <th>Outlet_Type</th>\n",
                            "      <td>8523</td>\n",
                            "      <td>4</td>\n",
                            "      <td>Supermarket Type1</td>\n",
                            "      <td>5577</td>\n",
                            "      <td>NaN</td>\n",
                            "      <td>NaN</td>\n",
                            "      <td>NaN</td>\n",
                            "      <td>NaN</td>\n",
                            "      <td>NaN</td>\n",
                            "      <td>NaN</td>\n",
                            "      <td>NaN</td>\n",
                            "    </tr>\n",
                            "    <tr>\n",
                            "      <th>Item_Outlet_Sales</th>\n",
                            "      <td>8523.0</td>\n",
                            "      <td>NaN</td>\n",
                            "      <td>NaN</td>\n",
                            "      <td>NaN</td>\n",
                            "      <td>2181.288914</td>\n",
                            "      <td>1706.499616</td>\n",
                            "      <td>33.29</td>\n",
                            "      <td>834.2474</td>\n",
                            "      <td>1794.331</td>\n",
                            "      <td>3101.2964</td>\n",
                            "      <td>13086.9648</td>\n",
                            "    </tr>\n",
                            "  </tbody>\n",
                            "</table>\n",
                            "</div>"
                        ]
                    },
                    "metadata": {}
                }
            ],
            "metadata": {}
        },
        {
            "cell_type": "code",
            "execution_count": 21,
            "source": [
                "train.isnull()"
            ],
            "outputs": [
                {
                    "output_type": "execute_result",
                    "data": {
                        "text/plain": [
                            "1"
                        ]
                    },
                    "metadata": {},
                    "execution_count": 21
                }
            ],
            "metadata": {}
        },
        {
            "cell_type": "code",
            "execution_count": 20,
            "source": [
                "train.isnull().sum() # đếm tổng số thiếu, => xử lý bằng mean , mode, median."
            ],
            "outputs": [
                {
                    "output_type": "execute_result",
                    "data": {
                        "text/plain": [
                            "Item_Identifier                 0\n",
                            "Item_Weight                  1463\n",
                            "Item_Fat_Content                0\n",
                            "Item_Visibility                 0\n",
                            "Item_Type                       0\n",
                            "Item_MRP                        0\n",
                            "Outlet_Identifier               0\n",
                            "Outlet_Establishment_Year       0\n",
                            "Outlet_Size                  2410\n",
                            "Outlet_Location_Type            0\n",
                            "Outlet_Type                     0\n",
                            "Item_Outlet_Sales               0\n",
                            "dtype: int64"
                        ]
                    },
                    "metadata": {},
                    "execution_count": 20
                }
            ],
            "metadata": {}
        }
    ],
    "metadata": {
        "orig_nbformat": 4,
        "language_info": {
            "name": "python",
            "version": "3.9.7",
            "mimetype": "text/x-python",
            "codemirror_mode": {
                "name": "ipython",
                "version": 3
            },
            "pygments_lexer": "ipython3",
            "nbconvert_exporter": "python",
            "file_extension": ".py"
        },
        "kernelspec": {
            "name": "python3",
            "display_name": "Python 3.9.7 64-bit ('.venv': venv)"
        },
        "interpreter": {
            "hash": "990db74c68a4ad8840817df42270103b57a024fca530d8647263614be491db87"
        }
    },
    "nbformat": 4,
    "nbformat_minor": 2
}