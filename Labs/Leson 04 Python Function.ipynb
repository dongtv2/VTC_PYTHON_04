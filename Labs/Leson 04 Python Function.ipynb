{
 "cells": [
  {
   "cell_type": "code",
   "execution_count": 16,
   "source": [
    "# Function\r\n",
    "h = \"AAA\"\r\n",
    "def hello():\r\n",
    "      \"\"\"\r\n",
    "      Xin chao các bạn\r\n",
    "      \"\"\"\r\n",
    "      global h\r\n",
    "      h = \"111\"\r\n",
    "      print(\"Hello\"+h)\r\n",
    "hello()\r\n",
    "hello()\r\n",
    "hello()\r\n"
   ],
   "outputs": [
    {
     "output_type": "stream",
     "name": "stdout",
     "text": [
      "Hello111\n",
      "Hello111\n",
      "Hello111\n"
     ]
    }
   ],
   "metadata": {}
  },
  {
   "cell_type": "code",
   "execution_count": 23,
   "source": [
    "a,b,c, = 1,2,3\r\n",
    "def abc():\r\n",
    "      global a,b,c\r\n",
    "      print(a,b,c)\r\n",
    "      a,b,c = 4,5,6\r\n",
    "      print(a,b,c)\r\n",
    "abc()\r\n"
   ],
   "outputs": [
    {
     "output_type": "stream",
     "name": "stdout",
     "text": [
      "1 2 3\n",
      "4 5 6\n"
     ]
    }
   ],
   "metadata": {}
  },
  {
   "cell_type": "code",
   "execution_count": 24,
   "source": [
    "f = lambda a: a*a\r\n",
    "result =f(5)\r\n",
    "print(result)"
   ],
   "outputs": [
    {
     "output_type": "stream",
     "name": "stdout",
     "text": [
      "25\n"
     ]
    }
   ],
   "metadata": {}
  },
  {
   "cell_type": "code",
   "execution_count": null,
   "source": [],
   "outputs": [],
   "metadata": {}
  }
 ],
 "metadata": {
  "orig_nbformat": 4,
  "language_info": {
   "name": "python",
   "version": "3.9.7",
   "mimetype": "text/x-python",
   "codemirror_mode": {
    "name": "ipython",
    "version": 3
   },
   "pygments_lexer": "ipython3",
   "nbconvert_exporter": "python",
   "file_extension": ".py"
  },
  "kernelspec": {
   "name": "python3",
   "display_name": "Python 3.9.7 64-bit ('.venv': venv)"
  },
  "interpreter": {
   "hash": "990db74c68a4ad8840817df42270103b57a024fca530d8647263614be491db87"
  }
 },
 "nbformat": 4,
 "nbformat_minor": 2
}