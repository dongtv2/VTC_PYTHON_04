{
 "cells": [
  {
   "cell_type": "code",
   "execution_count": 1,
   "source": [
    "# Function\r\n",
    "h = \"AAA\"\r\n",
    "def hello():\r\n",
    "      \"\"\"\r\n",
    "      Xin chao các bạn\r\n",
    "      \"\"\"\r\n",
    "      global h\r\n",
    "      h = \"111\"\r\n",
    "      print(\"Hello\"+h)\r\n",
    "hello()\r\n",
    "hello()\r\n",
    "hello()\r\n"
   ],
   "outputs": [
    {
     "output_type": "stream",
     "name": "stdout",
     "text": [
      "Hello111\n",
      "Hello111\n",
      "Hello111\n"
     ]
    }
   ],
   "metadata": {}
  },
  {
   "cell_type": "code",
   "execution_count": 2,
   "source": [
    "a,b,c, = 1,2,3\r\n",
    "def abc():\r\n",
    "      global a,b,c\r\n",
    "      print(a,b,c)\r\n",
    "      a,b,c = 4,5,6\r\n",
    "      print(a,b,c)\r\n",
    "abc().__dir__()\r\n"
   ],
   "outputs": [
    {
     "output_type": "stream",
     "name": "stdout",
     "text": [
      "1 2 3\n",
      "4 5 6\n"
     ]
    },
    {
     "output_type": "execute_result",
     "data": {
      "text/plain": [
       "['__repr__',\n",
       " '__bool__',\n",
       " '__new__',\n",
       " '__doc__',\n",
       " '__hash__',\n",
       " '__str__',\n",
       " '__getattribute__',\n",
       " '__setattr__',\n",
       " '__delattr__',\n",
       " '__lt__',\n",
       " '__le__',\n",
       " '__eq__',\n",
       " '__ne__',\n",
       " '__gt__',\n",
       " '__ge__',\n",
       " '__init__',\n",
       " '__reduce_ex__',\n",
       " '__reduce__',\n",
       " '__subclasshook__',\n",
       " '__init_subclass__',\n",
       " '__format__',\n",
       " '__sizeof__',\n",
       " '__dir__',\n",
       " '__class__']"
      ]
     },
     "metadata": {},
     "execution_count": 2
    }
   ],
   "metadata": {}
  },
  {
   "cell_type": "code",
   "execution_count": 3,
   "source": [
    "f = lambda a: a*a\r\n",
    "result =f(5)\r\n",
    "print(result)"
   ],
   "outputs": [
    {
     "output_type": "stream",
     "name": "stdout",
     "text": [
      "25\n"
     ]
    }
   ],
   "metadata": {}
  },
  {
   "cell_type": "code",
   "execution_count": 6,
   "source": [
    "## 10.SEP.2021 - Practice lab 04\r\n",
    "import numpy as np\r\n",
    "import pandas as pd\r\n",
    "import random"
   ],
   "outputs": [
    {
     "output_type": "error",
     "ename": "ImportError",
     "evalue": "\n\nIMPORTANT: PLEASE READ THIS FOR ADVICE ON HOW TO SOLVE THIS ISSUE!\n\nImporting the numpy C-extensions failed. This error can happen for\nmany reasons, often due to issues with your setup or how NumPy was\ninstalled.\n\nWe have compiled some common reasons and troubleshooting tips at:\n\n    https://numpy.org/devdocs/user/troubleshooting-importerror.html\n\nPlease note and check the following:\n\n  * The Python version is: Python3.9 from \"c:\\vsCode\\git\\VTC_PYTHON_04\\.venv\\Scripts\\python.exe\"\n  * The NumPy version is: \"1.21.2\"\n\nand make sure that they are the versions you expect.\nPlease carefully study the documentation linked above for further help.\n\nOriginal error was: No module named 'numpy.core._multiarray_umath'\n",
     "traceback": [
      "\u001b[1;31m---------------------------------------------------------------------------\u001b[0m",
      "\u001b[1;31mModuleNotFoundError\u001b[0m                       Traceback (most recent call last)",
      "\u001b[1;32mc:\\vsCode\\git\\VTC_PYTHON_04\\.venv\\lib\\site-packages\\numpy\\core\\__init__.py\u001b[0m in \u001b[0;36m<module>\u001b[1;34m\u001b[0m\n\u001b[0;32m     21\u001b[0m \u001b[1;32mtry\u001b[0m\u001b[1;33m:\u001b[0m\u001b[1;33m\u001b[0m\u001b[1;33m\u001b[0m\u001b[0m\n\u001b[1;32m---> 22\u001b[1;33m     \u001b[1;32mfrom\u001b[0m \u001b[1;33m.\u001b[0m \u001b[1;32mimport\u001b[0m \u001b[0mmultiarray\u001b[0m\u001b[1;33m\u001b[0m\u001b[1;33m\u001b[0m\u001b[0m\n\u001b[0m\u001b[0;32m     23\u001b[0m \u001b[1;32mexcept\u001b[0m \u001b[0mImportError\u001b[0m \u001b[1;32mas\u001b[0m \u001b[0mexc\u001b[0m\u001b[1;33m:\u001b[0m\u001b[1;33m\u001b[0m\u001b[1;33m\u001b[0m\u001b[0m\n",
      "\u001b[1;32mc:\\vsCode\\git\\VTC_PYTHON_04\\.venv\\lib\\site-packages\\numpy\\core\\multiarray.py\u001b[0m in \u001b[0;36m<module>\u001b[1;34m\u001b[0m\n\u001b[0;32m     11\u001b[0m \u001b[1;33m\u001b[0m\u001b[0m\n\u001b[1;32m---> 12\u001b[1;33m \u001b[1;32mfrom\u001b[0m \u001b[1;33m.\u001b[0m \u001b[1;32mimport\u001b[0m \u001b[0moverrides\u001b[0m\u001b[1;33m\u001b[0m\u001b[1;33m\u001b[0m\u001b[0m\n\u001b[0m\u001b[0;32m     13\u001b[0m \u001b[1;32mfrom\u001b[0m \u001b[1;33m.\u001b[0m \u001b[1;32mimport\u001b[0m \u001b[0m_multiarray_umath\u001b[0m\u001b[1;33m\u001b[0m\u001b[1;33m\u001b[0m\u001b[0m\n",
      "\u001b[1;32mc:\\vsCode\\git\\VTC_PYTHON_04\\.venv\\lib\\site-packages\\numpy\\core\\overrides.py\u001b[0m in \u001b[0;36m<module>\u001b[1;34m\u001b[0m\n\u001b[0;32m      6\u001b[0m \u001b[1;33m\u001b[0m\u001b[0m\n\u001b[1;32m----> 7\u001b[1;33m from numpy.core._multiarray_umath import (\n\u001b[0m\u001b[0;32m      8\u001b[0m     add_docstring, implement_array_function, _get_implementing_args)\n",
      "\u001b[1;31mModuleNotFoundError\u001b[0m: No module named 'numpy.core._multiarray_umath'",
      "\nDuring handling of the above exception, another exception occurred:\n",
      "\u001b[1;31mImportError\u001b[0m                               Traceback (most recent call last)",
      "\u001b[1;32m~\\AppData\\Local\\Temp/ipykernel_14748/3491187141.py\u001b[0m in \u001b[0;36m<module>\u001b[1;34m\u001b[0m\n\u001b[0;32m      1\u001b[0m \u001b[1;31m## 10.SEP.2021 - Practice lab 04\u001b[0m\u001b[1;33m\u001b[0m\u001b[1;33m\u001b[0m\u001b[0m\n\u001b[1;32m----> 2\u001b[1;33m \u001b[1;32mimport\u001b[0m \u001b[0mnumpy\u001b[0m \u001b[1;32mas\u001b[0m \u001b[0mnp\u001b[0m\u001b[1;33m\u001b[0m\u001b[1;33m\u001b[0m\u001b[0m\n\u001b[0m\u001b[0;32m      3\u001b[0m \u001b[1;32mimport\u001b[0m \u001b[0mpandas\u001b[0m \u001b[1;32mas\u001b[0m \u001b[0mpd\u001b[0m\u001b[1;33m\u001b[0m\u001b[1;33m\u001b[0m\u001b[0m\n\u001b[0;32m      4\u001b[0m \u001b[1;32mimport\u001b[0m \u001b[0mrandom\u001b[0m\u001b[1;33m\u001b[0m\u001b[1;33m\u001b[0m\u001b[0m\n",
      "\u001b[1;32mc:\\vsCode\\git\\VTC_PYTHON_04\\.venv\\lib\\site-packages\\numpy\\__init__.py\u001b[0m in \u001b[0;36m<module>\u001b[1;34m\u001b[0m\n\u001b[0;32m    148\u001b[0m     \u001b[1;32mfrom\u001b[0m \u001b[1;33m.\u001b[0m \u001b[1;32mimport\u001b[0m \u001b[0m_distributor_init\u001b[0m\u001b[1;33m\u001b[0m\u001b[1;33m\u001b[0m\u001b[0m\n\u001b[0;32m    149\u001b[0m \u001b[1;33m\u001b[0m\u001b[0m\n\u001b[1;32m--> 150\u001b[1;33m     \u001b[1;32mfrom\u001b[0m \u001b[1;33m.\u001b[0m \u001b[1;32mimport\u001b[0m \u001b[0mcore\u001b[0m\u001b[1;33m\u001b[0m\u001b[1;33m\u001b[0m\u001b[0m\n\u001b[0m\u001b[0;32m    151\u001b[0m     \u001b[1;32mfrom\u001b[0m \u001b[1;33m.\u001b[0m\u001b[0mcore\u001b[0m \u001b[1;32mimport\u001b[0m \u001b[1;33m*\u001b[0m\u001b[1;33m\u001b[0m\u001b[1;33m\u001b[0m\u001b[0m\n\u001b[0;32m    152\u001b[0m     \u001b[1;32mfrom\u001b[0m \u001b[1;33m.\u001b[0m \u001b[1;32mimport\u001b[0m \u001b[0mcompat\u001b[0m\u001b[1;33m\u001b[0m\u001b[1;33m\u001b[0m\u001b[0m\n",
      "\u001b[1;32mc:\\vsCode\\git\\VTC_PYTHON_04\\.venv\\lib\\site-packages\\numpy\\core\\__init__.py\u001b[0m in \u001b[0;36m<module>\u001b[1;34m\u001b[0m\n\u001b[0;32m     46\u001b[0m \"\"\" % (sys.version_info[0], sys.version_info[1], sys.executable,\n\u001b[0;32m     47\u001b[0m         __version__, exc)\n\u001b[1;32m---> 48\u001b[1;33m     \u001b[1;32mraise\u001b[0m \u001b[0mImportError\u001b[0m\u001b[1;33m(\u001b[0m\u001b[0mmsg\u001b[0m\u001b[1;33m)\u001b[0m\u001b[1;33m\u001b[0m\u001b[1;33m\u001b[0m\u001b[0m\n\u001b[0m\u001b[0;32m     49\u001b[0m \u001b[1;32mfinally\u001b[0m\u001b[1;33m:\u001b[0m\u001b[1;33m\u001b[0m\u001b[1;33m\u001b[0m\u001b[0m\n\u001b[0;32m     50\u001b[0m     \u001b[1;32mfor\u001b[0m \u001b[0menvkey\u001b[0m \u001b[1;32min\u001b[0m \u001b[0menv_added\u001b[0m\u001b[1;33m:\u001b[0m\u001b[1;33m\u001b[0m\u001b[1;33m\u001b[0m\u001b[0m\n",
      "\u001b[1;31mImportError\u001b[0m: \n\nIMPORTANT: PLEASE READ THIS FOR ADVICE ON HOW TO SOLVE THIS ISSUE!\n\nImporting the numpy C-extensions failed. This error can happen for\nmany reasons, often due to issues with your setup or how NumPy was\ninstalled.\n\nWe have compiled some common reasons and troubleshooting tips at:\n\n    https://numpy.org/devdocs/user/troubleshooting-importerror.html\n\nPlease note and check the following:\n\n  * The Python version is: Python3.9 from \"c:\\vsCode\\git\\VTC_PYTHON_04\\.venv\\Scripts\\python.exe\"\n  * The NumPy version is: \"1.21.2\"\n\nand make sure that they are the versions you expect.\nPlease carefully study the documentation linked above for further help.\n\nOriginal error was: No module named 'numpy.core._multiarray_umath'\n"
     ]
    }
   ],
   "metadata": {}
  },
  {
   "cell_type": "code",
   "execution_count": 31,
   "source": [
    "#Question 1\r\n",
    "N = 500\r\n",
    "Mean = 0\r\n",
    "Std = 10\r\n",
    "np.random.seed(10)\r\n",
    "NumArray = np.random.normal(Mean,Std, N) # B1 : Tạo danh sách gồm N ? 500 điểm dữ liệu tuân theo phân bố Gauss\r\n",
    "NumArray = np.round(NumArray,2)\r\n",
    "print(NumArray)"
   ],
   "outputs": [
    {
     "output_type": "stream",
     "name": "stdout",
     "text": [
      "[ 13.32   7.15 -15.45  -0.08   6.21  -7.2    2.66   1.09   0.04  -1.75\n",
      "   4.33  12.03  -9.65  10.28   2.29   4.45 -11.37   1.35  14.85 -10.8\n",
      " -19.78 -17.43   2.66  23.85  11.24  16.73   0.99  13.98  -2.71   6.13\n",
      "  -2.67  -5.49   1.33  -4.76  13.08   1.95   4.    -3.38  12.56  -7.32\n",
      "   6.6   -3.51  -9.39  -4.89  -8.05  -2.13  -3.39   3.12   5.65  -1.47\n",
      "  -0.26   2.89  -5.4    7.08   8.42   2.04  23.95   9.17  -1.12  -3.62\n",
      "  -2.32  -5.02  11.29  -6.98  -0.81  -5.29  10.46 -14.19  -3.62  -1.22\n",
      "   3.19   4.61  -2.16   9.89   3.15  24.68 -15.08   6.21 -10.45  -7.98\n",
      "  19.85  17.45 -18.56  -2.23  -0.66 -21.32  -0.49   3.93   2.17 -19.94\n",
      "  11.08   2.45  -0.62  -7.54   7.12   9.18  -4.82   0.9    8.27 -19.55\n",
      "   1.17 -19.07  -9.23   4.7   -1.44  -4.    -2.96   8.48   7.07  -7.87\n",
      "   2.93  -4.71  24.04  -7.39  -3.13  -3.49  -4.39   1.41   2.73 -16.19\n",
      "  -5.73 -13.2   12.36  24.65  13.83   3.46  10.23   1.67  16.57   6.68\n",
      "  -2.3  -11.3   -6.4    3.14 -12.26  -2.22  13.4    0.29  19.85  14.47\n",
      "  -2.88 -13.59  -0.48  -4.81   3.78  16.14 -11.23  -3.89   3.32  11.35\n",
      "   5.11   4.14  13.45   4.94  -2.37   0.57  -7.07   5.47   9.43 -29.8\n",
      "  12.18  -0.57   4.61   6.62 -22.95 -11.96  -3.33  -7.91   2.74  -5.15\n",
      " -17.11   6.12  11.     5.64  -7.13  -2.61   5.48   6.03  10.07  -2.94\n",
      " -14.21  -6.79   5.34   7.44  22.25   1.17   2.45  -1.77  -4.06   7.82\n",
      "   3.53  -2.07 -10.8   -1.23  -3.91  12.55   9.47 -10.22  11.67  -5.72\n",
      "   1.33  12.03 -10.25   1.6  -11.3  -19.41   9.87   0.28  -8.22 -15.87\n",
      "  -4.01  13.42   4.02  -3.73  -6.72   1.06 -15.47  13.45   5.03  11.94\n",
      "  -5.64   8.55   6.88 -15.33   1.49   3.15  -5.75  -3.6    4.36  -0.38\n",
      " -10.05   5.91   2.28   2.49   0.96   4.49  -2.86  -8.63  -7.42  11.06\n",
      " -20.18   5.41 -14.42 -16.09 -10.07  -2.58   7.31 -16.98  16.74  11.64\n",
      "  -1.33  -2.9   -9.54   5.88   0.69  14.12  -6.86   5.48  -0.36  -8.47\n",
      "  19.02   2.8    6.2  -10.69  -7.23   0.84  -5.84   6.02   4.38  -7.82\n",
      "   1.93   0.04  -1.64 -11.49  -8.36   2.1   10.14  -9.7   12.17   1.83\n",
      " -12.7    3.23   8.86   2.64  23.19   3.09   8.93   0.11   9.8  -23.96\n",
      "  -8.58  -3.64   5.04   1.88  10.85   3.57   2.07  -1.45   1.64   8.3\n",
      "   7.55   8.79  -2.4   -6.95  -4.71   3.49  16.11   2.39   4.85 -16.59\n",
      "  26.8  -11.04  18.18  -5.56   9.58   8.15   0.64  -1.66  -9.41  -0.54\n",
      "  11.01   3.72  -8.83  11.58 -12.04   2.1   -8.91  -7.83  10.8   -4.63\n",
      " -15.15  -5.39   7.57  -7.29  12.15  10.08   0.73  11.74  18.63 -19.84\n",
      "  11.57   6.09  -3.23   6.64   3.97  -5.76  14.88   1.4   11.88  -2.46\n",
      " -16.36   2.45  -2.35 -12.61 -16.92   6.16  12.7   13.97   5.34   0.04\n",
      "   1.89   0.45   7.95  -4.93 -12.62  -2.19   1.97  -2.55   0.26  22.01\n",
      "   8.84 -13.87   6.54 -21.77   6.19   4.77   0.26  -9.7   -9.84   4.13\n",
      "  -6.14   8.37  -6.24  -3.63   7.59  -0.34  -1.66   2.7    3.75  -0.84\n",
      "   2.26  -1.16   4.12   2.88   5.04   8.04 -10.31 -13.58  -2.67  -1.71\n",
      "   4.62 -12.2    1.93   4.35 -16.35   4.35  13.98   1.25  -8.91  -5.77\n",
      "  -0.75  -5.22 -32.04  14.63  -4.67  -1.79   9.25   2.35  -4.89  -0.93\n",
      "   5.35   5.51  -1.92   7.95   7.85  -4.88 -10.06   3.28   5.79  -4.6\n",
      "  -4.36   5.36   1.57  13.59   5.15  23.84   5.29  -8.96  -1.98  -0.95\n",
      " -16.8    6.77   0.61  -0.23  -5.53 -11.06  -2.17  -8.75   0.11  -9.06\n",
      " -14.16   0.95   1.94   5.43   0.56  14.66  -6.36  11.1   -9.93  -6.82\n",
      "  -4.09  -2.47  15.28  -6.49 -12.69   7.55  -0.24 -15.58   3.46   9.42\n",
      "  -3.85  15.6   15.45  -6.92   8.65 -20.98   1.7   -7.58   9.68  -8.75\n",
      "  10.28  -8.03  -4.28  -7.55   2.2  -13.73   6.47  -6.74  22.42  -2.46\n",
      "  -7.64   4.81  -8.32   5.93  -4.49   4.88   0.56   5.46  -6.83  -6.59]\n"
     ]
    }
   ],
   "metadata": {}
  },
  {
   "cell_type": "code",
   "execution_count": 26,
   "source": [
    "def genNormalArray(N, Mean, Std):\r\n",
    "      import numpy as np # Nên import thư viện\r\n",
    "      #Operation\r\n",
    "      np.random.seed(10)\r\n",
    "      NumArray = np.random.normal(Mean,Std, N) # B1 : Tạo danh sách gồm N ? 500 điểm dữ liệu tuân theo phân bố Gauss\r\n",
    "      NumArray = np.round(NumArray,2)\r\n",
    "      #Return the array\r\n",
    "      return NumArray"
   ],
   "outputs": [],
   "metadata": {}
  },
  {
   "cell_type": "code",
   "execution_count": 20,
   "source": [
    "genNormalArray(100,0.1,10)"
   ],
   "outputs": [
    {
     "output_type": "execute_result",
     "data": {
      "text/plain": [
       "array([ 1.342e+01,  7.250e+00, -1.535e+01,  2.000e-02,  6.310e+00,\n",
       "       -7.100e+00,  2.760e+00,  1.190e+00,  1.400e-01, -1.650e+00,\n",
       "        4.430e+00,  1.213e+01, -9.550e+00,  1.038e+01,  2.390e+00,\n",
       "        4.550e+00, -1.127e+01,  1.450e+00,  1.495e+01, -1.070e+01,\n",
       "       -1.968e+01, -1.733e+01,  2.760e+00,  2.395e+01,  1.134e+01,\n",
       "        1.683e+01,  1.090e+00,  1.408e+01, -2.610e+00,  6.230e+00,\n",
       "       -2.570e+00, -5.390e+00,  1.430e+00, -4.660e+00,  1.318e+01,\n",
       "        2.050e+00,  4.100e+00, -3.280e+00,  1.266e+01, -7.220e+00,\n",
       "        6.700e+00, -3.410e+00, -9.290e+00, -4.790e+00, -7.950e+00,\n",
       "       -2.030e+00, -3.290e+00,  3.220e+00,  5.750e+00, -1.370e+00,\n",
       "       -1.600e-01,  2.990e+00, -5.300e+00,  7.180e+00,  8.520e+00,\n",
       "        2.140e+00,  2.405e+01,  9.270e+00, -1.020e+00, -3.520e+00,\n",
       "       -2.220e+00, -4.920e+00,  1.139e+01, -6.880e+00, -7.100e-01,\n",
       "       -5.190e+00,  1.056e+01, -1.409e+01, -3.520e+00, -1.120e+00,\n",
       "        3.290e+00,  4.710e+00, -2.060e+00,  9.990e+00,  3.250e+00,\n",
       "        2.478e+01, -1.498e+01,  6.310e+00, -1.035e+01, -7.880e+00,\n",
       "        1.995e+01,  1.755e+01, -1.846e+01, -2.130e+00, -5.600e-01,\n",
       "       -2.122e+01, -3.900e-01,  4.030e+00,  2.270e+00, -1.984e+01,\n",
       "        1.118e+01,  2.550e+00, -5.200e-01, -7.440e+00,  7.220e+00,\n",
       "        9.280e+00, -4.720e+00,  1.000e+00,  8.370e+00, -1.945e+01])"
      ]
     },
     "metadata": {},
     "execution_count": 20
    }
   ],
   "metadata": {}
  },
  {
   "cell_type": "code",
   "execution_count": 30,
   "source": [
    "def getStatsOnArray():\r\n",
    "    \"This function is to get all stats from array\"\r\n",
    "    global NumArray\r\n",
    "    \r\n",
    "    minV, maxV = np.min(NumArray), np.max(NumArray)\r\n",
    "    meanV, stdV = np.round(np.mean(NumArray), 2), np.round(np.std(NumArray), 2)\r\n",
    "    Q1, Q2, Q3 = np.quantile(NumArray, 0.25), np.quantile(NumArray, 0.5), np.quantile(NumArray, 0.75)\r\n",
    "    IQR = Q3 - Q1\r\n",
    "    \r\n",
    "    return minV, maxV,meanV, stdV, Q1, Q2, Q3, IQR\r\n"
   ],
   "outputs": [],
   "metadata": {}
  },
  {
   "cell_type": "code",
   "execution_count": 44,
   "source": [
    "def getStatsOnArray2():\r\n",
    "    \"This function is to get all stats from array\"\r\n",
    "    global NumArray\r\n",
    "    result = {}\r\n",
    "    result[\"minV\"], result[\"maxV\"] = np.min(NumArray), np.max(NumArray)\r\n",
    "    result[\"meanV\"], result[\"stdV\"] = np.round(np.mean(NumArray), 2), np.round(np.std(NumArray), 2)\r\n",
    "    result[\"Q1\"], result[\"Q2\"], result[\"Q3\"] =  np.quantile(NumArray, 0.25), \\\r\n",
    "                                                np.quantile(NumArray, 0.5), np.quantile(NumArray, 0.75)\r\n",
    "    result[\"IQR\"] = result[\"Q3\"] - result[\"Q1\"]\r\n",
    "    result[\"ConfRange\"] = [result[\"Q1\"] - 1.5*result[\"IQR\"], result[\"Q3\"] + 1.5*result[\"IQR\"]]\r\n",
    "    return result\r\n"
   ],
   "outputs": [],
   "metadata": {}
  },
  {
   "cell_type": "code",
   "execution_count": 48,
   "source": [
    "stats = getStatsOnArray2()# Trả về 1 tập hợp giá trị tuple - Thực tế nên dùng cách này,\r\n",
    "stats"
   ],
   "outputs": [
    {
     "output_type": "execute_result",
     "data": {
      "text/plain": [
       "{'minV': -32.04,\n",
       " 'maxV': 26.8,\n",
       " 'meanV': 0.31,\n",
       " 'stdV': 9.46,\n",
       " 'Q1': -5.7524999999999995,\n",
       " 'Q2': 0.665,\n",
       " 'Q3': 6.1675,\n",
       " 'IQR': 11.92,\n",
       " 'ConfRange': [-23.6325, 24.0475]}"
      ]
     },
     "metadata": {},
     "execution_count": 48
    }
   ],
   "metadata": {}
  },
  {
   "cell_type": "code",
   "execution_count": 49,
   "source": [
    "# Filer ra chi so\r\n",
    "OutlierDetector = lambda NumArray, ConfRange: \\\r\n",
    "        [(idx, value) for idx, value in enumerate(NumArray) if (value < ConfRange[0]) | (value > ConfRange[1])]\r\n",
    "OutLiers = OutlierDetector(NumArray, stats[\"ConfRange\"])\r\n",
    "\r\n",
    "print(OutLiers)\r\n"
   ],
   "outputs": [
    {
     "output_type": "stream",
     "name": "stdout",
     "text": [
      "[(75, 24.68), (123, 24.65), (159, -29.8), (289, -23.96), (310, 26.8), (412, -32.04)]\n"
     ]
    }
   ],
   "metadata": {}
  },
  {
   "cell_type": "code",
   "execution_count": 55,
   "source": [
    "# Filter ra gias tri\r\n",
    "OutlinerList = list(filter(lambda x: (x < stats[\"ConfRange\"][0])|(x > stats[\"ConfRange\"][1]), NumArray))\r\n",
    "print(OutlinerList)\r\n"
   ],
   "outputs": [
    {
     "output_type": "stream",
     "name": "stdout",
     "text": [
      "[24.68, 24.65, -29.8, -23.96, 26.8, -32.04]\n"
     ]
    }
   ],
   "metadata": {}
  },
  {
   "cell_type": "code",
   "execution_count": 91,
   "source": [
    "#Question 2\r\n",
    "start = 10\r\n",
    "stop = 100\r\n",
    "N = 10\r\n",
    "random.seed(10) # Keep ten times no change\r\n",
    "# Uniform là phân bố đều từ min - max\r\n",
    "np.round(random.uniform(start,stop),2)\r\n",
    "gen = lambda: np.round(random.uniform(start,stop),2)\r\n",
    "RandNumList  = [gen() for i in range(N)]\r\n",
    "IntNumList = [int(i) for i in RandNumList]\r\n",
    "DecNumList = [round(i-int(i),2) for i in RandNumList]\r\n",
    "print(DecNumList)"
   ],
   "outputs": [
    {
     "output_type": "stream",
     "name": "stdout",
     "text": [
      "[0.6, 0.03, 0.55, 0.2, 0.12, 0.81, 0.42, 0.86, 0.5, 0.5]\n"
     ]
    }
   ],
   "metadata": {}
  },
  {
   "cell_type": "code",
   "execution_count": 90,
   "source": [
    "def SeperateList(start = None, stop = None): # Cách mới, dùng none để khai báo không truyền gì hết\r\n",
    "    start = 10 if not start else start\r\n",
    "    stop = 100 if not stop else stop\r\n",
    "\r\n",
    "    global N, RandNumList, IntNumList, DecNumList\r\n",
    "    random.seed(12)\r\n",
    "    gen = lambda: np.round(random.uniform(start, stop), 2)\r\n",
    "    RandNumList = [gen() for i in range(N)]\r\n",
    "    IntNumList = [int(i) for i in RandNumList]\r\n",
    "    DecNumList = [round(i - int(i),2) for i in RandNumList]\r\n",
    "    return\r\n"
   ],
   "outputs": [],
   "metadata": {}
  },
  {
   "cell_type": "code",
   "execution_count": 92,
   "source": [
    "N = 10\r\n",
    "start = 10\r\n",
    "stop = 100\r\n",
    "SeperateList(10, 150)\r\n",
    "print(RandNumList, IntNumList, DecNumList)\r\n",
    "SeperateList(stop = 150)\r\n",
    "print(RandNumList, IntNumList, DecNumList)\r\n",
    "SeperateList(start = 50)\r\n",
    "print(RandNumList, IntNumList, DecNumList)\r\n",
    "SeperateList()\r\n",
    "print(RandNumList, IntNumList, DecNumList)"
   ],
   "outputs": [
    {
     "output_type": "stream",
     "name": "stdout",
     "text": [
      "[76.44, 102.05, 103.3, 29.96, 11.52, 62.47, 48.37, 123.45, 106.68, 94.2] [76, 102, 103, 29, 11, 62, 48, 123, 106, 94] [0.44, 0.05, 0.3, 0.96, 0.52, 0.47, 0.37, 0.45, 0.68, 0.2]\n",
      "[76.44, 102.05, 103.3, 29.96, 11.52, 62.47, 48.37, 123.45, 106.68, 94.2] [76, 102, 103, 29, 11, 62, 48, 123, 106, 94] [0.44, 0.05, 0.3, 0.96, 0.52, 0.47, 0.37, 0.45, 0.68, 0.2]\n",
      "[73.73, 82.87, 83.32, 57.13, 50.54, 68.74, 63.7, 90.52, 84.53, 80.07] [73, 82, 83, 57, 50, 68, 63, 90, 84, 80] [0.73, 0.87, 0.32, 0.13, 0.54, 0.74, 0.7, 0.52, 0.53, 0.07]\n",
      "[52.71, 69.17, 69.98, 22.83, 10.98, 43.73, 34.66, 82.93, 72.15, 64.13] [52, 69, 69, 22, 10, 43, 34, 82, 72, 64] [0.71, 0.17, 0.98, 0.83, 0.98, 0.73, 0.66, 0.93, 0.15, 0.13]\n"
     ]
    }
   ],
   "metadata": {}
  },
  {
   "cell_type": "code",
   "execution_count": null,
   "source": [
    "numList = []"
   ],
   "outputs": [],
   "metadata": {}
  }
 ],
 "metadata": {
  "orig_nbformat": 4,
  "language_info": {
   "name": "python",
   "version": "3.9.7",
   "mimetype": "text/x-python",
   "codemirror_mode": {
    "name": "ipython",
    "version": 3
   },
   "pygments_lexer": "ipython3",
   "nbconvert_exporter": "python",
   "file_extension": ".py"
  },
  "kernelspec": {
   "name": "python3",
   "display_name": "Python 3.9.7 64-bit ('.venv': venv)"
  },
  "interpreter": {
   "hash": "990db74c68a4ad8840817df42270103b57a024fca530d8647263614be491db87"
  }
 },
 "nbformat": 4,
 "nbformat_minor": 2
}