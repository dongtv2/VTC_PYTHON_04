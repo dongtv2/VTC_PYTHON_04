{
 "cells": [
  {
   "cell_type": "markdown",
   "source": [
    "# Python Developer for AI\n",
    "Dr. Tran Anh Tuan\n",
    "AI Head of VTCAcademy "
   ],
   "metadata": {}
  },
  {
   "cell_type": "code",
   "execution_count": 1,
   "source": [
    "import numpy as np\n",
    "import pandas as pd \n",
    "import json\n",
    "import re"
   ],
   "outputs": [],
   "metadata": {}
  },
  {
   "cell_type": "code",
   "execution_count": 2,
   "source": [
    "from IPython.display import display, Image\n",
    "display(Image(filename='Regular Expression.png'))\n",
    "display(Image(filename='regex.png'))"
   ],
   "outputs": [
    {
     "output_type": "error",
     "ename": "FileNotFoundError",
     "evalue": "[Errno 2] No such file or directory: 'Regular Expression.png'",
     "traceback": [
      "\u001b[0;31m---------------------------------------------------------------------------\u001b[0m",
      "\u001b[0;31mFileNotFoundError\u001b[0m                         Traceback (most recent call last)",
      "\u001b[0;32m/var/folders/n1/xlgk_vr17g3ds00rwzr2cp2m0000gn/T/ipykernel_22362/504792127.py\u001b[0m in \u001b[0;36m<module>\u001b[0;34m\u001b[0m\n\u001b[1;32m      1\u001b[0m \u001b[0;32mfrom\u001b[0m \u001b[0mIPython\u001b[0m\u001b[0;34m.\u001b[0m\u001b[0mdisplay\u001b[0m \u001b[0;32mimport\u001b[0m \u001b[0mdisplay\u001b[0m\u001b[0;34m,\u001b[0m \u001b[0mImage\u001b[0m\u001b[0;34m\u001b[0m\u001b[0;34m\u001b[0m\u001b[0m\n\u001b[0;32m----> 2\u001b[0;31m \u001b[0mdisplay\u001b[0m\u001b[0;34m(\u001b[0m\u001b[0mImage\u001b[0m\u001b[0;34m(\u001b[0m\u001b[0mfilename\u001b[0m\u001b[0;34m=\u001b[0m\u001b[0;34m'Regular Expression.png'\u001b[0m\u001b[0;34m)\u001b[0m\u001b[0;34m)\u001b[0m\u001b[0;34m\u001b[0m\u001b[0;34m\u001b[0m\u001b[0m\n\u001b[0m\u001b[1;32m      3\u001b[0m \u001b[0mdisplay\u001b[0m\u001b[0;34m(\u001b[0m\u001b[0mImage\u001b[0m\u001b[0;34m(\u001b[0m\u001b[0mfilename\u001b[0m\u001b[0;34m=\u001b[0m\u001b[0;34m'regex.png'\u001b[0m\u001b[0;34m)\u001b[0m\u001b[0;34m)\u001b[0m\u001b[0;34m\u001b[0m\u001b[0;34m\u001b[0m\u001b[0m\n",
      "\u001b[0;32m~/Library/Python/3.9/lib/python/site-packages/IPython/core/display.py\u001b[0m in \u001b[0;36m__init__\u001b[0;34m(self, data, url, filename, format, embed, width, height, retina, unconfined, metadata)\u001b[0m\n\u001b[1;32m   1229\u001b[0m         \u001b[0mself\u001b[0m\u001b[0;34m.\u001b[0m\u001b[0mretina\u001b[0m \u001b[0;34m=\u001b[0m \u001b[0mretina\u001b[0m\u001b[0;34m\u001b[0m\u001b[0;34m\u001b[0m\u001b[0m\n\u001b[1;32m   1230\u001b[0m         \u001b[0mself\u001b[0m\u001b[0;34m.\u001b[0m\u001b[0munconfined\u001b[0m \u001b[0;34m=\u001b[0m \u001b[0munconfined\u001b[0m\u001b[0;34m\u001b[0m\u001b[0;34m\u001b[0m\u001b[0m\n\u001b[0;32m-> 1231\u001b[0;31m         super(Image, self).__init__(data=data, url=url, filename=filename, \n\u001b[0m\u001b[1;32m   1232\u001b[0m                 metadata=metadata)\n\u001b[1;32m   1233\u001b[0m \u001b[0;34m\u001b[0m\u001b[0m\n",
      "\u001b[0;32m~/Library/Python/3.9/lib/python/site-packages/IPython/core/display.py\u001b[0m in \u001b[0;36m__init__\u001b[0;34m(self, data, url, filename, metadata)\u001b[0m\n\u001b[1;32m    635\u001b[0m             \u001b[0mself\u001b[0m\u001b[0;34m.\u001b[0m\u001b[0mmetadata\u001b[0m \u001b[0;34m=\u001b[0m \u001b[0;34m{\u001b[0m\u001b[0;34m}\u001b[0m\u001b[0;34m\u001b[0m\u001b[0;34m\u001b[0m\u001b[0m\n\u001b[1;32m    636\u001b[0m \u001b[0;34m\u001b[0m\u001b[0m\n\u001b[0;32m--> 637\u001b[0;31m         \u001b[0mself\u001b[0m\u001b[0;34m.\u001b[0m\u001b[0mreload\u001b[0m\u001b[0;34m(\u001b[0m\u001b[0;34m)\u001b[0m\u001b[0;34m\u001b[0m\u001b[0;34m\u001b[0m\u001b[0m\n\u001b[0m\u001b[1;32m    638\u001b[0m         \u001b[0mself\u001b[0m\u001b[0;34m.\u001b[0m\u001b[0m_check_data\u001b[0m\u001b[0;34m(\u001b[0m\u001b[0;34m)\u001b[0m\u001b[0;34m\u001b[0m\u001b[0;34m\u001b[0m\u001b[0m\n\u001b[1;32m    639\u001b[0m \u001b[0;34m\u001b[0m\u001b[0m\n",
      "\u001b[0;32m~/Library/Python/3.9/lib/python/site-packages/IPython/core/display.py\u001b[0m in \u001b[0;36mreload\u001b[0;34m(self)\u001b[0m\n\u001b[1;32m   1261\u001b[0m         \u001b[0;34m\"\"\"Reload the raw data from file or URL.\"\"\"\u001b[0m\u001b[0;34m\u001b[0m\u001b[0;34m\u001b[0m\u001b[0m\n\u001b[1;32m   1262\u001b[0m         \u001b[0;32mif\u001b[0m \u001b[0mself\u001b[0m\u001b[0;34m.\u001b[0m\u001b[0membed\u001b[0m\u001b[0;34m:\u001b[0m\u001b[0;34m\u001b[0m\u001b[0;34m\u001b[0m\u001b[0m\n\u001b[0;32m-> 1263\u001b[0;31m             \u001b[0msuper\u001b[0m\u001b[0;34m(\u001b[0m\u001b[0mImage\u001b[0m\u001b[0;34m,\u001b[0m\u001b[0mself\u001b[0m\u001b[0;34m)\u001b[0m\u001b[0;34m.\u001b[0m\u001b[0mreload\u001b[0m\u001b[0;34m(\u001b[0m\u001b[0;34m)\u001b[0m\u001b[0;34m\u001b[0m\u001b[0;34m\u001b[0m\u001b[0m\n\u001b[0m\u001b[1;32m   1264\u001b[0m             \u001b[0;32mif\u001b[0m \u001b[0mself\u001b[0m\u001b[0;34m.\u001b[0m\u001b[0mretina\u001b[0m\u001b[0;34m:\u001b[0m\u001b[0;34m\u001b[0m\u001b[0;34m\u001b[0m\u001b[0m\n\u001b[1;32m   1265\u001b[0m                 \u001b[0mself\u001b[0m\u001b[0;34m.\u001b[0m\u001b[0m_retina_shape\u001b[0m\u001b[0;34m(\u001b[0m\u001b[0;34m)\u001b[0m\u001b[0;34m\u001b[0m\u001b[0;34m\u001b[0m\u001b[0m\n",
      "\u001b[0;32m~/Library/Python/3.9/lib/python/site-packages/IPython/core/display.py\u001b[0m in \u001b[0;36mreload\u001b[0;34m(self)\u001b[0m\n\u001b[1;32m    660\u001b[0m         \u001b[0;34m\"\"\"Reload the raw data from file or URL.\"\"\"\u001b[0m\u001b[0;34m\u001b[0m\u001b[0;34m\u001b[0m\u001b[0m\n\u001b[1;32m    661\u001b[0m         \u001b[0;32mif\u001b[0m \u001b[0mself\u001b[0m\u001b[0;34m.\u001b[0m\u001b[0mfilename\u001b[0m \u001b[0;32mis\u001b[0m \u001b[0;32mnot\u001b[0m \u001b[0;32mNone\u001b[0m\u001b[0;34m:\u001b[0m\u001b[0;34m\u001b[0m\u001b[0;34m\u001b[0m\u001b[0m\n\u001b[0;32m--> 662\u001b[0;31m             \u001b[0;32mwith\u001b[0m \u001b[0mopen\u001b[0m\u001b[0;34m(\u001b[0m\u001b[0mself\u001b[0m\u001b[0;34m.\u001b[0m\u001b[0mfilename\u001b[0m\u001b[0;34m,\u001b[0m \u001b[0mself\u001b[0m\u001b[0;34m.\u001b[0m\u001b[0m_read_flags\u001b[0m\u001b[0;34m)\u001b[0m \u001b[0;32mas\u001b[0m \u001b[0mf\u001b[0m\u001b[0;34m:\u001b[0m\u001b[0;34m\u001b[0m\u001b[0;34m\u001b[0m\u001b[0m\n\u001b[0m\u001b[1;32m    663\u001b[0m                 \u001b[0mself\u001b[0m\u001b[0;34m.\u001b[0m\u001b[0mdata\u001b[0m \u001b[0;34m=\u001b[0m \u001b[0mf\u001b[0m\u001b[0;34m.\u001b[0m\u001b[0mread\u001b[0m\u001b[0;34m(\u001b[0m\u001b[0;34m)\u001b[0m\u001b[0;34m\u001b[0m\u001b[0;34m\u001b[0m\u001b[0m\n\u001b[1;32m    664\u001b[0m         \u001b[0;32melif\u001b[0m \u001b[0mself\u001b[0m\u001b[0;34m.\u001b[0m\u001b[0murl\u001b[0m \u001b[0;32mis\u001b[0m \u001b[0;32mnot\u001b[0m \u001b[0;32mNone\u001b[0m\u001b[0;34m:\u001b[0m\u001b[0;34m\u001b[0m\u001b[0;34m\u001b[0m\u001b[0m\n",
      "\u001b[0;31mFileNotFoundError\u001b[0m: [Errno 2] No such file or directory: 'Regular Expression.png'"
     ]
    }
   ],
   "metadata": {}
  },
  {
   "cell_type": "code",
   "execution_count": 81,
   "source": [
    "# Question 1 : Write a program to allow user to input a transaction with product name and quatity \n",
    "# and then print order \n",
    "\n",
    "# Data  \n",
    "ProductJSON = \"\"\"\n",
    "{\n",
    "    \"Product A\" : 10000,\n",
    "    \"Product B\" : 15000,\n",
    "    \"Product C\" : 20000,\n",
    "    \"Product D\" : 22000\n",
    "}\n",
    "\"\"\"\n",
    "# Load Data\n",
    "ProductSeries = json.loads(ProductJSON)\n",
    "display(ProductSeries)"
   ],
   "outputs": [
    {
     "output_type": "display_data",
     "data": {
      "text/plain": [
       "{'Product A': 10000,\n",
       " 'Product B': 15000,\n",
       " 'Product C': 20000,\n",
       " 'Product D': 22000}"
      ]
     },
     "metadata": {}
    }
   ],
   "metadata": {}
  },
  {
   "cell_type": "code",
   "execution_count": 33,
   "source": [
    "# Initialization\n",
    "nBuy = int(input(f\"How many Products you want to Buy:\"))"
   ],
   "outputs": [
    {
     "output_type": "stream",
     "name": "stdout",
     "text": [
      "How many Products you want to Buy: 3\n"
     ]
    }
   ],
   "metadata": {}
  },
  {
   "cell_type": "code",
   "execution_count": 118,
   "source": [
    "BuySeries = {}\n",
    "print(f\"Here is the list of product in our shop \\n {ProductSeries}\")\n",
    "while(True):\n",
    "    count = len(BuySeries)\n",
    "    ask = f\"Please Input Transaction (ProductName-Quantity) {count + 1}:\"\n",
    "    answer = input(ask).title()\n",
    "    \n",
    "    DataInput = re.findall(r\"[\\w. ]+\", answer)\n",
    "    \n",
    "    Condition1 = len(DataInput) != 2\n",
    "    if(Condition1):\n",
    "        print(\"Input Wrong Format! Please check again\")\n",
    "        continue\n",
    "    \n",
    "    DataInput[0] = ' '.join(DataInput[0].split())\n",
    "    DataInput[1] = DataInput[1].replace(' ','')\n",
    "    \n",
    "    Condition2 = not DataInput[1].replace('.','',1).isdigit()\n",
    "    Condition3 = DataInput[0] not in ProductSeries.keys()\n",
    "    \n",
    "    if(Condition2 | Condition3): \n",
    "        continue\n",
    "    else:\n",
    "        BuySeries[DataInput[0]] = float(DataInput[1])\n",
    "    \n",
    "    if (count + 1 == nBuy):\n",
    "        print(f\"You already finish input {nBuy} products\")\n",
    "        break"
   ],
   "outputs": [
    {
     "output_type": "stream",
     "name": "stdout",
     "text": [
      "Here is the list of product in our shop \n",
      " {'Product A': 10000, 'Product B': 15000, 'Product C': 20000, 'Product D': 22000}\n"
     ]
    },
    {
     "output_type": "stream",
     "name": "stdout",
     "text": [
      "Please Input Transaction (ProductName-Quantity) 1: Product A - 10\n",
      "Please Input Transaction (ProductName-Quantity) 2: Product B 20\n"
     ]
    },
    {
     "output_type": "stream",
     "name": "stdout",
     "text": [
      "Input Wrong Format! Please check again\n"
     ]
    },
    {
     "output_type": "stream",
     "name": "stdout",
     "text": [
      "Please Input Transaction (ProductName-Quantity) 2: Product B 20.5\n"
     ]
    },
    {
     "output_type": "stream",
     "name": "stdout",
     "text": [
      "Input Wrong Format! Please check again\n"
     ]
    },
    {
     "output_type": "stream",
     "name": "stdout",
     "text": [
      "Please Input Transaction (ProductName-Quantity) 2: product B : 20.5\n",
      "Please Input Transaction (ProductName-Quantity) 3: Product c - 5\n"
     ]
    },
    {
     "output_type": "stream",
     "name": "stdout",
     "text": [
      "You already finish input 3 products\n"
     ]
    }
   ],
   "metadata": {}
  },
  {
   "cell_type": "code",
   "execution_count": 148,
   "source": [
    "print(f\"The List of your buying products is \\n {BuySeries}\")\n",
    "\n",
    "print(\"==\"*35)\n",
    "print(\"Here is your order 1\")\n",
    "total = 0\n",
    "for product, quantity in BuySeries.items():\n",
    "    total += quantity\n",
    "    print(f\"\\t Item {product}: {quantity}\")\n",
    "print(f\"Total Quantity : {total}\")\n",
    "\n",
    "print(\"==\"*35)\n",
    "ProductNameList = \"\\t\".join([\"Item \" + str(idx) + \":\" + product for idx, (product, quantity) in \n",
    "                             zip(range(len(BuySeries)), BuySeries.items())])\n",
    "ProductQuantityList = \"\\t\\t\\t\".join([str(quantity) for idx, (product, quantity) in \n",
    "                             zip(range(len(BuySeries)), BuySeries.items())])\n",
    "print(ProductNameList)\n",
    "print(ProductQuantityList)\n",
    "print(\"==\"*35)"
   ],
   "outputs": [
    {
     "output_type": "stream",
     "name": "stdout",
     "text": [
      "The List of your buying products is \n",
      " {'Product A': 10.0, 'Product B': 20.5, 'Product C': 5.0}\n",
      "======================================================================\n",
      "Here is your order 1\n",
      "\t Item Product A: 10.0\n",
      "\t Item Product B: 20.5\n",
      "\t Item Product C: 5.0\n",
      "Total Quantity : 35.5\n",
      "======================================================================\n",
      "Item 0:Product A\tItem 1:Product B\tItem 2:Product C\n",
      "10.0\t\t\t20.5\t\t\t5.0\n",
      "======================================================================\n"
     ]
    }
   ],
   "metadata": {}
  },
  {
   "cell_type": "code",
   "execution_count": 124,
   "source": [
    "# More Question : Modify the code to allow user input transaction. Each time, ask the question\n",
    "# \"Do you want to continue (Yes/No)\". If user input No we stop the transactions"
   ],
   "outputs": [],
   "metadata": {}
  },
  {
   "cell_type": "code",
   "execution_count": 150,
   "source": [
    "!pip install googletrans==3.1.0a0"
   ],
   "outputs": [
    {
     "output_type": "stream",
     "name": "stdout",
     "text": [
      "Collecting googletrans==3.1.0a0\n",
      "  Using cached googletrans-3.1.0a0.tar.gz (19 kB)\n",
      "Collecting httpx==0.13.3\n",
      "  Using cached httpx-0.13.3-py3-none-any.whl (55 kB)\n",
      "Collecting chardet==3.*\n",
      "  Downloading chardet-3.0.4-py2.py3-none-any.whl (133 kB)\n",
      "Collecting idna==2.*\n",
      "  Downloading idna-2.10-py2.py3-none-any.whl (58 kB)\n",
      "Requirement already satisfied: sniffio in c:\\users\\asus\\anaconda3\\envs\\python programming\\lib\\site-packages (from httpx==0.13.3->googletrans==3.1.0a0) (1.2.0)\n",
      "Collecting httpcore==0.9.*\n",
      "  Using cached httpcore-0.9.1-py3-none-any.whl (42 kB)\n",
      "Collecting hstspreload\n",
      "  Downloading hstspreload-2021.8.1-py3-none-any.whl (1.2 MB)\n",
      "Requirement already satisfied: certifi in c:\\users\\asus\\anaconda3\\envs\\python programming\\lib\\site-packages (from httpx==0.13.3->googletrans==3.1.0a0) (2021.5.30)\n",
      "Collecting rfc3986<2,>=1.3\n",
      "  Using cached rfc3986-1.5.0-py2.py3-none-any.whl (31 kB)\n",
      "Collecting h2==3.*\n",
      "  Using cached h2-3.2.0-py2.py3-none-any.whl (65 kB)\n",
      "Collecting h11<0.10,>=0.8\n",
      "  Using cached h11-0.9.0-py2.py3-none-any.whl (53 kB)\n",
      "Collecting hpack<4,>=3.0\n",
      "  Using cached hpack-3.0.0-py2.py3-none-any.whl (38 kB)\n",
      "Collecting hyperframe<6,>=5.2.0\n",
      "  Using cached hyperframe-5.2.0-py2.py3-none-any.whl (12 kB)\n",
      "Building wheels for collected packages: googletrans\n",
      "  Building wheel for googletrans (setup.py): started\n",
      "  Building wheel for googletrans (setup.py): finished with status 'done'\n",
      "  Created wheel for googletrans: filename=googletrans-3.1.0a0-py3-none-any.whl size=16367 sha256=a6f764ddd75fe63ea2e29626668c465f68a1000586fef9fb8bb13c80f55e8b21\n",
      "  Stored in directory: c:\\users\\asus\\appdata\\local\\pip\\cache\\wheels\\0c\\be\\fe\\93a6a40ffe386e16089e44dad9018ebab9dc4cb9eb7eab65ae\n",
      "Successfully built googletrans\n",
      "Installing collected packages: hyperframe, hpack, h2, h11, rfc3986, idna, httpcore, hstspreload, chardet, httpx, googletrans\n",
      "  Attempting uninstall: idna\n",
      "    Found existing installation: idna 3.2\n",
      "    Uninstalling idna-3.2:\n",
      "      Successfully uninstalled idna-3.2\n",
      "Successfully installed chardet-3.0.4 googletrans-3.1.0a0 h11-0.9.0 h2-3.2.0 hpack-3.0.0 hstspreload-2021.8.1 httpcore-0.9.1 httpx-0.13.3 hyperframe-5.2.0 idna-2.10 rfc3986-1.5.0\n"
     ]
    }
   ],
   "metadata": {}
  },
  {
   "cell_type": "code",
   "execution_count": 151,
   "source": [
    "# Question: Write a Chatting between two users and save the chat as well as translation \n",
    "# from/to vietnamese <--> english in the chat history\n",
    "\n",
    "HistChat = {}\n",
    "user1 = input(\"Please input name of user 1 :\").title()\n",
    "answer = input(\"Please input your chatting language (Vietnamese/English):\").title()\n",
    "lang1 = \"vi\" if answer.strip() == \"Vietnamese\" else \"en\"\n",
    "user2 = input(\"Please input name of user 2 :\").title()\n",
    "answer = input(\"Please input your chatting language (Vietnamese/English):\").title()\n",
    "lang2 = \"vi\" if answer.strip() == \"Vietnamese\" else \"en\""
   ],
   "outputs": [
    {
     "output_type": "stream",
     "name": "stdout",
     "text": [
      "Please input name of user 1 : Tom\n",
      "Please input your chatting language (Vietnamese/English): Vietnamese\n",
      "Please input name of user 2 : Marry\n",
      "Please input your chatting language (Vietnamese/English): English\n"
     ]
    }
   ],
   "metadata": {}
  },
  {
   "cell_type": "code",
   "execution_count": 176,
   "source": [
    "HistChat[user1] = {}\n",
    "HistChat[user1][lang1] = []\n",
    "HistChat[user1][\"Translate\"] = []\n",
    "HistChat[user2] = {}\n",
    "HistChat[user2][lang2] = []\n",
    "HistChat[user2][\"Translate\"] = []\n",
    "display(HistChat)"
   ],
   "outputs": [
    {
     "output_type": "display_data",
     "data": {
      "text/plain": [
       "{'Tom': {'vi': [], 'Translate': []}, 'Marry': {'en': [], 'Translate': []}}"
      ]
     },
     "metadata": {}
    }
   ],
   "metadata": {}
  },
  {
   "cell_type": "code",
   "execution_count": 177,
   "source": [
    "from googletrans import Translator\n",
    "translator = Translator()\n",
    "\n",
    "Name1 = list(HistChat.keys())[0]\n",
    "Name2 = list(HistChat.keys())[1]\n",
    "print(f\"Start Chatting between {Name1} and {Name2} \\n\")\n",
    "while(True):\n",
    "    chat1 = input(f\"{Name1} (Language {lang1}) :\")\n",
    "    HistChat[Name1][lang1].append(chat1)\n",
    "    translate = 'vi' if lang1 == 'en' else 'en'\n",
    "    trans_chat1 = translator.translate(chat1, src=lang1, dest=translate)\n",
    "    HistChat[Name1]['Translate'].append(trans_chat1.text)\n",
    "    print(f\"(Translate {translate}) {trans_chat1.text}\")\n",
    "    \n",
    "    chat2 = input(f\"{Name2} (Language {lang2}) :\")\n",
    "    HistChat[Name2][lang2].append(chat2)\n",
    "    translate = 'vi' if lang2 == 'en' else 'en'\n",
    "    trans_chat2 = translator.translate(chat2, src=lang2, dest=translate)\n",
    "    HistChat[Name2]['Translate'].append(trans_chat2.text)\n",
    "    print(f\"(Translate {translate}) {trans_chat2.text}\")\n",
    "    \n",
    "    if(\"bye\" in chat1.lower() and \"bye\" in chat2.lower()):\n",
    "        print(\"End Chatting\")\n",
    "        break"
   ],
   "outputs": [
    {
     "output_type": "stream",
     "name": "stdout",
     "text": [
      "Start Chatting between Tom and Marry \n",
      "\n"
     ]
    },
    {
     "output_type": "stream",
     "name": "stdout",
     "text": [
      "Tom (Language vi) : Xin chào Marry\n"
     ]
    },
    {
     "output_type": "stream",
     "name": "stdout",
     "text": [
      "(Translate en) Hello Mary\n"
     ]
    },
    {
     "output_type": "stream",
     "name": "stdout",
     "text": [
      "Marry (Language en) : Hello Tom\n"
     ]
    },
    {
     "output_type": "stream",
     "name": "stdout",
     "text": [
      "(Translate vi) xin chào Tom\n"
     ]
    },
    {
     "output_type": "stream",
     "name": "stdout",
     "text": [
      "Tom (Language vi) : Mình muốn mời bạn ăn trưa. Mai bạn rảnh không ?\n"
     ]
    },
    {
     "output_type": "stream",
     "name": "stdout",
     "text": [
      "(Translate en) I want to invite you to lunch. Are you free tomorrow?\n"
     ]
    },
    {
     "output_type": "stream",
     "name": "stdout",
     "text": [
      "Marry (Language en) : Thanks Tom. Tomorrow I am available\n"
     ]
    },
    {
     "output_type": "stream",
     "name": "stdout",
     "text": [
      "(Translate vi) Cảm ơn Tom. Ngày mai tôi sẵn sàng\n"
     ]
    },
    {
     "output_type": "stream",
     "name": "stdout",
     "text": [
      "Tom (Language vi) : Hẹn gặp bạn ngày mai. \n"
     ]
    },
    {
     "output_type": "stream",
     "name": "stdout",
     "text": [
      "(Translate en) See you tomorrow.\n"
     ]
    },
    {
     "output_type": "stream",
     "name": "stdout",
     "text": [
      "Marry (Language en) : See you tomorrow\n"
     ]
    },
    {
     "output_type": "stream",
     "name": "stdout",
     "text": [
      "(Translate vi) Hẹn gặp bạn vào ngày mai\n"
     ]
    },
    {
     "output_type": "stream",
     "name": "stdout",
     "text": [
      "Tom (Language vi) : bye\n"
     ]
    },
    {
     "output_type": "stream",
     "name": "stdout",
     "text": [
      "(Translate en) bye\n"
     ]
    },
    {
     "output_type": "stream",
     "name": "stdout",
     "text": [
      "Marry (Language en) : bye\n"
     ]
    },
    {
     "output_type": "stream",
     "name": "stdout",
     "text": [
      "(Translate vi) từ biệt\n",
      "End Chatting\n"
     ]
    }
   ],
   "metadata": {}
  },
  {
   "cell_type": "code",
   "execution_count": 178,
   "source": [
    "print(\"Which one you want to get history of chatting : \")\n",
    "# user = input()\n",
    "user = \"Tom\"\n",
    "print(f'Here is the history chat of \"{user}\"')\n",
    "display(HistChat.get(user, \"I don't know who you are!\"))"
   ],
   "outputs": [
    {
     "output_type": "stream",
     "name": "stdout",
     "text": [
      "Which one you want to get history of chatting : \n",
      "Here is the history chat of \"Tom\"\n"
     ]
    },
    {
     "output_type": "display_data",
     "data": {
      "text/plain": [
       "{'vi': ['Xin chào Marry',\n",
       "  'Mình muốn mời bạn ăn trưa. Mai bạn rảnh không ?',\n",
       "  'Hẹn gặp bạn ngày mai. ',\n",
       "  'bye'],\n",
       " 'Translate': ['Hello Mary',\n",
       "  'I want to invite you to lunch. Are you free tomorrow?',\n",
       "  'See you tomorrow.',\n",
       "  'bye']}"
      ]
     },
     "metadata": {}
    }
   ],
   "metadata": {}
  },
  {
   "cell_type": "code",
   "execution_count": 179,
   "source": [
    "# Question : Store more information about \"DateTime\" for chatting between Tom and Marry "
   ],
   "outputs": [],
   "metadata": {}
  }
 ],
 "metadata": {
  "kernelspec": {
   "name": "python3",
   "display_name": "Python 3.9.6 64-bit"
  },
  "language_info": {
   "codemirror_mode": {
    "name": "ipython",
    "version": 3
   },
   "file_extension": ".py",
   "mimetype": "text/x-python",
   "name": "python",
   "nbconvert_exporter": "python",
   "pygments_lexer": "ipython3",
   "version": "3.9.6"
  },
  "interpreter": {
   "hash": "b0fa6594d8f4cbf19f97940f81e996739fb7646882a419484c72d19e05852a7e"
  }
 },
 "nbformat": 4,
 "nbformat_minor": 5
}