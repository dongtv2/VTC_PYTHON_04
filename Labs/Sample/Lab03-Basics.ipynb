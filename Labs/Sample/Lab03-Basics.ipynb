{
 "cells": [
  {
   "cell_type": "markdown",
   "source": [
    "# Python Developer for AI\n",
    "Dr. Tran Anh Tuan\n",
    "AI Head of VTCAcademy "
   ],
   "metadata": {}
  },
  {
   "cell_type": "code",
   "execution_count": 1,
   "source": [
    "import numpy as np\n",
    "import pandas as pd \n",
    "import json\n",
    "import re"
   ],
   "outputs": [],
   "metadata": {}
  },
  {
   "cell_type": "code",
   "execution_count": null,
   "source": [
    "from IPython.display import display, Image\n",
    "display(Image(filename='Regular Expression.png'))\n",
    "display(Image(filename='regex.png'))"
   ],
   "outputs": [],
   "metadata": {}
  },
  {
   "cell_type": "code",
   "execution_count": 81,
   "source": [
    "# Question 1 : Write a program to allow user to input a transaction with product name and quatity \n",
    "# and then print order \n",
    "\n",
    "# Data  \n",
    "ProductJSON = \"\"\"\n",
    "{\n",
    "    \"Product A\" : 10000,\n",
    "    \"Product B\" : 15000,\n",
    "    \"Product C\" : 20000,\n",
    "    \"Product D\" : 22000\n",
    "}\n",
    "\"\"\"\n",
    "# Load Data\n",
    "ProductSeries = json.loads(ProductJSON)\n",
    "display(ProductSeries)"
   ],
   "outputs": [
    {
     "output_type": "display_data",
     "data": {
      "text/plain": [
       "{'Product A': 10000,\n",
       " 'Product B': 15000,\n",
       " 'Product C': 20000,\n",
       " 'Product D': 22000}"
      ]
     },
     "metadata": {}
    }
   ],
   "metadata": {}
  },
  {
   "cell_type": "code",
   "execution_count": 33,
   "source": [
    "# Initialization\n",
    "nBuy = int(input(f\"How many Products you want to Buy:\"))"
   ],
   "outputs": [
    {
     "output_type": "stream",
     "name": "stdout",
     "text": [
      "How many Products you want to Buy: 3\n"
     ]
    }
   ],
   "metadata": {}
  },
  {
   "cell_type": "code",
   "execution_count": 118,
   "source": [
    "BuySeries = {}\r\n",
    "print(f\"Here is the list of product in our shop \\n {ProductSeries}\")\r\n",
    "while(True):\r\n",
    "    count = len(BuySeries)\r\n",
    "    ask = f\"Please Input Transaction (ProductName-Quantity) {count + 1}:\"\r\n",
    "    answer = input(ask).title()\r\n",
    "    \r\n",
    "    DataInput = re.findall(r\"[\\w. ]+\", answer)\r\n",
    "    \r\n",
    "    Condition1 = len(DataInput) != 2\r\n",
    "    if(Condition1):\r\n",
    "        print(\"Input Wrong Format! Please check again\")\r\n",
    "        continue\r\n",
    "    \r\n",
    "    DataInput[0] = ' '.join(DataInput[0].split())\r\n",
    "    DataInput[1] = DataInput[1].replace(' ','')\r\n",
    "    \r\n",
    "    Condition2 = not DataInput[1].replace('.','',1).isdigit()\r\n",
    "    Condition3 = DataInput[0] not in ProductSeries.keys()\r\n",
    "    \r\n",
    "    if(Condition2 | Condition3): \r\n",
    "        continue\r\n",
    "    else:\r\n",
    "        BuySeries[DataInput[0]] = float(DataInput[1])\r\n",
    "    \r\n",
    "    if (count + 1 == nBuy):\r\n",
    "        print(f\"You already finish input {nBuy} products\")\r\n",
    "        break"
   ],
   "outputs": [
    {
     "output_type": "stream",
     "name": "stdout",
     "text": [
      "Here is the list of product in our shop \n",
      " {'Product A': 10000, 'Product B': 15000, 'Product C': 20000, 'Product D': 22000}\n"
     ]
    },
    {
     "output_type": "stream",
     "name": "stdout",
     "text": [
      "Please Input Transaction (ProductName-Quantity) 1: Product A - 10\n",
      "Please Input Transaction (ProductName-Quantity) 2: Product B 20\n"
     ]
    },
    {
     "output_type": "stream",
     "name": "stdout",
     "text": [
      "Input Wrong Format! Please check again\n"
     ]
    },
    {
     "output_type": "stream",
     "name": "stdout",
     "text": [
      "Please Input Transaction (ProductName-Quantity) 2: Product B 20.5\n"
     ]
    },
    {
     "output_type": "stream",
     "name": "stdout",
     "text": [
      "Input Wrong Format! Please check again\n"
     ]
    },
    {
     "output_type": "stream",
     "name": "stdout",
     "text": [
      "Please Input Transaction (ProductName-Quantity) 2: product B : 20.5\n",
      "Please Input Transaction (ProductName-Quantity) 3: Product c - 5\n"
     ]
    },
    {
     "output_type": "stream",
     "name": "stdout",
     "text": [
      "You already finish input 3 products\n"
     ]
    }
   ],
   "metadata": {}
  },
  {
   "cell_type": "code",
   "execution_count": 148,
   "source": [
    "print(f\"The List of your buying products is \\n {BuySeries}\")\r\n",
    "\r\n",
    "print(\"==\"*35)\r\n",
    "print(\"Here is your order 1\")\r\n",
    "total = 0\r\n",
    "for product, quantity in BuySeries.items():\r\n",
    "    total += quantity\r\n",
    "    print(f\"\\t Item {product}: {quantity}\")\r\n",
    "print(f\"Total Quantity : {total}\")\r\n",
    "\r\n",
    "print(\"==\"*35)\r\n",
    "ProductNameList = \"\\t\".join([\"Item \" + str(idx) + \":\" + product for idx, (product, quantity) in \r\n",
    "                             zip(range(len(BuySeries)), BuySeries.items())])\r\n",
    "ProductQuantityList = \"\\t\\t\\t\".join([str(quantity) for idx, (product, quantity) in \r\n",
    "                             zip(range(len(BuySeries)), BuySeries.items())])\r\n",
    "print(ProductNameList)\r\n",
    "print(ProductQuantityList)\r\n",
    "print(\"==\"*35)"
   ],
   "outputs": [
    {
     "output_type": "stream",
     "name": "stdout",
     "text": [
      "The List of your buying products is \n",
      " {'Product A': 10.0, 'Product B': 20.5, 'Product C': 5.0}\n",
      "======================================================================\n",
      "Here is your order 1\n",
      "\t Item Product A: 10.0\n",
      "\t Item Product B: 20.5\n",
      "\t Item Product C: 5.0\n",
      "Total Quantity : 35.5\n",
      "======================================================================\n",
      "Item 0:Product A\tItem 1:Product B\tItem 2:Product C\n",
      "10.0\t\t\t20.5\t\t\t5.0\n",
      "======================================================================\n"
     ]
    }
   ],
   "metadata": {}
  },
  {
   "cell_type": "code",
   "execution_count": 124,
   "source": [
    "# More Question : Modify the code to allow user input transaction. Each time, ask the question\r\n",
    "# \"Do you want to continue (Yes/No)\". If user input No we stop the transactions"
   ],
   "outputs": [],
   "metadata": {}
  },
  {
   "cell_type": "code",
   "execution_count": null,
   "source": [
    "# !pip install googletrans==3.1.0a0 --> Install package"
   ],
   "outputs": [],
   "metadata": {}
  },
  {
   "cell_type": "code",
   "execution_count": 151,
   "source": [
    "# Question: Write a Chatting between two users and save the chat as well as translation \r\n",
    "# from/to vietnamese <--> english in the chat history\r\n",
    "\r\n",
    "HistChat = {}\r\n",
    "user1 = input(\"Please input name of user 1 :\").title()\r\n",
    "answer = input(\"Please input your chatting language (Vietnamese/English):\").title()\r\n",
    "lang1 = \"vi\" if answer.strip() == \"Vietnamese\" else \"en\"\r\n",
    "user2 = input(\"Please input name of user 2 :\").title()\r\n",
    "answer = input(\"Please input your chatting language (Vietnamese/English):\").title()\r\n",
    "lang2 = \"vi\" if answer.strip() == \"Vietnamese\" else \"en\""
   ],
   "outputs": [
    {
     "output_type": "stream",
     "name": "stdout",
     "text": [
      "Please input name of user 1 : Tom\n",
      "Please input your chatting language (Vietnamese/English): Vietnamese\n",
      "Please input name of user 2 : Marry\n",
      "Please input your chatting language (Vietnamese/English): English\n"
     ]
    }
   ],
   "metadata": {}
  },
  {
   "cell_type": "code",
   "execution_count": 176,
   "source": [
    "HistChat[user1] = {}\r\n",
    "HistChat[user1][lang1] = []\r\n",
    "HistChat[user1][\"Translate\"] = []\r\n",
    "HistChat[user2] = {}\r\n",
    "HistChat[user2][lang2] = []\r\n",
    "HistChat[user2][\"Translate\"] = []\r\n",
    "display(HistChat)"
   ],
   "outputs": [
    {
     "output_type": "display_data",
     "data": {
      "text/plain": [
       "{'Tom': {'vi': [], 'Translate': []}, 'Marry': {'en': [], 'Translate': []}}"
      ]
     },
     "metadata": {}
    }
   ],
   "metadata": {}
  },
  {
   "cell_type": "code",
   "execution_count": 177,
   "source": [
    "from googletrans import Translator\r\n",
    "translator = Translator()\r\n",
    "\r\n",
    "Name1 = list(HistChat.keys())[0]\r\n",
    "Name2 = list(HistChat.keys())[1]\r\n",
    "print(f\"Start Chatting between {Name1} and {Name2} \\n\")\r\n",
    "while(True):\r\n",
    "    chat1 = input(f\"{Name1} (Language {lang1}) :\")\r\n",
    "    HistChat[Name1][lang1].append(chat1)\r\n",
    "    translate = 'vi' if lang1 == 'en' else 'en'\r\n",
    "    trans_chat1 = translator.translate(chat1, src=lang1, dest=translate)\r\n",
    "    HistChat[Name1]['Translate'].append(trans_chat1.text)\r\n",
    "    print(f\"(Translate {translate}) {trans_chat1.text}\")\r\n",
    "    \r\n",
    "    chat2 = input(f\"{Name2} (Language {lang2}) :\")\r\n",
    "    HistChat[Name2][lang2].append(chat2)\r\n",
    "    translate = 'vi' if lang2 == 'en' else 'en'\r\n",
    "    trans_chat2 = translator.translate(chat2, src=lang2, dest=translate)\r\n",
    "    HistChat[Name2]['Translate'].append(trans_chat2.text)\r\n",
    "    print(f\"(Translate {translate}) {trans_chat2.text}\")\r\n",
    "    \r\n",
    "    if(\"bye\" in chat1.lower() and \"bye\" in chat2.lower()):\r\n",
    "        print(\"End Chatting\")\r\n",
    "        break"
   ],
   "outputs": [
    {
     "output_type": "stream",
     "name": "stdout",
     "text": [
      "Start Chatting between Tom and Marry \n",
      "\n"
     ]
    },
    {
     "output_type": "stream",
     "name": "stdout",
     "text": [
      "Tom (Language vi) : Xin chào Marry\n"
     ]
    },
    {
     "output_type": "stream",
     "name": "stdout",
     "text": [
      "(Translate en) Hello Mary\n"
     ]
    },
    {
     "output_type": "stream",
     "name": "stdout",
     "text": [
      "Marry (Language en) : Hello Tom\n"
     ]
    },
    {
     "output_type": "stream",
     "name": "stdout",
     "text": [
      "(Translate vi) xin chào Tom\n"
     ]
    },
    {
     "output_type": "stream",
     "name": "stdout",
     "text": [
      "Tom (Language vi) : Mình muốn mời bạn ăn trưa. Mai bạn rảnh không ?\n"
     ]
    },
    {
     "output_type": "stream",
     "name": "stdout",
     "text": [
      "(Translate en) I want to invite you to lunch. Are you free tomorrow?\n"
     ]
    },
    {
     "output_type": "stream",
     "name": "stdout",
     "text": [
      "Marry (Language en) : Thanks Tom. Tomorrow I am available\n"
     ]
    },
    {
     "output_type": "stream",
     "name": "stdout",
     "text": [
      "(Translate vi) Cảm ơn Tom. Ngày mai tôi sẵn sàng\n"
     ]
    },
    {
     "output_type": "stream",
     "name": "stdout",
     "text": [
      "Tom (Language vi) : Hẹn gặp bạn ngày mai. \n"
     ]
    },
    {
     "output_type": "stream",
     "name": "stdout",
     "text": [
      "(Translate en) See you tomorrow.\n"
     ]
    },
    {
     "output_type": "stream",
     "name": "stdout",
     "text": [
      "Marry (Language en) : See you tomorrow\n"
     ]
    },
    {
     "output_type": "stream",
     "name": "stdout",
     "text": [
      "(Translate vi) Hẹn gặp bạn vào ngày mai\n"
     ]
    },
    {
     "output_type": "stream",
     "name": "stdout",
     "text": [
      "Tom (Language vi) : bye\n"
     ]
    },
    {
     "output_type": "stream",
     "name": "stdout",
     "text": [
      "(Translate en) bye\n"
     ]
    },
    {
     "output_type": "stream",
     "name": "stdout",
     "text": [
      "Marry (Language en) : bye\n"
     ]
    },
    {
     "output_type": "stream",
     "name": "stdout",
     "text": [
      "(Translate vi) từ biệt\n",
      "End Chatting\n"
     ]
    }
   ],
   "metadata": {}
  },
  {
   "cell_type": "code",
   "execution_count": 178,
   "source": [
    "print(\"Which one you want to get history of chatting : \")\r\n",
    "# user = input()\r\n",
    "user = \"Tom\"\r\n",
    "print(f'Here is the history chat of \"{user}\"')\r\n",
    "display(HistChat.get(user, \"I don't know who you are!\"))"
   ],
   "outputs": [
    {
     "output_type": "stream",
     "name": "stdout",
     "text": [
      "Which one you want to get history of chatting : \n",
      "Here is the history chat of \"Tom\"\n"
     ]
    },
    {
     "output_type": "display_data",
     "data": {
      "text/plain": [
       "{'vi': ['Xin chào Marry',\n",
       "  'Mình muốn mời bạn ăn trưa. Mai bạn rảnh không ?',\n",
       "  'Hẹn gặp bạn ngày mai. ',\n",
       "  'bye'],\n",
       " 'Translate': ['Hello Mary',\n",
       "  'I want to invite you to lunch. Are you free tomorrow?',\n",
       "  'See you tomorrow.',\n",
       "  'bye']}"
      ]
     },
     "metadata": {}
    }
   ],
   "metadata": {}
  },
  {
   "cell_type": "code",
   "execution_count": 179,
   "source": [
    "# Question : Store more information about \"DateTime\" for chatting between Tom and Marry "
   ],
   "outputs": [],
   "metadata": {}
  }
 ],
 "metadata": {
  "kernelspec": {
   "name": "python3",
   "display_name": "Python 3.9.6 64-bit"
  },
  "language_info": {
   "codemirror_mode": {
    "name": "ipython",
    "version": 3
   },
   "file_extension": ".py",
   "mimetype": "text/x-python",
   "name": "python",
   "nbconvert_exporter": "python",
   "pygments_lexer": "ipython3",
   "version": "3.9.6"
  },
  "interpreter": {
   "hash": "b0fa6594d8f4cbf19f97940f81e996739fb7646882a419484c72d19e05852a7e"
  }
 },
 "nbformat": 4,
 "nbformat_minor": 5
}