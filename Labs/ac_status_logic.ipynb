{
    "cells": [
        {
            "cell_type": "code",
            "execution_count": 3,
            "source": [
                "import datetime as dt\r\n",
                "\r\n",
                "nowday = dt.datetime.now()\r\n",
                "\r\n",
                "wo_status =['Open','Closed']\r\n",
                "wo_task_duedate = []\r\n",
                "\r\n",
                "print(nowday)\r\n",
                "# Check condition for AMS task\r\n",
                "if wo_status[1] == 'Closed':\r\n",
                "      print('AC OPERATION')\r\n",
                "      # Find find pre-fix : [UPTO1M] [MT1M] [UPTO3M "
            ],
            "outputs": [
                {
                    "output_type": "stream",
                    "name": "stdout",
                    "text": [
                        "2021-09-14 14:12:48.397107\n",
                        "AC OPERATION\n"
                    ]
                }
            ],
            "metadata": {}
        }
    ],
    "metadata": {
        "orig_nbformat": 4,
        "language_info": {
            "name": "python",
            "version": "3.9.7",
            "mimetype": "text/x-python",
            "codemirror_mode": {
                "name": "ipython",
                "version": 3
            },
            "pygments_lexer": "ipython3",
            "nbconvert_exporter": "python",
            "file_extension": ".py"
        },
        "kernelspec": {
            "name": "python3",
            "display_name": "Python 3.9.7 64-bit ('.venv': venv)"
        },
        "interpreter": {
            "hash": "990db74c68a4ad8840817df42270103b57a024fca530d8647263614be491db87"
        }
    },
    "nbformat": 4,
    "nbformat_minor": 2
}